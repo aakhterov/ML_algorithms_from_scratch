{
  "nbformat": 4,
  "nbformat_minor": 0,
  "metadata": {
    "colab": {
      "provenance": [],
      "toc_visible": true,
      "authorship_tag": "ABX9TyODqVsNK5BG14cddHEEpELx",
      "include_colab_link": true
    },
    "kernelspec": {
      "name": "python3",
      "display_name": "Python 3"
    },
    "language_info": {
      "name": "python"
    }
  },
  "cells": [
    {
      "cell_type": "markdown",
      "metadata": {
        "id": "view-in-github",
        "colab_type": "text"
      },
      "source": [
        "<a href=\"https://colab.research.google.com/github/aakhterov/ML_algorithms_from_scratch/blob/master/A_B_testing_practice.ipynb\" target=\"_parent\"><img src=\"https://colab.research.google.com/assets/colab-badge.svg\" alt=\"Open In Colab\"/></a>"
      ]
    },
    {
      "cell_type": "markdown",
      "source": [
        "# Step 0 - Getting Started\n",
        "\n",
        "\"Graffit\" is a mobile app for listening to and watching various audio and video sources, making bookmarks, and transcribing audio fragments into text.\n",
        "\n",
        "A graffit's team uses social media advertising to attract potential customers to their site. A product manager thinks the current ad banner can be improved and increase CTR. A new banner is ready but the product manager wants to conduct an A/B test before launching.\n",
        "\n",
        "**Note**: The notebook based on the AB Testing Course on https://www.datainterview.com"
      ],
      "metadata": {
        "id": "OZy9ygMBH7v8"
      }
    },
    {
      "cell_type": "code",
      "execution_count": 54,
      "metadata": {
        "colab": {
          "base_uri": "https://localhost:8080/"
        },
        "id": "wOrN9urfCvlk",
        "outputId": "8d99abd3-b969-469b-eeea-a7847031d84e"
      },
      "outputs": [
        {
          "output_type": "stream",
          "name": "stdout",
          "text": [
            "Drive already mounted at /content/drive/; to attempt to forcibly remount, call drive.mount(\"/content/drive/\", force_remount=True).\n"
          ]
        }
      ],
      "source": [
        "from datetime import datetime\n",
        "import math\n",
        "import seaborn as sns\n",
        "import pandas as pd\n",
        "import numpy as np\n",
        "import scipy.stats as stats\n",
        "import statsmodels.api as sm\n",
        "import matplotlib.pyplot as plt\n",
        "from matplotlib.dates import DateFormatter\n",
        "from matplotlib.ticker import MultipleLocator\n",
        "from statsmodels.stats.power import TTestIndPower, tt_ind_solve_power, zt_ind_solve_power\n",
        "from statsmodels.stats.weightstats import ttest_ind\n",
        "from statsmodels.stats.proportion import proportions_chisquare, confint_proportions_2indep\n",
        "from scipy.stats import norm\n",
        "\n",
        "from google.colab import drive\n",
        "drive.mount('/content/drive/')\n",
        "\n",
        "# Disable warnings\n",
        "from warnings import filterwarnings\n",
        "filterwarnings('ignore')\n",
        "\n",
        "SEED = 123\n",
        "np.random.seed(SEED)"
      ]
    },
    {
      "cell_type": "markdown",
      "source": [
        "# Step 1 - Understand the Business Problem\n",
        "\n",
        "The first crucial step in AB testing is to understand the business problem. A vital aspect in understanding the business problem is exploring the data."
      ],
      "metadata": {
        "id": "CJko9DeqUjtl"
      }
    },
    {
      "cell_type": "code",
      "source": [
        "# Load pretest data\n",
        "df = pd.read_csv(\"/content/drive/MyDrive/Colab Notebooks/Data/a_b_test_ctr.csv\")\n",
        "df['Date'] = pd.to_datetime(df['Date'], format='%d.%m.%y')\n",
        "df.head()"
      ],
      "metadata": {
        "colab": {
          "base_uri": "https://localhost:8080/",
          "height": 206
        },
        "id": "2R-Z7qN9lCOe",
        "outputId": "4c34dc71-d9e8-4ce5-9936-7e393f701240"
      },
      "execution_count": 55,
      "outputs": [
        {
          "output_type": "execute_result",
          "data": {
            "text/plain": [
              "        Date  Impressions  Clicks  is_new_banner\n",
              "0 2023-09-01        15159     193              0\n",
              "1 2023-09-02        15014      90              0\n",
              "2 2023-09-03        15219     148              0\n",
              "3 2023-09-04        14970     146              0\n",
              "4 2023-09-05        15016     125              0"
            ],
            "text/html": [
              "\n",
              "  <div id=\"df-a750d564-a2ae-4d37-b85b-5dcd406c40cf\" class=\"colab-df-container\">\n",
              "    <div>\n",
              "<style scoped>\n",
              "    .dataframe tbody tr th:only-of-type {\n",
              "        vertical-align: middle;\n",
              "    }\n",
              "\n",
              "    .dataframe tbody tr th {\n",
              "        vertical-align: top;\n",
              "    }\n",
              "\n",
              "    .dataframe thead th {\n",
              "        text-align: right;\n",
              "    }\n",
              "</style>\n",
              "<table border=\"1\" class=\"dataframe\">\n",
              "  <thead>\n",
              "    <tr style=\"text-align: right;\">\n",
              "      <th></th>\n",
              "      <th>Date</th>\n",
              "      <th>Impressions</th>\n",
              "      <th>Clicks</th>\n",
              "      <th>is_new_banner</th>\n",
              "    </tr>\n",
              "  </thead>\n",
              "  <tbody>\n",
              "    <tr>\n",
              "      <th>0</th>\n",
              "      <td>2023-09-01</td>\n",
              "      <td>15159</td>\n",
              "      <td>193</td>\n",
              "      <td>0</td>\n",
              "    </tr>\n",
              "    <tr>\n",
              "      <th>1</th>\n",
              "      <td>2023-09-02</td>\n",
              "      <td>15014</td>\n",
              "      <td>90</td>\n",
              "      <td>0</td>\n",
              "    </tr>\n",
              "    <tr>\n",
              "      <th>2</th>\n",
              "      <td>2023-09-03</td>\n",
              "      <td>15219</td>\n",
              "      <td>148</td>\n",
              "      <td>0</td>\n",
              "    </tr>\n",
              "    <tr>\n",
              "      <th>3</th>\n",
              "      <td>2023-09-04</td>\n",
              "      <td>14970</td>\n",
              "      <td>146</td>\n",
              "      <td>0</td>\n",
              "    </tr>\n",
              "    <tr>\n",
              "      <th>4</th>\n",
              "      <td>2023-09-05</td>\n",
              "      <td>15016</td>\n",
              "      <td>125</td>\n",
              "      <td>0</td>\n",
              "    </tr>\n",
              "  </tbody>\n",
              "</table>\n",
              "</div>\n",
              "    <div class=\"colab-df-buttons\">\n",
              "\n",
              "  <div class=\"colab-df-container\">\n",
              "    <button class=\"colab-df-convert\" onclick=\"convertToInteractive('df-a750d564-a2ae-4d37-b85b-5dcd406c40cf')\"\n",
              "            title=\"Convert this dataframe to an interactive table.\"\n",
              "            style=\"display:none;\">\n",
              "\n",
              "  <svg xmlns=\"http://www.w3.org/2000/svg\" height=\"24px\" viewBox=\"0 -960 960 960\">\n",
              "    <path d=\"M120-120v-720h720v720H120Zm60-500h600v-160H180v160Zm220 220h160v-160H400v160Zm0 220h160v-160H400v160ZM180-400h160v-160H180v160Zm440 0h160v-160H620v160ZM180-180h160v-160H180v160Zm440 0h160v-160H620v160Z\"/>\n",
              "  </svg>\n",
              "    </button>\n",
              "\n",
              "  <style>\n",
              "    .colab-df-container {\n",
              "      display:flex;\n",
              "      gap: 12px;\n",
              "    }\n",
              "\n",
              "    .colab-df-convert {\n",
              "      background-color: #E8F0FE;\n",
              "      border: none;\n",
              "      border-radius: 50%;\n",
              "      cursor: pointer;\n",
              "      display: none;\n",
              "      fill: #1967D2;\n",
              "      height: 32px;\n",
              "      padding: 0 0 0 0;\n",
              "      width: 32px;\n",
              "    }\n",
              "\n",
              "    .colab-df-convert:hover {\n",
              "      background-color: #E2EBFA;\n",
              "      box-shadow: 0px 1px 2px rgba(60, 64, 67, 0.3), 0px 1px 3px 1px rgba(60, 64, 67, 0.15);\n",
              "      fill: #174EA6;\n",
              "    }\n",
              "\n",
              "    .colab-df-buttons div {\n",
              "      margin-bottom: 4px;\n",
              "    }\n",
              "\n",
              "    [theme=dark] .colab-df-convert {\n",
              "      background-color: #3B4455;\n",
              "      fill: #D2E3FC;\n",
              "    }\n",
              "\n",
              "    [theme=dark] .colab-df-convert:hover {\n",
              "      background-color: #434B5C;\n",
              "      box-shadow: 0px 1px 3px 1px rgba(0, 0, 0, 0.15);\n",
              "      filter: drop-shadow(0px 1px 2px rgba(0, 0, 0, 0.3));\n",
              "      fill: #FFFFFF;\n",
              "    }\n",
              "  </style>\n",
              "\n",
              "    <script>\n",
              "      const buttonEl =\n",
              "        document.querySelector('#df-a750d564-a2ae-4d37-b85b-5dcd406c40cf button.colab-df-convert');\n",
              "      buttonEl.style.display =\n",
              "        google.colab.kernel.accessAllowed ? 'block' : 'none';\n",
              "\n",
              "      async function convertToInteractive(key) {\n",
              "        const element = document.querySelector('#df-a750d564-a2ae-4d37-b85b-5dcd406c40cf');\n",
              "        const dataTable =\n",
              "          await google.colab.kernel.invokeFunction('convertToInteractive',\n",
              "                                                    [key], {});\n",
              "        if (!dataTable) return;\n",
              "\n",
              "        const docLinkHtml = 'Like what you see? Visit the ' +\n",
              "          '<a target=\"_blank\" href=https://colab.research.google.com/notebooks/data_table.ipynb>data table notebook</a>'\n",
              "          + ' to learn more about interactive tables.';\n",
              "        element.innerHTML = '';\n",
              "        dataTable['output_type'] = 'display_data';\n",
              "        await google.colab.output.renderOutput(dataTable, element);\n",
              "        const docLink = document.createElement('div');\n",
              "        docLink.innerHTML = docLinkHtml;\n",
              "        element.appendChild(docLink);\n",
              "      }\n",
              "    </script>\n",
              "  </div>\n",
              "\n",
              "\n",
              "<div id=\"df-18980377-0af4-47c4-88af-f0f2a3b53f48\">\n",
              "  <button class=\"colab-df-quickchart\" onclick=\"quickchart('df-18980377-0af4-47c4-88af-f0f2a3b53f48')\"\n",
              "            title=\"Suggest charts.\"\n",
              "            style=\"display:none;\">\n",
              "\n",
              "<svg xmlns=\"http://www.w3.org/2000/svg\" height=\"24px\"viewBox=\"0 0 24 24\"\n",
              "     width=\"24px\">\n",
              "    <g>\n",
              "        <path d=\"M19 3H5c-1.1 0-2 .9-2 2v14c0 1.1.9 2 2 2h14c1.1 0 2-.9 2-2V5c0-1.1-.9-2-2-2zM9 17H7v-7h2v7zm4 0h-2V7h2v10zm4 0h-2v-4h2v4z\"/>\n",
              "    </g>\n",
              "</svg>\n",
              "  </button>\n",
              "\n",
              "<style>\n",
              "  .colab-df-quickchart {\n",
              "      --bg-color: #E8F0FE;\n",
              "      --fill-color: #1967D2;\n",
              "      --hover-bg-color: #E2EBFA;\n",
              "      --hover-fill-color: #174EA6;\n",
              "      --disabled-fill-color: #AAA;\n",
              "      --disabled-bg-color: #DDD;\n",
              "  }\n",
              "\n",
              "  [theme=dark] .colab-df-quickchart {\n",
              "      --bg-color: #3B4455;\n",
              "      --fill-color: #D2E3FC;\n",
              "      --hover-bg-color: #434B5C;\n",
              "      --hover-fill-color: #FFFFFF;\n",
              "      --disabled-bg-color: #3B4455;\n",
              "      --disabled-fill-color: #666;\n",
              "  }\n",
              "\n",
              "  .colab-df-quickchart {\n",
              "    background-color: var(--bg-color);\n",
              "    border: none;\n",
              "    border-radius: 50%;\n",
              "    cursor: pointer;\n",
              "    display: none;\n",
              "    fill: var(--fill-color);\n",
              "    height: 32px;\n",
              "    padding: 0;\n",
              "    width: 32px;\n",
              "  }\n",
              "\n",
              "  .colab-df-quickchart:hover {\n",
              "    background-color: var(--hover-bg-color);\n",
              "    box-shadow: 0 1px 2px rgba(60, 64, 67, 0.3), 0 1px 3px 1px rgba(60, 64, 67, 0.15);\n",
              "    fill: var(--button-hover-fill-color);\n",
              "  }\n",
              "\n",
              "  .colab-df-quickchart-complete:disabled,\n",
              "  .colab-df-quickchart-complete:disabled:hover {\n",
              "    background-color: var(--disabled-bg-color);\n",
              "    fill: var(--disabled-fill-color);\n",
              "    box-shadow: none;\n",
              "  }\n",
              "\n",
              "  .colab-df-spinner {\n",
              "    border: 2px solid var(--fill-color);\n",
              "    border-color: transparent;\n",
              "    border-bottom-color: var(--fill-color);\n",
              "    animation:\n",
              "      spin 1s steps(1) infinite;\n",
              "  }\n",
              "\n",
              "  @keyframes spin {\n",
              "    0% {\n",
              "      border-color: transparent;\n",
              "      border-bottom-color: var(--fill-color);\n",
              "      border-left-color: var(--fill-color);\n",
              "    }\n",
              "    20% {\n",
              "      border-color: transparent;\n",
              "      border-left-color: var(--fill-color);\n",
              "      border-top-color: var(--fill-color);\n",
              "    }\n",
              "    30% {\n",
              "      border-color: transparent;\n",
              "      border-left-color: var(--fill-color);\n",
              "      border-top-color: var(--fill-color);\n",
              "      border-right-color: var(--fill-color);\n",
              "    }\n",
              "    40% {\n",
              "      border-color: transparent;\n",
              "      border-right-color: var(--fill-color);\n",
              "      border-top-color: var(--fill-color);\n",
              "    }\n",
              "    60% {\n",
              "      border-color: transparent;\n",
              "      border-right-color: var(--fill-color);\n",
              "    }\n",
              "    80% {\n",
              "      border-color: transparent;\n",
              "      border-right-color: var(--fill-color);\n",
              "      border-bottom-color: var(--fill-color);\n",
              "    }\n",
              "    90% {\n",
              "      border-color: transparent;\n",
              "      border-bottom-color: var(--fill-color);\n",
              "    }\n",
              "  }\n",
              "</style>\n",
              "\n",
              "  <script>\n",
              "    async function quickchart(key) {\n",
              "      const quickchartButtonEl =\n",
              "        document.querySelector('#' + key + ' button');\n",
              "      quickchartButtonEl.disabled = true;  // To prevent multiple clicks.\n",
              "      quickchartButtonEl.classList.add('colab-df-spinner');\n",
              "      try {\n",
              "        const charts = await google.colab.kernel.invokeFunction(\n",
              "            'suggestCharts', [key], {});\n",
              "      } catch (error) {\n",
              "        console.error('Error during call to suggestCharts:', error);\n",
              "      }\n",
              "      quickchartButtonEl.classList.remove('colab-df-spinner');\n",
              "      quickchartButtonEl.classList.add('colab-df-quickchart-complete');\n",
              "    }\n",
              "    (() => {\n",
              "      let quickchartButtonEl =\n",
              "        document.querySelector('#df-18980377-0af4-47c4-88af-f0f2a3b53f48 button');\n",
              "      quickchartButtonEl.style.display =\n",
              "        google.colab.kernel.accessAllowed ? 'block' : 'none';\n",
              "    })();\n",
              "  </script>\n",
              "</div>\n",
              "    </div>\n",
              "  </div>\n"
            ]
          },
          "metadata": {},
          "execution_count": 55
        }
      ]
    },
    {
      "cell_type": "code",
      "source": [
        "df['CTR'] = df['Clicks']*100/df['Impressions'] # calculate CTR\n",
        "current_ctr_mean = df['CTR'].mean().round(2)\n",
        "print(f\"The current average CTR is {current_ctr_mean}%\")"
      ],
      "metadata": {
        "colab": {
          "base_uri": "https://localhost:8080/"
        },
        "id": "Yaulb9jhlCUi",
        "outputId": "04bff625-c737-40a0-a9b4-45fdaf0ab477"
      },
      "execution_count": 56,
      "outputs": [
        {
          "output_type": "stream",
          "name": "stdout",
          "text": [
            "The current average CTR is 0.84%\n"
          ]
        }
      ]
    },
    {
      "cell_type": "code",
      "source": [
        "# Let's plot the CTRs per day\n",
        "_, ax = plt.subplots(figsize=(10,5))\n",
        "sns.lineplot(x=df['Date'], y=df['CTR'])\n",
        "plt.legend(labels=[\"CTR\"])\n",
        "plt.ylabel('CTR, %')\n",
        "ax.xaxis.set_major_formatter(DateFormatter(\"%d %b\"))\n",
        "plt.title('Current CTR in September per day')\n",
        "plt.show()"
      ],
      "metadata": {
        "colab": {
          "base_uri": "https://localhost:8080/",
          "height": 487
        },
        "id": "hBdx0WaNqt2_",
        "outputId": "2944fb9b-10f0-466d-a486-4da099133a28"
      },
      "execution_count": 57,
      "outputs": [
        {
          "output_type": "display_data",
          "data": {
            "text/plain": [
              "<Figure size 1000x500 with 1 Axes>"
            ],
            "image/png": "[encoded data removed]"
          },
          "metadata": {}
        }
      ]
    },
    {
      "cell_type": "markdown",
      "source": [
        "# Step 2 - State the Hypothesis\n",
        "\n",
        "The second step of the experiment is to state the hypothesis. This is followed by setting parameter values such as the significance level (alpha), statistical power and minimum detctable effect (MDE).\n",
        "\n",
        "$ H_0 $: The CTRs for the new banner and the old one are the same.\n",
        "\n",
        "$ H_a $ : The CTRs for the new banner and the old one are different."
      ],
      "metadata": {
        "id": "nwSM-W3XvJZ1"
      }
    },
    {
      "cell_type": "code",
      "source": [
        "alpha = 0.05 # the segnificane level\n",
        "power = 0.80 # the statistical power\n",
        "mde = 0.20 # the minimum detectable effect (MDE)\n",
        "\n",
        "p1 = current_ctr_mean # the current value of the CTR average\n",
        "p2 = current_ctr_mean * (1 + mde) # the desired value of the CTR average\n",
        "\n",
        "print(f\"The current value of the CTR average: {p1}%\\nThe desired value of the CTR average: {p2}%\")"
      ],
      "metadata": {
        "colab": {
          "base_uri": "https://localhost:8080/"
        },
        "id": "NdwAjR67vMFE",
        "outputId": "c413f3b7-dc58-470c-ae95-395684e57f77"
      },
      "execution_count": 58,
      "outputs": [
        {
          "output_type": "stream",
          "name": "stdout",
          "text": [
            "The current value of the CTR average: 0.84%\n",
            "The desired value of the CTR average: 1.008%\n"
          ]
        }
      ]
    },
    {
      "cell_type": "markdown",
      "source": [
        "# Step 3 - Design the Experiment\n",
        "\n",
        "The third step of the experiment is the design the experiment which involves determining the randomization unit, calculating the sample size and determining the experiment duration. In our case, the social media tools will be responsible for the randomization. However, we still need to know the sample size and the experiment duration."
      ],
      "metadata": {
        "id": "paTl0qmt1CtP"
      }
    },
    {
      "cell_type": "markdown",
      "source": [
        "## Calculate sample size"
      ],
      "metadata": {
        "id": "BaRd1B0x1Txw"
      }
    },
    {
      "cell_type": "code",
      "source": [
        "effect_size = sm.stats.proportion_effectsize(p2/100, p1/100)\n",
        "# Here use the following eq: 2 * (np.arcsin(np.sqrt(p2/100)) - np.arcsin(np.sqrt(p1/100)))\n",
        "print(f\"Effect size of the two (current CTR and desired CTR) samples: {effect_size:.3f}\")"
      ],
      "metadata": {
        "colab": {
          "base_uri": "https://localhost:8080/"
        },
        "id": "uasycRnSvMMV",
        "outputId": "dfd9d447-75dc-40a0-ff93-d983ba492fb7"
      },
      "execution_count": 59,
      "outputs": [
        {
          "output_type": "stream",
          "name": "stdout",
          "text": [
            "Effect size of the two (current CTR and desired CTR) samples: 0.018\n"
          ]
        }
      ]
    },
    {
      "cell_type": "code",
      "source": [
        "# Calculate the sample size\n",
        "nobs1 = zt_ind_solve_power(effect_size=effect_size, alpha=alpha, power=power)\n",
        "n = math.ceil(nobs1) # the number of observations in the 1th sample\n",
        "N = 2*n # the total number of observations\n",
        "print(f\"Number of observations in the 1th sample: {n}\\nTotal number of observations: {N}\")"
      ],
      "metadata": {
        "colab": {
          "base_uri": "https://localhost:8080/"
        },
        "id": "grfjWNr3vMPn",
        "outputId": "2e10929e-5e0d-4460-dc8a-fc93fd29fd3d"
      },
      "execution_count": 60,
      "outputs": [
        {
          "output_type": "stream",
          "name": "stdout",
          "text": [
            "Number of observations in the 1th sample: 50812\n",
            "Total number of observations: 101624\n"
          ]
        }
      ]
    },
    {
      "cell_type": "markdown",
      "source": [
        "## Calculate experiment duration"
      ],
      "metadata": {
        "id": "UBoSf0RUgJX6"
      }
    },
    {
      "cell_type": "code",
      "source": [
        "impessions_mean = df['Impressions'].mean()\n",
        "dur = math.ceil(N/impessions_mean)\n",
        "print(f\"The average impressions per day: {impessions_mean}\")\n",
        "print(f\"To achieve the required sample size it's needed {dur} days\")"
      ],
      "metadata": {
        "colab": {
          "base_uri": "https://localhost:8080/"
        },
        "id": "4nDVSnxNgIYn",
        "outputId": "17387492-d093-438e-8a82-e54194ebf98c"
      },
      "execution_count": 61,
      "outputs": [
        {
          "output_type": "stream",
          "name": "stdout",
          "text": [
            "The average impressions per day: 14997.033333333333\n",
            "To achieve the required sample size it's needed 7 days\n"
          ]
        }
      ]
    },
    {
      "cell_type": "markdown",
      "source": [
        "# Step 4 - Run the Experiment\n",
        "\n",
        "We will take a look at the step that involves running an experiment."
      ],
      "metadata": {
        "id": "7a0JlDxNhJWZ"
      }
    },
    {
      "cell_type": "code",
      "source": [
        "# Load data that was obtained after 7-days test\n",
        "df_after = pd.read_csv(\"/content/drive/MyDrive/Colab Notebooks/Data/a_b_after_test_ctr.csv\")\n",
        "df_after['Date'] = pd.to_datetime(df_after['Date'], format='%d.%m.%y')\n",
        "df_after.head()"
      ],
      "metadata": {
        "colab": {
          "base_uri": "https://localhost:8080/",
          "height": 206
        },
        "id": "r9snie1BhMRx",
        "outputId": "c23d0755-fd48-415b-d65d-1370ba87e681"
      },
      "execution_count": 62,
      "outputs": [
        {
          "output_type": "execute_result",
          "data": {
            "text/plain": [
              "        Date  Impressions  Clicks  is_new_banner\n",
              "0 2023-10-15         7209      54              0\n",
              "1 2023-10-16         7456      84              0\n",
              "2 2023-10-17         7468      36              0\n",
              "3 2023-10-18         7586      46              0\n",
              "4 2023-10-19         7623      54              0"
            ],
            "text/html": [
              "\n",
              "  <div id=\"df-83622afc-4886-4909-bc16-3dc4cdfd80f0\" class=\"colab-df-container\">\n",
              "    <div>\n",
              "<style scoped>\n",
              "    .dataframe tbody tr th:only-of-type {\n",
              "        vertical-align: middle;\n",
              "    }\n",
              "\n",
              "    .dataframe tbody tr th {\n",
              "        vertical-align: top;\n",
              "    }\n",
              "\n",
              "    .dataframe thead th {\n",
              "        text-align: right;\n",
              "    }\n",
              "</style>\n",
              "<table border=\"1\" class=\"dataframe\">\n",
              "  <thead>\n",
              "    <tr style=\"text-align: right;\">\n",
              "      <th></th>\n",
              "      <th>Date</th>\n",
              "      <th>Impressions</th>\n",
              "      <th>Clicks</th>\n",
              "      <th>is_new_banner</th>\n",
              "    </tr>\n",
              "  </thead>\n",
              "  <tbody>\n",
              "    <tr>\n",
              "      <th>0</th>\n",
              "      <td>2023-10-15</td>\n",
              "      <td>7209</td>\n",
              "      <td>54</td>\n",
              "      <td>0</td>\n",
              "    </tr>\n",
              "    <tr>\n",
              "      <th>1</th>\n",
              "      <td>2023-10-16</td>\n",
              "      <td>7456</td>\n",
              "      <td>84</td>\n",
              "      <td>0</td>\n",
              "    </tr>\n",
              "    <tr>\n",
              "      <th>2</th>\n",
              "      <td>2023-10-17</td>\n",
              "      <td>7468</td>\n",
              "      <td>36</td>\n",
              "      <td>0</td>\n",
              "    </tr>\n",
              "    <tr>\n",
              "      <th>3</th>\n",
              "      <td>2023-10-18</td>\n",
              "      <td>7586</td>\n",
              "      <td>46</td>\n",
              "      <td>0</td>\n",
              "    </tr>\n",
              "    <tr>\n",
              "      <th>4</th>\n",
              "      <td>2023-10-19</td>\n",
              "      <td>7623</td>\n",
              "      <td>54</td>\n",
              "      <td>0</td>\n",
              "    </tr>\n",
              "  </tbody>\n",
              "</table>\n",
              "</div>\n",
              "    <div class=\"colab-df-buttons\">\n",
              "\n",
              "  <div class=\"colab-df-container\">\n",
              "    <button class=\"colab-df-convert\" onclick=\"convertToInteractive('df-83622afc-4886-4909-bc16-3dc4cdfd80f0')\"\n",
              "            title=\"Convert this dataframe to an interactive table.\"\n",
              "            style=\"display:none;\">\n",
              "\n",
              "  <svg xmlns=\"http://www.w3.org/2000/svg\" height=\"24px\" viewBox=\"0 -960 960 960\">\n",
              "    <path d=\"M120-120v-720h720v720H120Zm60-500h600v-160H180v160Zm220 220h160v-160H400v160Zm0 220h160v-160H400v160ZM180-400h160v-160H180v160Zm440 0h160v-160H620v160ZM180-180h160v-160H180v160Zm440 0h160v-160H620v160Z\"/>\n",
              "  </svg>\n",
              "    </button>\n",
              "\n",
              "  <style>\n",
              "    .colab-df-container {\n",
              "      display:flex;\n",
              "      gap: 12px;\n",
              "    }\n",
              "\n",
              "    .colab-df-convert {\n",
              "      background-color: #E8F0FE;\n",
              "      border: none;\n",
              "      border-radius: 50%;\n",
              "      cursor: pointer;\n",
              "      display: none;\n",
              "      fill: #1967D2;\n",
              "      height: 32px;\n",
              "      padding: 0 0 0 0;\n",
              "      width: 32px;\n",
              "    }\n",
              "\n",
              "    .colab-df-convert:hover {\n",
              "      background-color: #E2EBFA;\n",
              "      box-shadow: 0px 1px 2px rgba(60, 64, 67, 0.3), 0px 1px 3px 1px rgba(60, 64, 67, 0.15);\n",
              "      fill: #174EA6;\n",
              "    }\n",
              "\n",
              "    .colab-df-buttons div {\n",
              "      margin-bottom: 4px;\n",
              "    }\n",
              "\n",
              "    [theme=dark] .colab-df-convert {\n",
              "      background-color: #3B4455;\n",
              "      fill: #D2E3FC;\n",
              "    }\n",
              "\n",
              "    [theme=dark] .colab-df-convert:hover {\n",
              "      background-color: #434B5C;\n",
              "      box-shadow: 0px 1px 3px 1px rgba(0, 0, 0, 0.15);\n",
              "      filter: drop-shadow(0px 1px 2px rgba(0, 0, 0, 0.3));\n",
              "      fill: #FFFFFF;\n",
              "    }\n",
              "  </style>\n",
              "\n",
              "    <script>\n",
              "      const buttonEl =\n",
              "        document.querySelector('#df-83622afc-4886-4909-bc16-3dc4cdfd80f0 button.colab-df-convert');\n",
              "      buttonEl.style.display =\n",
              "        google.colab.kernel.accessAllowed ? 'block' : 'none';\n",
              "\n",
              "      async function convertToInteractive(key) {\n",
              "        const element = document.querySelector('#df-83622afc-4886-4909-bc16-3dc4cdfd80f0');\n",
              "        const dataTable =\n",
              "          await google.colab.kernel.invokeFunction('convertToInteractive',\n",
              "                                                    [key], {});\n",
              "        if (!dataTable) return;\n",
              "\n",
              "        const docLinkHtml = 'Like what you see? Visit the ' +\n",
              "          '<a target=\"_blank\" href=https://colab.research.google.com/notebooks/data_table.ipynb>data table notebook</a>'\n",
              "          + ' to learn more about interactive tables.';\n",
              "        element.innerHTML = '';\n",
              "        dataTable['output_type'] = 'display_data';\n",
              "        await google.colab.output.renderOutput(dataTable, element);\n",
              "        const docLink = document.createElement('div');\n",
              "        docLink.innerHTML = docLinkHtml;\n",
              "        element.appendChild(docLink);\n",
              "      }\n",
              "    </script>\n",
              "  </div>\n",
              "\n",
              "\n",
              "<div id=\"df-70cf67fb-2f02-4119-a2bf-b21412afad18\">\n",
              "  <button class=\"colab-df-quickchart\" onclick=\"quickchart('df-70cf67fb-2f02-4119-a2bf-b21412afad18')\"\n",
              "            title=\"Suggest charts.\"\n",
              "            style=\"display:none;\">\n",
              "\n",
              "<svg xmlns=\"http://www.w3.org/2000/svg\" height=\"24px\"viewBox=\"0 0 24 24\"\n",
              "     width=\"24px\">\n",
              "    <g>\n",
              "        <path d=\"M19 3H5c-1.1 0-2 .9-2 2v14c0 1.1.9 2 2 2h14c1.1 0 2-.9 2-2V5c0-1.1-.9-2-2-2zM9 17H7v-7h2v7zm4 0h-2V7h2v10zm4 0h-2v-4h2v4z\"/>\n",
              "    </g>\n",
              "</svg>\n",
              "  </button>\n",
              "\n",
              "<style>\n",
              "  .colab-df-quickchart {\n",
              "      --bg-color: #E8F0FE;\n",
              "      --fill-color: #1967D2;\n",
              "      --hover-bg-color: #E2EBFA;\n",
              "      --hover-fill-color: #174EA6;\n",
              "      --disabled-fill-color: #AAA;\n",
              "      --disabled-bg-color: #DDD;\n",
              "  }\n",
              "\n",
              "  [theme=dark] .colab-df-quickchart {\n",
              "      --bg-color: #3B4455;\n",
              "      --fill-color: #D2E3FC;\n",
              "      --hover-bg-color: #434B5C;\n",
              "      --hover-fill-color: #FFFFFF;\n",
              "      --disabled-bg-color: #3B4455;\n",
              "      --disabled-fill-color: #666;\n",
              "  }\n",
              "\n",
              "  .colab-df-quickchart {\n",
              "    background-color: var(--bg-color);\n",
              "    border: none;\n",
              "    border-radius: 50%;\n",
              "    cursor: pointer;\n",
              "    display: none;\n",
              "    fill: var(--fill-color);\n",
              "    height: 32px;\n",
              "    padding: 0;\n",
              "    width: 32px;\n",
              "  }\n",
              "\n",
              "  .colab-df-quickchart:hover {\n",
              "    background-color: var(--hover-bg-color);\n",
              "    box-shadow: 0 1px 2px rgba(60, 64, 67, 0.3), 0 1px 3px 1px rgba(60, 64, 67, 0.15);\n",
              "    fill: var(--button-hover-fill-color);\n",
              "  }\n",
              "\n",
              "  .colab-df-quickchart-complete:disabled,\n",
              "  .colab-df-quickchart-complete:disabled:hover {\n",
              "    background-color: var(--disabled-bg-color);\n",
              "    fill: var(--disabled-fill-color);\n",
              "    box-shadow: none;\n",
              "  }\n",
              "\n",
              "  .colab-df-spinner {\n",
              "    border: 2px solid var(--fill-color);\n",
              "    border-color: transparent;\n",
              "    border-bottom-color: var(--fill-color);\n",
              "    animation:\n",
              "      spin 1s steps(1) infinite;\n",
              "  }\n",
              "\n",
              "  @keyframes spin {\n",
              "    0% {\n",
              "      border-color: transparent;\n",
              "      border-bottom-color: var(--fill-color);\n",
              "      border-left-color: var(--fill-color);\n",
              "    }\n",
              "    20% {\n",
              "      border-color: transparent;\n",
              "      border-left-color: var(--fill-color);\n",
              "      border-top-color: var(--fill-color);\n",
              "    }\n",
              "    30% {\n",
              "      border-color: transparent;\n",
              "      border-left-color: var(--fill-color);\n",
              "      border-top-color: var(--fill-color);\n",
              "      border-right-color: var(--fill-color);\n",
              "    }\n",
              "    40% {\n",
              "      border-color: transparent;\n",
              "      border-right-color: var(--fill-color);\n",
              "      border-top-color: var(--fill-color);\n",
              "    }\n",
              "    60% {\n",
              "      border-color: transparent;\n",
              "      border-right-color: var(--fill-color);\n",
              "    }\n",
              "    80% {\n",
              "      border-color: transparent;\n",
              "      border-right-color: var(--fill-color);\n",
              "      border-bottom-color: var(--fill-color);\n",
              "    }\n",
              "    90% {\n",
              "      border-color: transparent;\n",
              "      border-bottom-color: var(--fill-color);\n",
              "    }\n",
              "  }\n",
              "</style>\n",
              "\n",
              "  <script>\n",
              "    async function quickchart(key) {\n",
              "      const quickchartButtonEl =\n",
              "        document.querySelector('#' + key + ' button');\n",
              "      quickchartButtonEl.disabled = true;  // To prevent multiple clicks.\n",
              "      quickchartButtonEl.classList.add('colab-df-spinner');\n",
              "      try {\n",
              "        const charts = await google.colab.kernel.invokeFunction(\n",
              "            'suggestCharts', [key], {});\n",
              "      } catch (error) {\n",
              "        console.error('Error during call to suggestCharts:', error);\n",
              "      }\n",
              "      quickchartButtonEl.classList.remove('colab-df-spinner');\n",
              "      quickchartButtonEl.classList.add('colab-df-quickchart-complete');\n",
              "    }\n",
              "    (() => {\n",
              "      let quickchartButtonEl =\n",
              "        document.querySelector('#df-70cf67fb-2f02-4119-a2bf-b21412afad18 button');\n",
              "      quickchartButtonEl.style.display =\n",
              "        google.colab.kernel.accessAllowed ? 'block' : 'none';\n",
              "    })();\n",
              "  </script>\n",
              "</div>\n",
              "    </div>\n",
              "  </div>\n"
            ]
          },
          "metadata": {},
          "execution_count": 62
        }
      ]
    },
    {
      "cell_type": "code",
      "source": [
        "control_df = df_after[df_after['is_new_banner']==0] # The data of the control sample\n",
        "treatment_df = df_after[df_after['is_new_banner']==1] # The data of the treatment sample"
      ],
      "metadata": {
        "id": "sI4pPg2shMZy"
      },
      "execution_count": 63,
      "outputs": []
    },
    {
      "cell_type": "code",
      "source": [
        "control_df['CTR'] = control_df['Clicks']*100/control_df['Impressions'] # calculate CTR of the control group\n",
        "treatment_df['CTR'] = treatment_df['Clicks']*100/treatment_df['Impressions'] # calculate CTR of the treatment group\n",
        "control_size = control_df['Impressions'].sum() # The number of observations in the control group\n",
        "control_count = control_df['Clicks'].sum() # The number of successes in the control group\n",
        "control_ctr_mean = control_df['CTR'].mean().round(2) # The average CTR in the control group\n",
        "treatment_size = treatment_df['Impressions'].sum() # The number of observations in the treatment group\n",
        "treatment_count = treatment_df['Clicks'].sum() # The number of successes in the treatment group\n",
        "treatment_ctr_mean = treatment_df['CTR'].mean().round(2) # The average CTR in the treatment group\n",
        "print(f\"The control group average CTR is {control_ctr_mean}%. The control size is {control_size}.\")\n",
        "print(f\"The treatment group average CTR is {treatment_ctr_mean}%. The treatment size is {treatment_size}.\")"
      ],
      "metadata": {
        "colab": {
          "base_uri": "https://localhost:8080/"
        },
        "id": "AD-sJPV0hMdq",
        "outputId": "9ffc6909-53fd-4f50-92a2-d3d12f5c0a9e"
      },
      "execution_count": 64,
      "outputs": [
        {
          "output_type": "stream",
          "name": "stdout",
          "text": [
            "The control group average CTR is 0.79%. The control size is 52450.\n",
            "The treatment group average CTR is 1.32%. The treatment size is 52790.\n"
          ]
        }
      ]
    },
    {
      "cell_type": "code",
      "source": [
        "# Let's plot the CTRs in the control and treatment groups per day\n",
        "df = pd.DataFrame({\n",
        "    \"control CTRs\": control_df['CTR'],\n",
        "    \"treatment CTRs\": treatment_df['CTR'].reset_index(drop=True)\n",
        "}) # make auxiliary DataFrame\n",
        "df.index = control_df['Date']\n",
        "\n",
        "_, ax = plt.subplots(figsize=(10,5))\n",
        "sns.lineplot(data=df, ax=ax)\n",
        "plt.ylabel('CTR, %')\n",
        "ax.xaxis.set_major_formatter(DateFormatter(\"%d %b\"))\n",
        "plt.title('Control and treatment CTRs during AB test per day')\n",
        "plt.show()"
      ],
      "metadata": {
        "colab": {
          "base_uri": "https://localhost:8080/",
          "height": 487
        },
        "id": "QTnFPf54hMhL",
        "outputId": "614ee0ee-5a14-4c87-de0c-25191b1e799b"
      },
      "execution_count": 65,
      "outputs": [
        {
          "output_type": "display_data",
          "data": {
            "text/plain": [
              "<Figure size 1000x500 with 1 Axes>"
            ],
            "image/png": "[encoded data removed]"
          },
          "metadata": {}
        }
      ]
    },
    {
      "cell_type": "markdown",
      "source": [
        "# Step 5 - Assess Validity Threats\n",
        "\n",
        "In this step, we should conduct checks to avoid type 1 or 2 errors. It includes the checks for such threats as Novelty Effect, Holiday (Weekend) Effect, Survivorship Bias, Sample Ratio Mismatch (SRM), and others and implies conducting the AA tests and the chi-square tests.\n",
        "\n",
        "These checks should be conducted prior to the AB test to ensure that there is no underlying difference between the control and treatment.\n",
        "\n",
        "In our case, the social media tools will be responsible for avoiding the threats. Here, for the training goals, we will conduct the chi-square test for detecting Sample Ratio Mismatch (SRM).\n"
      ],
      "metadata": {
        "id": "jZDHPnO6RZB9"
      }
    },
    {
      "cell_type": "markdown",
      "source": [
        "## Sample Ratio Mismatch (SRM)\n",
        "\n",
        "Let's imagine that we wanted to split users into the control and treatment groups with a ratio of 1:1. We (not social media) have made randomization and got not equal number of users in each group. We want to check if this difference is statistically significant or not. In that case, we will conduct the chi-square test for sample ratio mismatch (SRM)."
      ],
      "metadata": {
        "id": "M9hn41L6Ni7Y"
      }
    },
    {
      "cell_type": "code",
      "source": [
        "# Let's check for sample ratio mismatch (SRM)\n",
        "\n",
        "# Get the observed and expected counts in the experiment\n",
        "observed = [control_size, treatment_size] # imagine that we know the control and treatment sample size before AB test.\n",
        "expected = [int(control_size + treatment_size)/2]*2\n",
        "print(f\"Observed sizes are {observed}\\nExpected sizes are equal - {expected}\\n\")\n",
        "\n",
        "# perform Chi-Square Goodness of Fit Test\n",
        "chi_stats, p_value = stats.chisquare(f_obs=observed, f_exp=expected)\n",
        "\n",
        "print('Ho: The ratio of samples is 1:1.')\n",
        "print('Ha: The ratio of samples is not 1:1.\\n')\n",
        "print(f'Significance level: {alpha}')\n",
        "\n",
        "print(f'Chi-Square = {chi_stats:.3f} | P-value = {p_value:.3f}')\n",
        "\n",
        "print('\\nConclusion:')\n",
        "if p_value < alpha:\n",
        "  print('Reject Ho and conclude that there is statistical significance in the ratio of samples not being 1:1. Therefore, there is SRM.')\n",
        "else:\n",
        "  print('Fail to reject Ho. Hence, there is no SRM.')"
      ],
      "metadata": {
        "id": "ojJAzojDAPaB",
        "colab": {
          "base_uri": "https://localhost:8080/"
        },
        "outputId": "5724e595-3d12-4ee0-cca5-a4e56e8e3853"
      },
      "execution_count": 68,
      "outputs": [
        {
          "output_type": "stream",
          "name": "stdout",
          "text": [
            "Observed sizes are [52450, 52790]\n",
            "Expected sizes are equal - [52620.0, 52620.0]\n",
            "\n",
            "Ho: The ratio of samples is 1:1.\n",
            "Ha: The ratio of samples is not 1:1.\n",
            "\n",
            "Significance level: 0.05\n",
            "Chi-Square = 1.098 | P-value = 0.295\n",
            "\n",
            "Conclusion:\n",
            "Fail to reject Ho. Hence, there is no SRM.\n"
          ]
        }
      ]
    },
    {
      "cell_type": "markdown",
      "source": [
        "# Step 6 - Conduct Statistical Inference\n",
        "\n",
        "In this step we will conduct the chi-square test to analyze the AB test results and reject or fail to reject the null hypothesis. After that, we will calculate the confidence interval.\n",
        "\n",
        "Once again:\n",
        "\n",
        "$ H_0 $: The CTRs for the new banner and the old one are the same.\n",
        "\n",
        "$ H_a $ : The CTRs for the new banner and the old one are different."
      ],
      "metadata": {
        "id": "IKNW3G1Siqca"
      }
    },
    {
      "cell_type": "code",
      "source": [
        "chi2stat, p_value, _ = proportions_chisquare(count=[control_count, treatment_count], nobs=[control_size, treatment_size])"
      ],
      "metadata": {
        "id": "bzgKaJx8h6HH"
      },
      "execution_count": 74,
      "outputs": []
    },
    {
      "cell_type": "code",
      "source": [
        "print(f'Significance level: {alpha}')\n",
        "print(f'Chi-Square = {chi2stat:.3f} | P-value = {p_value:.3f}')\n",
        "\n",
        "print('\\nConclusion:')\n",
        "if p_value < alpha:\n",
        "  print('Reject Ho. Hence, there is statistical significance in the difference between CTRs for the new banner and the old one.')\n",
        "else:\n",
        "  print('Fail to reject Ho.')"
      ],
      "metadata": {
        "colab": {
          "base_uri": "https://localhost:8080/"
        },
        "id": "eZ8hVu7Oh6KI",
        "outputId": "10c42142-a864-4e41-e008-528a2c4cc3d2"
      },
      "execution_count": 73,
      "outputs": [
        {
          "output_type": "stream",
          "name": "stdout",
          "text": [
            "Significance level: 0.05\n",
            "Chi-Square = 70.762 | P-value = 0.000\n",
            "\n",
            "Conclusion:\n",
            "Reject Ho. Hence, there is statistical significance in the difference between CTRs for the new banner and for the old one.\n"
          ]
        }
      ]
    },
    {
      "cell_type": "code",
      "source": [
        "# Compute the Confidence Interval of the Test\n",
        "ci = confint_proportions_2indep(treatment_count, treatment_size, control_count, control_size, alpha=0.05)\n",
        "lower = ci[0]*100\n",
        "upper = ci[1]*100\n",
        "lower_lift = lower / control_ctr_mean\n",
        "upper_lift = upper / control_ctr_mean"
      ],
      "metadata": {
        "id": "OmVqqsZ8DZ_r"
      },
      "execution_count": 93,
      "outputs": []
    },
    {
      "cell_type": "code",
      "source": [
        "# Print results\n",
        "print('--------- Sample Sizes ----------')\n",
        "print(f'Control: {control_size}')\n",
        "print(f'Treatment: {treatment_size}')\n",
        "\n",
        "print('\\n--------- Clicks Counts (CTR) ----------')\n",
        "print(f'Control: {control_count} ({control_ctr_mean:.2f}%)')\n",
        "print(f'Treatment: {treatment_count} ({treatment_ctr_mean:.2f}%)')\n",
        "\n",
        "print('\\n--------- Differences ----------')\n",
        "print(f'Absolute: {treatment_ctr_mean - control_ctr_mean:.3f}')\n",
        "print(f'Relative (lift): {(treatment_ctr_mean - control_ctr_mean)*100 / control_ctr_mean:.1f}%')\n",
        "\n",
        "print('\\n--------- T-Stats ----------')\n",
        "print(f'Chi-Square statistic: {chi2stat:2f}')\n",
        "print(f'P-Value: {p_value:.2f}')\n",
        "\n",
        "print('\\n--------- Confidence Intervals ----------')\n",
        "print(f'Absolute Difference CI: ({lower:.2f}, {upper:.2f})')\n",
        "print(f'Relative Difference (lift) CI: ({lower_lift*100:.1f}%, {upper_lift*100:.1f}%)')"
      ],
      "metadata": {
        "id": "qK3r6oRiDbH8",
        "colab": {
          "base_uri": "https://localhost:8080/"
        },
        "outputId": "72490d15-82cd-482a-fea2-a8ea9d4d7147"
      },
      "execution_count": 94,
      "outputs": [
        {
          "output_type": "stream",
          "name": "stdout",
          "text": [
            "--------- Sample Sizes ----------\n",
            "Control: 52450\n",
            "Treatment: 52790\n",
            "\n",
            "--------- Clicks Counts (CTR) ----------\n",
            "Control: 416 (0.79%)\n",
            "Treatment: 699 (1.32%)\n",
            "\n",
            "--------- Differences ----------\n",
            "Absolute: 0.530\n",
            "Relative (lift): 67.1%\n",
            "\n",
            "--------- T-Stats ----------\n",
            "Chi-Square statistic: 70.762199\n",
            "P-Value: 0.00\n",
            "\n",
            "--------- Confidence Intervals ----------\n",
            "Absolute Difference CI: (0.41, 0.66)\n",
            "Relative Difference (lift) CI: (51.6%, 83.0%)\n"
          ]
        }
      ]
    }
  ]
}