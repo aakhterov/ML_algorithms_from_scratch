{
  "cells": [
    {
      "cell_type": "markdown",
      "metadata": {
        "id": "view-in-github",
        "colab_type": "text"
      },
      "source": [
        "<a href=\"https://colab.research.google.com/github/aakhterov/ML_algorithms_from_scratch/blob/master/machine_translation_using_bahdanau_attention.ipynb\" target=\"_parent\"><img src=\"https://colab.research.google.com/assets/colab-badge.svg\" alt=\"Open In Colab\"/></a>"
      ]
    },
    {
      "cell_type": "markdown",
      "metadata": {
        "id": "m-9HBe6We5LC"
      },
      "source": [
        "# 0. Description\n",
        "\n",
        "We're going to build an NN model to translate from Russian to English. This notebook is committed to the implementation of the encoder-decoder network with Bahdanau attention (Additive Attention) mechanism.\n",
        "\n",
        "We will use the following terms:\n",
        "- source language - the language from which the model translates\n",
        "- target language - the language to which the model translates\n",
        "- token = word\n",
        "\n",
        "\n",
        "Dataset: https://www.kaggle.com/datasets/hijest/englishrussian-dictionary-for-machine-translate/\n",
        "\n",
        "References:\n",
        "- https://github.com/Hvass-Labs/TensorFlow-Tutorials/blob/master/21_Machine_Translation.ipynb\n",
        "- https://www.youtube.com/watch?v=vI2Y3I-JI2Q\n",
        "- https://medium.com/analytics-vidhya/encoder-decoder-seq2seq-models-clearly-explained-c34186fbf49b\n",
        "- https://blog.floydhub.com/attention-mechanism/#bahdanau-att-step2\n",
        "- https://towardsdatascience.com/implementing-neural-machine-translation-with-attention-using-tensorflow-fc9c6f26155f\n",
        "\n"
      ]
    },
    {
      "cell_type": "code",
      "execution_count": 2,
      "metadata": {
        "colab": {
          "base_uri": "https://localhost:8080/"
        },
        "id": "JrOij2Lsj3yA",
        "outputId": "73301320-384f-431e-b481-c9582847f374"
      },
      "outputs": [
        {
          "output_type": "stream",
          "name": "stdout",
          "text": [
            "Mounted at /content/drive\n"
          ]
        }
      ],
      "source": [
        "from typing import List\n",
        "import numpy as np\n",
        "import pandas as pd\n",
        "import tensorflow as tf\n",
        "import seaborn as sns\n",
        "import matplotlib.pyplot as plt\n",
        "import pickle\n",
        "from tqdm import tqdm\n",
        "from string import punctuation\n",
        "from collections import Counter\n",
        "from tensorflow.keras.layers import Embedding, LSTM, Dense, Input\n",
        "from tensorflow.keras.models import Model\n",
        "from tensorflow.keras.losses import SparseCategoricalCrossentropy\n",
        "from tensorflow.keras.utils import pad_sequences\n",
        "from sklearn.model_selection import train_test_split\n",
        "\n",
        "from google.colab import drive\n",
        "drive.mount('/content/drive')\n",
        "base_path = '/content/drive/MyDrive/Colab Notebooks/'"
      ]
    },
    {
      "cell_type": "markdown",
      "metadata": {
        "id": "2IEg-hGLJfDv"
      },
      "source": [
        "# 1. Vectorization"
      ]
    },
    {
      "cell_type": "code",
      "execution_count": 3,
      "metadata": {
        "id": "_RSzJxTxSmLY"
      },
      "outputs": [],
      "source": [
        "UNKNOWN_TOKEN = '[UNK]' # Out of vocabulary token\n",
        "START_TOKEN = '[START]' # The token that denotes the beginning of the target language phrase\n",
        "END_TOKEN = '[END]' # The token that denotes the end of the target language phrase"
      ]
    },
    {
      "cell_type": "code",
      "execution_count": 264,
      "metadata": {
        "id": "OwlrS_c8K6pU"
      },
      "outputs": [],
      "source": [
        "class Vectorization:\n",
        "  '''\n",
        "    Vectorization text class.\n",
        "    Main goals:\n",
        "     - make a vocabulary\n",
        "     - convert the list of strings to the list of integer tokens\n",
        "     - convert the list of integer tokens to the list of strings\n",
        "  '''\n",
        "\n",
        "  def __init__(self,\n",
        "               max_tokens,\n",
        "               max_length=None,\n",
        "               unknown_token=UNKNOWN_TOKEN,\n",
        "               start_token=START_TOKEN,\n",
        "               end_token=END_TOKEN\n",
        "               ):\n",
        "    '''\n",
        "      :param max_tokens: length of the vocabulary\n",
        "      :param max_length: max length of the phrases\n",
        "      :param unknown_token: out of vocabulary token\n",
        "      :param start_token: token that denotes the beginning of the phrase\n",
        "      :param end_token: token that denotes the end of the phrase\n",
        "    '''\n",
        "    self.max_tokens = max_tokens\n",
        "    self.max_length = max_length\n",
        "    self.unknown_token = unknown_token\n",
        "    self.start_token = start_token\n",
        "    self.end_token=end_token\n",
        "    # add to the vocabulary:\n",
        "    #  (1) padding token (we're going to pad using 0, so padding token index is 0)\n",
        "    #  (2) out of vocabulary token\n",
        "    #  (3) start token\n",
        "    #  (4) end token\n",
        "    self.vocabulary = ['', self.unknown_token, self.start_token, self.end_token]\n",
        "\n",
        "  def __preprocessing(self, input: str) -> str:\n",
        "    '''\n",
        "      Preprocess of the string (convert to lowcase and remove punctuation).\n",
        "      ex.: I'm going! -> i m going\n",
        "      :param input - input string\n",
        "      :return preprocessed string\n",
        "    '''\n",
        "    output = ''.join(map(lambda ch: ch if ch not in punctuation else ' ', input.lower())).strip()\n",
        "    return output\n",
        "\n",
        "  def token_to_text(self, tokens: List) -> str:\n",
        "    '''\n",
        "      Convert the list of the integer tokens to the string\n",
        "      :param tokens: list of the integer tokens\n",
        "      :return string contains words that correspond to the integer tokens\n",
        "    '''\n",
        "    words = [self.vocabulary[token] if token in self.vocabulary else self.unknown_token for token in tokens]\n",
        "    return \" \".join(words)\n",
        "\n",
        "  def fit(self, X: List, is_add_start_token=False, is_add_end_token=False):\n",
        "    '''\n",
        "      Make the vocabulary and calculate the max length of the phrase\n",
        "      :param X: corpus - list of the strings\n",
        "      :return the instance of the current class\n",
        "    '''\n",
        "    lens = []\n",
        "    __vocab = []\n",
        "    for x in X:\n",
        "      # Make preprocessing and get the list of the words.\n",
        "      # Ex. I'm going! -> ['i', 'm', 'going']\n",
        "      words = self.__preprocessing(x).split()\n",
        "\n",
        "      # Collect phrases lengths\n",
        "      lens.append(len(words))\n",
        "\n",
        "      # Make the vocabulary\n",
        "      __vocab += [word.strip() for word in words]\n",
        "\n",
        "      # for word in words:\n",
        "      #   token = word.strip()\n",
        "      #   # Add the word to the vocabulary if it usn't \"full\"\n",
        "      #   if token not in self.vocabulary and self.max_tokens is not None and len(self.vocabulary)<self.max_tokens:\n",
        "      #     self.vocabulary.append(token)\n",
        "\n",
        "    c = Counter(__vocab)\n",
        "    if self.max_tokens:\n",
        "      self.vocabulary += [item[0] for item in c.most_common(self.max_tokens-4)]\n",
        "    else:\n",
        "      self.vocabulary += [item[0] for item in c.most_common()]\n",
        "\n",
        "    # Calculate the max length of the phrases if it isn't set in the __init__\n",
        "    # max_length = Average length + two standard devations\n",
        "    lens = np.array(lens)\n",
        "    if self.max_length is None:\n",
        "      self.max_length = int(np.mean(lens) + 2 * np.std(lens)) + int(is_add_start_token) + int(is_add_end_token)\n",
        "    return self\n",
        "\n",
        "  def predict(self,\n",
        "              X: List[str],\n",
        "              is_padding=True,\n",
        "              is_add_start_token=False,\n",
        "              is_add_end_token=False\n",
        "              ) -> List[List]:\n",
        "    '''\n",
        "      :param X - corpus - list of the strings\n",
        "      :param is_padding - whether to pad the list of tokens to the max. length with 0s\n",
        "      :param is_add_start_token - whether to add the start_token to the list of tokens\n",
        "      :param is_add_end_token - whether to add the end_token to the list of tokens\n",
        "      :return list of the lists of tokens\n",
        "    '''\n",
        "    output = []\n",
        "    # max_length = self.max_length + int(is_add_start_token) + int(is_add_end_token)\n",
        "\n",
        "    for x in X:\n",
        "      # If nedded add the index of the start_token to the beginning of the list of tokens\n",
        "      vector = [self.vocabulary.index(self.start_token)] if is_add_start_token else []\n",
        "\n",
        "      # Make preprocessing and get the list of the words.\n",
        "      words = self.__preprocessing(x).split()\n",
        "\n",
        "      # If the current word is in the vocabulary add its index to the list else add the index of the unknown_token\n",
        "      for word in words:\n",
        "        token = word.strip()\n",
        "        vector.append(self.vocabulary.index(token) if token in self.vocabulary else self.vocabulary.index(self.unknown_token))\n",
        "\n",
        "      # Truncate the vector to the max. length\n",
        "      vector = vector[:self.max_length-1]\n",
        "\n",
        "      # If needed add the index of the end_token\n",
        "      if is_add_end_token:\n",
        "        vector.append(self.vocabulary.index(self.end_token))\n",
        "\n",
        "      output.append(vector)\n",
        "\n",
        "    # If needed pad the vector to the max. length with 0s\n",
        "    return pad_sequences(output,\n",
        "                         maxlen=self.max_length,\n",
        "                         padding='post',\n",
        "                         truncating='post') if is_padding else output"
      ]
    },
    {
      "cell_type": "code",
      "execution_count": 265,
      "metadata": {
        "id": "VvaCDzcFuIe1"
      },
      "outputs": [],
      "source": [
        "# Read from N to M samples\n",
        "N = 100_000\n",
        "M = 110_000\n",
        "\n",
        "input_phrases, output_phrases = [], []\n",
        "with open('/content/drive/MyDrive/Colab Notebooks/Data/rus.txt') as f:\n",
        "  for line in f.readlines()[N:M]:\n",
        "    eng, rus = line.split('CC-BY')[0].strip().split('\\t')\n",
        "    input_phrases.append(rus)\n",
        "    output_phrases.append(eng)"
      ]
    },
    {
      "cell_type": "code",
      "execution_count": 266,
      "metadata": {
        "id": "d-LhZGvyvrkS"
      },
      "outputs": [],
      "source": [
        "input_vocab = 2000 # size of the source language vocaulary\n",
        "output_vocab = 2000 # size of the target language vocaulary"
      ]
    },
    {
      "cell_type": "code",
      "execution_count": 267,
      "metadata": {
        "id": "chd-W_mXVgqE"
      },
      "outputs": [],
      "source": [
        "# Make vectorization of the source language phrases\n",
        "encoder_vec = Vectorization(max_tokens=input_vocab)\n",
        "encoder_vec.fit(input_phrases)\n",
        "X_encoder = encoder_vec.predict(input_phrases, is_padding=False)\n",
        "\n",
        "# Make vectorization of the target language phrases\n",
        "decoder_vec = Vectorization(max_tokens=output_vocab)\n",
        "decoder_vec.fit(output_phrases, is_add_start_token=True, is_add_end_token=True)\n",
        "# For the reason of the sequence model training we need decoder input contains the start_token and\n",
        "# the decoder output which is without the start_token\n",
        "X_decoder = decoder_vec.predict(output_phrases, is_add_start_token=True, is_add_end_token=True)\n",
        "Y_decoder = decoder_vec.predict(output_phrases, is_add_end_token=True)"
      ]
    },
    {
      "cell_type": "code",
      "execution_count": 268,
      "metadata": {
        "colab": {
          "base_uri": "https://localhost:8080/"
        },
        "id": "OHSeTSRGQhmS",
        "outputId": "7b4ac067-7ccb-42fe-bbc5-b27a694e8109"
      },
      "outputs": [
        {
          "output_type": "stream",
          "name": "stdout",
          "text": [
            "Index: 100\n",
            "======= Encoder =======\n",
            "Input phrase: Том знает, кто я?\n",
            "Vector: [5, 69, 97, 4]\n",
            "Max. length: 6\n",
            "======= Decoder =======\n",
            "Input phrase: Does Tom know who I am?\n",
            "Vector: [  2 115   5  30 203   4 135   3]\n",
            "Output phrase: Does Tom know who I am?\n",
            "Vector: [115   5  30 203   4 135   3   0]\n",
            "Max. length: 8\n",
            "==============\n",
            "Start phrase token index: 2\n",
            "End phrase token index: 3\n"
          ]
        }
      ],
      "source": [
        "idx = 100\n",
        "print(f\"Index: {idx}\")\n",
        "print(\"======= Encoder =======\")\n",
        "print(f\"Input phrase: {input_phrases[idx]}\")\n",
        "print(f\"Vector: {X_encoder[idx]}\")\n",
        "print(f\"Max. length: {encoder_vec.max_length}\")\n",
        "print(\"======= Decoder =======\")\n",
        "print(f\"Input phrase: {output_phrases[idx]}\")\n",
        "print(f\"Vector: {X_decoder[idx]}\")\n",
        "print(f\"Output phrase: {output_phrases[idx]}\")\n",
        "print(f\"Vector: {Y_decoder[idx]}\")\n",
        "print(f\"Max. length: {decoder_vec.max_length}\")\n",
        "print(\"==============\")\n",
        "print(f\"Start phrase token index: {decoder_vec.vocabulary.index(START_TOKEN)}\")\n",
        "print(f\"End phrase token index: {decoder_vec.vocabulary.index(END_TOKEN)}\")"
      ]
    },
    {
      "cell_type": "markdown",
      "metadata": {
        "id": "77Qm_uDxJonO"
      },
      "source": [
        "# 2. Construct Encoder-Decoder NN with Bahdanau attention"
      ]
    },
    {
      "cell_type": "code",
      "execution_count": 163,
      "metadata": {
        "id": "vPXQD5tFjzwp"
      },
      "outputs": [],
      "source": [
        "class Encoder(tf.keras.Model):\n",
        "  '''\n",
        "    Encoder for using with Bahdanau attention\n",
        "  '''\n",
        "  def __init__(self, input_vocab: int, embedding_dim: int, lstm_hidden_units: int):\n",
        "    '''\n",
        "      :param input_vocab - vocabluary dimension of the source language\n",
        "      :param embedding_dim - dimension of the source language words embeddings\n",
        "      :param lstm_hidden_units - the number of the LSTM cell units\n",
        "    '''\n",
        "    super(Encoder, self).__init__()\n",
        "    self.lstm_hidden_units = lstm_hidden_units\n",
        "    self.emedding = Embedding(input_dim=input_vocab,\n",
        "                              output_dim=embedding_dim,\n",
        "                              mask_zero=True,\n",
        "                              name='encoder_embedding')\n",
        "    self.lstm = LSTM(units=lstm_hidden_units,\n",
        "                     return_sequences=True,\n",
        "                     return_state=True,\n",
        "                     name='encoder_lstm')\n",
        "\n",
        "  def __call__(self, x, is_verbose=False):\n",
        "    '''\n",
        "      Calculate forward propagation through the Encoder\n",
        "      :param x - input sequence (batch_size, sequence_length)\n",
        "    '''\n",
        "    # Get embeddings.\n",
        "    # 'x' dimension is (batch_size, sequence_length)\n",
        "    # 'out' dimension is (batch_size, sequence_length, embedding_dim)\n",
        "    out = self.emedding(x)\n",
        "\n",
        "    # Hence we don't need LSTM output, we get only LSTM states (hidden state and cell state)\n",
        "    # One of the problems here is that dispite the return_sequences parameter is True,\n",
        "    # we get only last (after propagation a whole sequence) values of the states and\n",
        "    # didn't get the states after each timestep. We will struggle with this later.\n",
        "    output, h, c = self.lstm(out)\n",
        "\n",
        "    if is_verbose:\n",
        "      print(f\"Input shape {x.shape}. Shape after embedding: {out.shape}.\")\n",
        "      print(f\"Output LSTM shape: {output.shape}. Hidden state: {h.shape}. Cell state: {c.shape}\")\n",
        "\n",
        "    return h, c"
      ]
    },
    {
      "cell_type": "code",
      "source": [
        "# Test Encoder\n",
        "enc = Encoder(input_vocab=100, embedding_dim=64, lstm_hidden_units=16)\n",
        "input = np.zeros((4, 3))\n",
        "h, c = enc(input, is_verbose=True)\n",
        "\n",
        "assert input.shape == (4, 3), \"Wrong input shape\"\n",
        "assert h.shape == (4, 16), \"Wrong hidden state shape\"\n",
        "assert c.shape == (4, 16), \"Wrong cell state shape\""
      ],
      "metadata": {
        "colab": {
          "base_uri": "https://localhost:8080/"
        },
        "id": "KF5VnU--RRew",
        "outputId": "8587ce31-6f5e-4fbf-9175-59596e47e351"
      },
      "execution_count": 164,
      "outputs": [
        {
          "output_type": "stream",
          "name": "stdout",
          "text": [
            "Input shape (4, 3). Shape after embedding: (4, 3, 64).\n",
            "Output LSTM shape: (4, 3, 16). Hidden state: (4, 16). Cell state: (4, 16)\n"
          ]
        }
      ]
    },
    {
      "cell_type": "code",
      "execution_count": 165,
      "metadata": {
        "id": "B4DhtzjnPE_5"
      },
      "outputs": [],
      "source": [
        "class BahdanauAttention(tf.keras.layers.Layer):\n",
        "  '''\n",
        "    Layers implements a Bahdanau attention mechanism\n",
        "  '''\n",
        "  def __init__(self, units: int, name=None):\n",
        "    '''\n",
        "      :param units - the number of the encoder and decoder hidden units.\n",
        "      This value can be obtained from the inputs dimensions but for the purpose of simplicity we will set it here.\n",
        "      :param name - tne name of the layer\n",
        "    '''\n",
        "    super(BahdanauAttention, self).__init__(name=name)\n",
        "    self.units = units\n",
        "    self.fc_encoder_states = Dense(units=units, activation='linear')\n",
        "    self.fc_decoder_states = Dense(units=units, activation='linear')\n",
        "    self.fc_combined = Dense(units=1, activation='linear')\n",
        "\n",
        "  def __call__(self, encoder_states, decoder_hidden_state, is_verbose=False):\n",
        "    '''\n",
        "      Calculate forward propagation through the Layer\n",
        "      :param encoder_states - encoder hidden states (batch_size, sequence_length, encoder_lstm_hidden_units)\n",
        "      :param decoder_hidden_state - decoder hidden state (batch_size, decoder_lstm_hidden_units)\n",
        "    '''\n",
        "\n",
        "    # Linear layer for the encoder hidden states (it has its own trainable weights).\n",
        "    fc_encoder_out = self.fc_encoder_states(encoder_states) # fc_encoder_out dimension is (batch_size, sequence_length, encoder_lstm_hidden_units)\n",
        "\n",
        "    # Linear layer for the decoder hidden state from the previous timestep (it has its own trainable weights).\n",
        "    fc_decoder_out = self.fc_decoder_states(decoder_hidden_state) # fc_decoder_out dimension is (batch_size, decoder_lstm_hidden_units)\n",
        "\n",
        "    # Add additional dimension to the fc_decoder_out\n",
        "    fc_decoder_out = tf.expand_dims(fc_decoder_out, axis=1) # fc_decoder_out dimension is (batch_size, 1, decoder_lstm_hidden_units)\n",
        "\n",
        "    # Calculate alignment score using linear layer  (it has its own trainable weights).\n",
        "    # Alignment_scores dimension is (batch_size, sequence_length, 1)\n",
        "    alignment_scores = self.fc_combined(tf.math.tanh(fc_encoder_out + fc_decoder_out))\n",
        "\n",
        "    # Remove a redundant dimension: (batch_size, sequence_length, 1) -> (batch_size, sequence_length)\n",
        "    # alignment_scores = np.squeeze(alignment_scores)\n",
        "\n",
        "    # Calculate attention weights of the each encoder hidden state within a batch\n",
        "    # softmax_alignment_scores dimension is (batch_size, sequence_length)\n",
        "    softmax_alignment_scores = tf.nn.softmax(alignment_scores, axis=1)\n",
        "\n",
        "    # Calculate context vector. Its dimension is (batch_size, encoder_lstm_hidden_units)\n",
        "    context_vector = tf.reduce_sum(softmax_alignment_scores * encoder_states, axis=1)\n",
        "\n",
        "    if is_verbose:\n",
        "      print(f\"Input: encoder_states shape: {encoder_states.shape}, decoder_hidden_state shape: {decoder_hidden_state.shape}\")\n",
        "      print(f\"fc_encoder_out shape: {fc_encoder_out.shape}, fc_decoder_out shape: {fc_decoder_out.shape}\")\n",
        "      print(f\"alignment_scores shape: {alignment_scores.shape}, softmax_alignment_scores shape: {softmax_alignment_scores.shape}\")\n",
        "      print(f\"context_vector shape: {context_vector.shape}\")\n",
        "\n",
        "    return context_vector, softmax_alignment_scores"
      ]
    },
    {
      "cell_type": "code",
      "source": [
        "# Test BahdanauAttention Layer\n",
        "ba = BahdanauAttention(units=64)\n",
        "encoder_states = np.zeros((4, 3, 16))\n",
        "decoder_hidden_state = np.zeros((4, 16))\n",
        "context_vector, softmax_alignment_scores = ba(encoder_states, decoder_hidden_state, is_verbose=True)\n",
        "\n",
        "assert encoder_states.shape == (4, 3, 16), \"Wrong encoder hidden states shape\"\n",
        "assert decoder_hidden_state.shape == (4, 16), \"Wrong decoder hidden state shape\"\n",
        "assert softmax_alignment_scores.shape == (4, 3, 1), \"Wrong attention weights shape\"\n",
        "assert context_vector.shape == (4, 16), \"Wrong context vector shape\""
      ],
      "metadata": {
        "colab": {
          "base_uri": "https://localhost:8080/"
        },
        "id": "sb3N28pVVQV2",
        "outputId": "1ea7fd69-1845-4054-dce9-6689b13f18e1"
      },
      "execution_count": 166,
      "outputs": [
        {
          "output_type": "stream",
          "name": "stdout",
          "text": [
            "Input: encoder_states shape: (4, 3, 16), decoder_hidden_state shape: (4, 16)\n",
            "fc_encoder_out shape: (4, 3, 64), fc_decoder_out shape: (4, 1, 64)\n",
            "alignment_scores shape: (4, 3, 1), softmax_alignment_scores shape: (4, 3, 1)\n",
            "context_vector shape: (4, 16)\n"
          ]
        }
      ]
    },
    {
      "cell_type": "code",
      "execution_count": 167,
      "metadata": {
        "id": "tL1KwedDnTc3"
      },
      "outputs": [],
      "source": [
        "class Decoder(tf.keras.Model):\n",
        "  '''\n",
        "    Decoder with Bahdanau attention mechanism\n",
        "  '''\n",
        "  def __init__(self, output_vocab, embedding_dim, lstm_hidden_units):\n",
        "    '''\n",
        "      :param output_vocab - vocabluary dimension of the target language\n",
        "      :param embedding_dim - dimension of the target language words embeddings\n",
        "      :param lstm_hidden_units - the number of the LSTM cell units\n",
        "    '''\n",
        "    super(Decoder, self).__init__()\n",
        "    self.emedding = Embedding(input_dim=output_vocab,\n",
        "                              output_dim=embedding_dim,\n",
        "                              mask_zero=True,\n",
        "                              name='decoder_embedding')\n",
        "\n",
        "    self.lstm = LSTM(units=lstm_hidden_units,\n",
        "                     return_sequences=True,\n",
        "                     return_state=True,\n",
        "                     name='decoder_lstm')\n",
        "\n",
        "    self.attention = BahdanauAttention(units=lstm_hidden_units,\n",
        "                                       name='decoder_attention')\n",
        "\n",
        "    # Dense layer with softmax activation function\n",
        "    self.output_dense = Dense(units=output_vocab,\n",
        "                              activation='softmax',\n",
        "                              name='decoder_output')\n",
        "\n",
        "  def __call__(self, x, decoder_states, encoder_states, is_verbose=False):\n",
        "    '''\n",
        "      Calculate forward propagation through the Decoder\n",
        "      :param x - input sequence (batch_size, sequence_length_of_target_lang)\n",
        "      :param decoder_states - hidden and cell decoder states from the previous timestep (or last encoder states for the first timestep)\n",
        "      Dimension ((batch_size, lstm_hidden_units), (batch_size, lstm_hidden_units))\n",
        "      :param encoder_states - hidden encoder states from the each timesteps  (batch_size, sequence_length, lstm_hidden_units)\n",
        "    '''\n",
        "    # Unpack decoder states\n",
        "    hidden_state, cell_state = decoder_states\n",
        "\n",
        "    # Calculate contect vector based on Bahdanau attention mechanism\n",
        "    # context_vector dimension is (batch_size, lstm_hidden_units)\n",
        "    context_vector, _ = self.attention(encoder_states, hidden_state)\n",
        "\n",
        "    # Get target language embedding\n",
        "    x_embd = self.emedding(x)\n",
        "\n",
        "    # Concatenate context_vector with the next embedded token\n",
        "    input = tf.concat([tf.expand_dims(context_vector, 1), x_embd], axis=-1)\n",
        "\n",
        "    # Get LSTM outputs\n",
        "    out_lstm, h, c = self.lstm(input, initial_state=decoder_states)\n",
        "\n",
        "    # Propagate LSTM output through dense layer with softmax activation function\n",
        "    out = self.output_dense(out_lstm)\n",
        "\n",
        "    if is_verbose:\n",
        "      print(f\"Input: encoder_states shape: {encoder_states.shape}, input hidden state: {hidden_state.shape}, input cell state: {cell_state.shape}\")\n",
        "      print(f\"context_vector shape: {context_vector.shape}, After embedding shape: {x_embd.shape}\")\n",
        "      print(f\"LSTM input shape: {input.shape}, LSTM output shape: {out_lstm.shape}\")\n",
        "      print(f\"LSTM output hidden state: {h.shape}, LSTM output cell state: {c.shape}\")\n",
        "      print(f\"Output after softmax: {out.shape}\")\n",
        "\n",
        "    return out, h, c"
      ]
    },
    {
      "cell_type": "code",
      "source": [
        "# Test Decoder\n",
        "dec = Decoder(output_vocab=100, embedding_dim=32, lstm_hidden_units=16)\n",
        "x = np.zeros((4, 1))\n",
        "decoder_states = tf.convert_to_tensor(np.zeros((4, 16)), dtype=tf.float32), tf.convert_to_tensor((np.zeros((4, 16))), dtype=tf.float32)\n",
        "encoder_states = tf.convert_to_tensor(np.zeros((4, 3, 16)), dtype=tf.float32)\n",
        "out, h, c = dec(x=x, decoder_states=decoder_states, encoder_states=encoder_states, is_verbose=True)"
      ],
      "metadata": {
        "colab": {
          "base_uri": "https://localhost:8080/"
        },
        "id": "C7t2waVsfhYh",
        "outputId": "dfb3c49b-8fba-4205-80ac-f8510723e638"
      },
      "execution_count": 168,
      "outputs": [
        {
          "output_type": "stream",
          "name": "stdout",
          "text": [
            "Input: encoder_states shape: (4, 3, 16), input hidden state: (4, 16), input cell state: (4, 16)\n",
            "context_vector shape: (4, 16), After embedding shape: (4, 1, 32)\n",
            "LSTM input shape: (4, 1, 48), LSTM output shape: (4, 1, 16)\n",
            "LSTM output hidden state: (4, 16), LSTM output cell state: (4, 16)\n",
            "Output after softmax: (4, 1, 100)\n"
          ]
        }
      ]
    },
    {
      "cell_type": "code",
      "execution_count": 243,
      "metadata": {
        "id": "caH2BctcgtQ_"
      },
      "outputs": [],
      "source": [
        "class Seq2SeqBahdanauAttention(tf.keras.Model):\n",
        "  '''\n",
        "  Encoder-Decoder network implements the Bahdanau attention mechanism\n",
        "  '''\n",
        "  def __init__(self,\n",
        "               input_vocab,\n",
        "               output_vocab,\n",
        "               encoder_embd_dim,\n",
        "               decoder_embd_dim,\n",
        "               encoder_lstm_units,\n",
        "               decoder_lstm_units,\n",
        "               max_output_length,\n",
        "               start_token_index,\n",
        "               end_token_index):\n",
        "    '''\n",
        "      :param input_vocab - vocabluary dimension of the source language\n",
        "      :param output_vocab - vocabluary dimension of the target language\n",
        "      :param encoder_embd_dim - dimension of the source language words embeddings\n",
        "      :param decoder_embd_dim - dimension of the target language words embeddings\n",
        "      :param encoder_lstm_units - the number of the LSTM cell units\n",
        "      :param decoder_lstm_units - the number of the LSTM cell units\n",
        "      :param max_output_length - the maximum length of the output sequence\n",
        "      :param start_token_index - index of the start token in the output vocabulary\n",
        "      :param end_token_index - index of the end token in the output vocabulary\n",
        "\n",
        "    '''\n",
        "    super(Seq2SeqBahdanauAttention, self).__init__()\n",
        "    self.encoder = Encoder(input_vocab=input_vocab,\n",
        "                           embedding_dim=encoder_embd_dim,\n",
        "                           lstm_hidden_units=encoder_lstm_units)\n",
        "    self.decoder = Decoder(output_vocab=output_vocab,\n",
        "                           embedding_dim=decoder_embd_dim,\n",
        "                           lstm_hidden_units=decoder_lstm_units)\n",
        "    self.max_output_length = max_output_length\n",
        "    self.start_token_index = start_token_index\n",
        "    self.end_token_index = end_token_index\n",
        "    self.__loss_object = tf.keras.losses.SparseCategoricalCrossentropy(reduction='none')\n",
        "    self.__metric_object = tf.keras.metrics.SparseCategoricalAccuracy()\n",
        "\n",
        "\n",
        "  def __loss_function(self, true, pred):\n",
        "    '''\n",
        "    '''\n",
        "    loss = self.__loss_object(true, pred)\n",
        "    mask = tf.math.not_equal(true, 0)\n",
        "    mask = tf.cast(mask, dtype=loss.dtype)\n",
        "    return tf.reduce_mean(loss*mask)\n",
        "\n",
        "    # mask = tf.math.logical_not(tf.math.equal(true, 0))\n",
        "    # loss_ = self.__loss_object(true, pred)\n",
        "    # mask = tf.cast(mask, dtype=loss_.dtype)\n",
        "    # loss_ *= mask\n",
        "    # return tf.reduce_mean(loss_)\n",
        "\n",
        "  def __metric_function(self, true, pred):\n",
        "    '''\n",
        "    '''\n",
        "    mask = tf.math.not_equal(true, 0)\n",
        "    self.__metric_object.update_state(true[mask], pred[mask])\n",
        "    return self.__metric_object.result().numpy()\n",
        "\n",
        "  def __forward(self, X_encoder, X_decoder=None, Y_decoder=None):\n",
        "    '''\n",
        "      Forward propagation\n",
        "      :param X_encoder - input encoder sequence (source language) (batch_size, sequence_length_in_the_source_lang)\n",
        "      :param X_decoder - input decoder sequence (target language) (batch_size, sequence_length_in_the_target_lang + 2)\n",
        "      (ex. [start_token_index, word1_index, woprd2_index, end_token_index)\n",
        "      :param Y_decoder - output decoder sequence (target language) (batch_size, sequence_length_in_the_target_lang + 1)\n",
        "      (ex. [word1_index, woprd2_index, end_token_index)\n",
        "\n",
        "      We use X_decoder=None and Y_decoder=None for the purpose of prediction\n",
        "      We use X_decoder=None and Y_decoder is not None for the purpose of validation during training\n",
        "    '''\n",
        "    output = []\n",
        "    batch_size = X_encoder.shape[0]\n",
        "    encoder_states = []\n",
        "    loss = 0\n",
        "    accuracy = None\n",
        "\n",
        "    # Here we deal with the mentioned earlier problem of getting encoder hidden states on each timestep.\n",
        "    # As we mentoined before LSTM parameter 'return_sequences' doesn't affect on the hidden and cell states, i.e.\n",
        "    # we can't get LSTM states after every timestep. Therefore we need do it manually. It means the following:\n",
        "    # 1) we take the first token of the input sequence, propagate it through the encoder and save the LSTM states.\n",
        "    # 2) we take the two first tokens of the input sequence, propagate them through the encoder and save the last LSTM states.\n",
        "    # 3) We repeat step 2 adding the next token and save the last LSTM states.\n",
        "\n",
        "    for t in range(X_encoder.shape[1]):\n",
        "      h, c = self.encoder(X_encoder[:, :t+1])\n",
        "      encoder_states.append(h)\n",
        "    encoder_states = tf.stack(encoder_states, axis=1) # make tensor from the list\n",
        "\n",
        "    # save the last encoder hidden and cell states, since they are the initial decoder states\n",
        "    hidden_state = encoder_states[:, -1, :]\n",
        "    cell_state = c\n",
        "\n",
        "    if X_decoder is not None and Y_decoder is not None: # if we train network\n",
        "      # for every timestep (i.e. every token) of the target language sequence\n",
        "      for t in range(X_decoder.shape[1]):\n",
        "        # Set the decoder_input to the t-th token of the decoder input sequence.\n",
        "        # We use here the teacher forcing method for faster and efficient decoder training.\n",
        "        # The method uses the ground true as the decoder input instead of the prediction\n",
        "        # from the previous timestep. We need decoder_input to have the dimension (batch_size, 1)\n",
        "        decoder_input = X_decoder[:, t:t+1]\n",
        "        # print(decoder_input.shape)\n",
        "\n",
        "        # Calculate decoder output and states. We\n",
        "        out, hidden_state, cell_state = self.decoder(x=decoder_input,\n",
        "                                                     decoder_states=(hidden_state, cell_state),\n",
        "                                                     encoder_states=encoder_states)\n",
        "\n",
        "        output.append(out) # Collect output token\n",
        "        loss += self.__loss_function(Y_decoder[:, t], out) # Calculate loss function\n",
        "        accuracy = self.__metric_function(Y_decoder[:, t], np.squeeze(out)) # Calculate accuracy\n",
        "    else: # if we validate (calculate loss and accuracy on the test set) the network or make prediction\n",
        "        current_step = 0 # current timestep\n",
        "\n",
        "        # Set the first decoder input to the start token index. decoder_input dimension is (batch_size, )\n",
        "        decoder_input = np.full((batch_size, 1), self.start_token_index)\n",
        "\n",
        "        # Iterate till the maximum outpt length will be achieved.\n",
        "        while current_step<self.max_output_length:\n",
        "          out, hidden_state, cell_state = self.decoder(x=decoder_input,\n",
        "                                                       decoder_states=(hidden_state, cell_state),\n",
        "                                                       encoder_states=encoder_states)\n",
        "          if Y_decoder is not None: # if we validate the network\n",
        "            true, pred = Y_decoder[:, current_step], np.squeeze(out)\n",
        "            loss += self.__loss_function(true, pred) # loss function\n",
        "            accuracy = self.__metric_function(true, pred) # accuracy metric\n",
        "\n",
        "          # Get the indexes of the predicted tokens. Dimension is (batch_size, )\n",
        "          tokens = np.argmax(np.squeeze(out), axis=1)\n",
        "\n",
        "          # Here we don't use teacher forcing, i.e. the output from the previous timestep\n",
        "          # is the input for the current one.\n",
        "          decoder_input = tf.expand_dims(tokens, 1)\n",
        "          output.append(out)\n",
        "          current_step += 1\n",
        "\n",
        "    # If it's not a inference we calculate loss function value over batch\n",
        "    batch_loss = tf.reduce_sum(loss) / Y_decoder.shape[1] if Y_decoder is not None else None\n",
        "    return output, loss, batch_loss, accuracy\n",
        "\n",
        "  def __train_step(self, X_encoder, X_decoder, Y_decoder, learning_rate):\n",
        "    '''\n",
        "      Perform one train iteration\n",
        "\n",
        "      :param X_encoder - input encoder sequence (source language) (batch_size, sequence_length_in_the_source_lang)\n",
        "      :param X_decoder - input decoder sequence (target language) (batch_size, sequence_length_in_the_target_lang + 2)\n",
        "      (ex. [start_token_index, word1_index, woprd2_index, end_token_index)\n",
        "      :param Y_decoder - output decoder sequence (target language) (batch_size, sequence_length_in_the_target_lang + 1)\n",
        "      (ex. [word1_index, woprd2_index, end_token_index)\n",
        "      :param learning_rate - an optimizer learning rate\n",
        "    '''\n",
        "    optimizer = tf.keras.optimizers.RMSprop(learning_rate=learning_rate)\n",
        "    with tf.GradientTape() as tape:\n",
        "      _, loss, batch_loss, accuracy = self.__forward(X_encoder, X_decoder, Y_decoder)\n",
        "      variables = self.encoder.trainable_variables + self.decoder.trainable_variables\n",
        "      gradients = tape.gradient(loss, variables)\n",
        "      optimizer.apply_gradients(zip(gradients, variables))\n",
        "    return batch_loss, accuracy\n",
        "\n",
        "  def __align_to_length(self, X, batch_size=32):\n",
        "    '''\n",
        "    Reorder dataset according the sample sequence lengths\n",
        "\n",
        "    It's known that the Bahdanau attention mechanism requires all encoder hidden states.\n",
        "    In general samples in the batch have different lengths, hence, they have different number of hidden states.\n",
        "    So, a new problem arises - how can we store a batch with the different row lengths (row is a vector of the encoder hidden states).\n",
        "    There are several ways to manage it. One of them can be transform the dataset so that each batch consists the\n",
        "    sequences with the same lengths.\n",
        "\n",
        "    :param X - dataset\n",
        "    :param batch_size - batch size\n",
        "\n",
        "    Ex.\n",
        "    An original dataset X\n",
        "    [\n",
        "      [1, 2, 3],\n",
        "      [4, 5, 6, 7],\n",
        "      [8, 9],\n",
        "      [10, 11, 12, 13],\n",
        "      [14, 15, 16],\n",
        "      [17, 18]\n",
        "    ]\n",
        "    batch_size = 2\n",
        "    A new dataset\n",
        "    [\n",
        "      [1, 2, 3],\n",
        "      [14, 15, 16],\n",
        "      [4, 5, 6, 7],\n",
        "      [10, 11, 12, 13],\n",
        "      [8, 9],\n",
        "      [17, 18]\n",
        "    ]\n",
        "    So, after splitting into batches, each batch will contain the sequences with the same lengths\n",
        "    '''\n",
        "    c = Counter([len(x[0]) for x in X])\n",
        "    X_new = []\n",
        "    for length, count in c.most_common():\n",
        "      if count >= batch_size:\n",
        "        batches_count = count//batch_size\n",
        "        X_new += list(filter(lambda x: len(x[0])==length, X))[:batches_count*batch_size]\n",
        "    return X_new\n",
        "\n",
        "  def __generate_batches(self, X, Y, batch_size=32):\n",
        "    '''\n",
        "     Batch generator.\n",
        "\n",
        "     Each batch is the number of tuple: (Encoder_input, Decoder_input, Decoder_output a.k.a. ground truth)  )\n",
        "     :param X - encoder and decoder inputs\n",
        "     :param Y - decoder output\n",
        "     :param batch_size - batch size\n",
        "    '''\n",
        "    X_encoder, X_decoder = zip(*X)\n",
        "    ds = list(zip(X_encoder, X_decoder, Y))\n",
        "    X_new = self.__align_to_length(ds, batch_size)\n",
        "    X_encoder, X_decoder, Y_decoder = zip(*X_new)\n",
        "    X_encoder, X_decoder, Y_decoder = list(X_encoder), list(X_decoder), list(Y_decoder)\n",
        "    batches_count = len(X_encoder) // batch_size\n",
        "    for i in range(batches_count):\n",
        "      lower_idx, upper_idx = i*batch_size, (i+1)*batch_size\n",
        "      yield np.array(X_encoder[lower_idx:upper_idx]), \\\n",
        "            np.array(X_decoder[lower_idx:upper_idx]), \\\n",
        "            np.array(Y_decoder[lower_idx:upper_idx])\n",
        "\n",
        "  def fit(self, X_encoder, X_decoder, Y_decoder, epoch=20, batch_size=32, train_size=0.8, learning_rate=0.001):\n",
        "    '''\n",
        "      Train network\n",
        "\n",
        "      :param X_encoder - input encoder sequence (source language) (batch_size, sequence_length_in_the_source_lang)\n",
        "      :param X_decoder - input decoder sequence (target language) (batch_size, sequence_length_in_the_target_lang + 2)\n",
        "      (ex. [start_token_index, word1_index, woprd2_index, end_token_index)\n",
        "      :param Y_decoder - output decoder sequence (target language) (batch_size, sequence_length_in_the_target_lang + 1)\n",
        "      :param epoch - the number of epochs\n",
        "      :param batch_size - batch size\n",
        "      :param train_size - train dataset size (0 <= train_size <= 1)\n",
        "      :param learning_rate - an optimizer learning rate\n",
        "    '''\n",
        "\n",
        "    # Split input and outputs into train and test. We need to combine two inputs (encoder and decoder)\n",
        "    X_train, X_test, Y_decoder_train, Y_decoder_test = train_test_split(list(zip(X_encoder, X_decoder)),\n",
        "                                                                        Y_decoder,\n",
        "                                                                        train_size=train_size)\n",
        "    # Align the train and test datasets according to the batch_size and sequences lengths\n",
        "    X_new_train = self.__align_to_length(X_train, batch_size)\n",
        "    X_new_test = self.__align_to_length(X_test, batch_size)\n",
        "\n",
        "    # Calculate some usefull values\n",
        "    total_train_batches = len(X_new_train) // batch_size\n",
        "    total_test_batches = len(X_new_test) // batch_size\n",
        "    train_ds_size = len(X_new_train)\n",
        "    test_ds_size = len(X_new_test)\n",
        "\n",
        "    # dictionary for saving the loss function and accuracy values\n",
        "    history = {\"train_loss\": [], \"train_accuracy\": [], \"test_loss\": [], \"test_accuracy\": []}\n",
        "\n",
        "    print(f\"Train dataset: {total_train_batches} batches, {train_ds_size} samples\")\n",
        "    print(f\"Test dataset: {total_test_batches} batches, {test_ds_size} samples\")\n",
        "    print(f\"{'='*10}\")\n",
        "\n",
        "    # Iterate over epochs\n",
        "    for ep in range(1, epoch+1):\n",
        "      print(f\"Epoch {ep}/{epoch}\")\n",
        "\n",
        "      # Train phase\n",
        "      total_loss = 0\n",
        "      self.__metric_object.reset_state()\n",
        "      # Iterate over batches\n",
        "      for batch, (X_batch_encoder,\n",
        "                  X_batch_decoder,\n",
        "                  Y_batch_decoder) in tqdm(enumerate(self.__generate_batches(X_train,\n",
        "                                                                             Y_decoder_train,\n",
        "                                                                             batch_size=batch_size)),\n",
        "                                           desc=f\"Train dataset\"):\n",
        "        # Propagate the batch through network and modify weights\n",
        "        batch_loss, batch_accuracy = self.__train_step(X_batch_encoder, X_batch_decoder, Y_batch_decoder, learning_rate)\n",
        "\n",
        "        total_loss += batch_loss\n",
        "        accuracy = batch_accuracy\n",
        "\n",
        "      total_loss /= total_train_batches\n",
        "      history[\"train_loss\"].append(total_loss.numpy())\n",
        "      history[\"train_accuracy\"].append(np.mean(accuracy))\n",
        "      print(f\"Loss on train: {total_loss.numpy():.4f} Accuracy on train: {accuracy:.4f}\")\n",
        "\n",
        "      # Test phase\n",
        "      total_loss = 0\n",
        "      self.__metric_object.reset_state()\n",
        "\n",
        "      # Iterate over batches. We don't need decoder input here because we won't use teacher forcing\n",
        "      for batch, (X_batch_encoder,\n",
        "                  _,\n",
        "                  Y_batch_decoder) in tqdm(enumerate(self.__generate_batches(X_test,\n",
        "                                                                             Y_decoder_test,\n",
        "                                                                             batch_size=batch_size)),\n",
        "                                           desc=f\"Test dataset\"):\n",
        "        _, _, batch_loss, batch_accuracy = self.__forward(X_batch_encoder,\n",
        "                                                          None,\n",
        "                                                          Y_batch_decoder)\n",
        "        total_loss += batch_loss\n",
        "        accuracy = batch_accuracy\n",
        "\n",
        "      total_loss /= total_test_batches\n",
        "      history[\"test_loss\"].append(total_loss.numpy())\n",
        "      history[\"test_accuracy\"].append(np.mean(accuracy))\n",
        "      print(f\"Loss on test: {total_loss.numpy():.4f} Accuracy on test: {accuracy:.4f}\")\n",
        "    return history\n",
        "\n",
        "  def predict(self, X_encoder):\n",
        "    '''\n",
        "    Make prediction\n",
        "\n",
        "    :param X_encoder - input encoder sequence (source language) (batch_size, sequence_length_in_the_source_lang)\n",
        "    '''\n",
        "    out, _, _, _ = self.__forward(X_encoder)\n",
        "    return out"
      ]
    },
    {
      "cell_type": "code",
      "execution_count": 251,
      "metadata": {
        "id": "R7HQ2-Sqlpye"
      },
      "outputs": [],
      "source": [
        "embedding_dim = 32\n",
        "lstm_hidden_units = 64"
      ]
    },
    {
      "cell_type": "code",
      "execution_count": 269,
      "metadata": {
        "id": "Jn12K0-qgtY0"
      },
      "outputs": [],
      "source": [
        "model = Seq2SeqBahdanauAttention(input_vocab=input_vocab,\n",
        "                                 output_vocab=output_vocab,\n",
        "                                 encoder_embd_dim=embedding_dim,\n",
        "                                 decoder_embd_dim=embedding_dim,\n",
        "                                 encoder_lstm_units=lstm_hidden_units,\n",
        "                                 decoder_lstm_units=lstm_hidden_units,\n",
        "                                 max_output_length=decoder_vec.max_length,\n",
        "                                 start_token_index=decoder_vec.vocabulary.index(START_TOKEN),\n",
        "                                 end_token_index=decoder_vec.vocabulary.index(END_TOKEN))"
      ]
    },
    {
      "cell_type": "code",
      "execution_count": 270,
      "metadata": {
        "colab": {
          "base_uri": "https://localhost:8080/"
        },
        "id": "RCJ4QCjxGVnB",
        "outputId": "dcbf88ea-c4b3-4d2f-ddaf-ca47d2a07b1a"
      },
      "outputs": [
        {
          "output_type": "stream",
          "name": "stdout",
          "text": [
            "Train dataset: 247 batches, 7904 samples\n",
            "Test dataset: 61 batches, 1952 samples\n",
            "==========\n",
            "Epoch 1/30\n"
          ]
        },
        {
          "output_type": "stream",
          "name": "stderr",
          "text": [
            "Train dataset: 247it [02:18,  1.78it/s]\n"
          ]
        },
        {
          "output_type": "stream",
          "name": "stdout",
          "text": [
            "Loss on train: 3.7544 Accuracy on train: 0.2371\n"
          ]
        },
        {
          "output_type": "stream",
          "name": "stderr",
          "text": [
            "Test dataset: 61it [00:18,  3.24it/s]\n"
          ]
        },
        {
          "output_type": "stream",
          "name": "stdout",
          "text": [
            "Loss on test: 4.1925 Accuracy on test: 0.0960\n",
            "Epoch 2/30\n"
          ]
        },
        {
          "output_type": "stream",
          "name": "stderr",
          "text": [
            "Train dataset: 247it [02:19,  1.78it/s]\n"
          ]
        },
        {
          "output_type": "stream",
          "name": "stdout",
          "text": [
            "Loss on train: 3.2196 Accuracy on train: 0.3065\n"
          ]
        },
        {
          "output_type": "stream",
          "name": "stderr",
          "text": [
            "Test dataset: 61it [00:18,  3.27it/s]\n"
          ]
        },
        {
          "output_type": "stream",
          "name": "stdout",
          "text": [
            "Loss on test: 4.2576 Accuracy on test: 0.1388\n",
            "Epoch 3/30\n"
          ]
        },
        {
          "output_type": "stream",
          "name": "stderr",
          "text": [
            "Train dataset: 247it [02:17,  1.79it/s]\n"
          ]
        },
        {
          "output_type": "stream",
          "name": "stdout",
          "text": [
            "Loss on train: 3.0282 Accuracy on train: 0.3487\n"
          ]
        },
        {
          "output_type": "stream",
          "name": "stderr",
          "text": [
            "Test dataset: 61it [00:19,  3.20it/s]\n"
          ]
        },
        {
          "output_type": "stream",
          "name": "stdout",
          "text": [
            "Loss on test: 4.0639 Accuracy on test: 0.2168\n",
            "Epoch 4/30\n"
          ]
        },
        {
          "output_type": "stream",
          "name": "stderr",
          "text": [
            "Train dataset: 247it [02:21,  1.75it/s]\n"
          ]
        },
        {
          "output_type": "stream",
          "name": "stdout",
          "text": [
            "Loss on train: 2.8918 Accuracy on train: 0.3783\n"
          ]
        },
        {
          "output_type": "stream",
          "name": "stderr",
          "text": [
            "Test dataset: 61it [00:18,  3.28it/s]\n"
          ]
        },
        {
          "output_type": "stream",
          "name": "stdout",
          "text": [
            "Loss on test: 4.0656 Accuracy on test: 0.2227\n",
            "Epoch 5/30\n"
          ]
        },
        {
          "output_type": "stream",
          "name": "stderr",
          "text": [
            "Train dataset: 247it [02:16,  1.81it/s]\n"
          ]
        },
        {
          "output_type": "stream",
          "name": "stdout",
          "text": [
            "Loss on train: 2.7838 Accuracy on train: 0.4056\n"
          ]
        },
        {
          "output_type": "stream",
          "name": "stderr",
          "text": [
            "Test dataset: 61it [00:18,  3.36it/s]\n"
          ]
        },
        {
          "output_type": "stream",
          "name": "stdout",
          "text": [
            "Loss on test: 4.0685 Accuracy on test: 0.2214\n",
            "Epoch 6/30\n"
          ]
        },
        {
          "output_type": "stream",
          "name": "stderr",
          "text": [
            "Train dataset: 247it [02:15,  1.83it/s]\n"
          ]
        },
        {
          "output_type": "stream",
          "name": "stdout",
          "text": [
            "Loss on train: 2.6902 Accuracy on train: 0.4260\n"
          ]
        },
        {
          "output_type": "stream",
          "name": "stderr",
          "text": [
            "Test dataset: 61it [00:18,  3.33it/s]\n"
          ]
        },
        {
          "output_type": "stream",
          "name": "stdout",
          "text": [
            "Loss on test: 3.9173 Accuracy on test: 0.2301\n",
            "Epoch 7/30\n"
          ]
        },
        {
          "output_type": "stream",
          "name": "stderr",
          "text": [
            "Train dataset: 247it [02:16,  1.80it/s]\n"
          ]
        },
        {
          "output_type": "stream",
          "name": "stdout",
          "text": [
            "Loss on train: 2.6104 Accuracy on train: 0.4451\n"
          ]
        },
        {
          "output_type": "stream",
          "name": "stderr",
          "text": [
            "Test dataset: 61it [00:18,  3.31it/s]\n"
          ]
        },
        {
          "output_type": "stream",
          "name": "stdout",
          "text": [
            "Loss on test: 3.8012 Accuracy on test: 0.2525\n",
            "Epoch 8/30\n"
          ]
        },
        {
          "output_type": "stream",
          "name": "stderr",
          "text": [
            "Train dataset: 247it [02:15,  1.82it/s]\n"
          ]
        },
        {
          "output_type": "stream",
          "name": "stdout",
          "text": [
            "Loss on train: 2.5334 Accuracy on train: 0.4634\n"
          ]
        },
        {
          "output_type": "stream",
          "name": "stderr",
          "text": [
            "Test dataset: 61it [00:18,  3.35it/s]\n"
          ]
        },
        {
          "output_type": "stream",
          "name": "stdout",
          "text": [
            "Loss on test: 3.7328 Accuracy on test: 0.2672\n",
            "Epoch 9/30\n"
          ]
        },
        {
          "output_type": "stream",
          "name": "stderr",
          "text": [
            "Train dataset: 247it [02:17,  1.80it/s]\n"
          ]
        },
        {
          "output_type": "stream",
          "name": "stdout",
          "text": [
            "Loss on train: 2.4701 Accuracy on train: 0.4788\n"
          ]
        },
        {
          "output_type": "stream",
          "name": "stderr",
          "text": [
            "Test dataset: 61it [00:18,  3.35it/s]\n"
          ]
        },
        {
          "output_type": "stream",
          "name": "stdout",
          "text": [
            "Loss on test: 3.7206 Accuracy on test: 0.2743\n",
            "Epoch 10/30\n"
          ]
        },
        {
          "output_type": "stream",
          "name": "stderr",
          "text": [
            "Train dataset: 247it [02:16,  1.81it/s]\n"
          ]
        },
        {
          "output_type": "stream",
          "name": "stdout",
          "text": [
            "Loss on train: 2.4138 Accuracy on train: 0.4903\n"
          ]
        },
        {
          "output_type": "stream",
          "name": "stderr",
          "text": [
            "Test dataset: 61it [00:18,  3.38it/s]\n"
          ]
        },
        {
          "output_type": "stream",
          "name": "stdout",
          "text": [
            "Loss on test: 3.7042 Accuracy on test: 0.2878\n",
            "Epoch 11/30\n"
          ]
        },
        {
          "output_type": "stream",
          "name": "stderr",
          "text": [
            "Train dataset: 247it [02:12,  1.86it/s]\n"
          ]
        },
        {
          "output_type": "stream",
          "name": "stdout",
          "text": [
            "Loss on train: 2.3626 Accuracy on train: 0.5010\n"
          ]
        },
        {
          "output_type": "stream",
          "name": "stderr",
          "text": [
            "Test dataset: 61it [00:18,  3.38it/s]\n"
          ]
        },
        {
          "output_type": "stream",
          "name": "stdout",
          "text": [
            "Loss on test: 3.6610 Accuracy on test: 0.2944\n",
            "Epoch 12/30\n"
          ]
        },
        {
          "output_type": "stream",
          "name": "stderr",
          "text": [
            "Train dataset: 247it [02:16,  1.81it/s]\n"
          ]
        },
        {
          "output_type": "stream",
          "name": "stdout",
          "text": [
            "Loss on train: 2.3157 Accuracy on train: 0.5108\n"
          ]
        },
        {
          "output_type": "stream",
          "name": "stderr",
          "text": [
            "Test dataset: 61it [00:17,  3.39it/s]\n"
          ]
        },
        {
          "output_type": "stream",
          "name": "stdout",
          "text": [
            "Loss on test: 3.6260 Accuracy on test: 0.3033\n",
            "Epoch 13/30\n"
          ]
        },
        {
          "output_type": "stream",
          "name": "stderr",
          "text": [
            "Train dataset: 247it [02:12,  1.86it/s]\n"
          ]
        },
        {
          "output_type": "stream",
          "name": "stdout",
          "text": [
            "Loss on train: 2.2723 Accuracy on train: 0.5188\n"
          ]
        },
        {
          "output_type": "stream",
          "name": "stderr",
          "text": [
            "Test dataset: 61it [00:18,  3.34it/s]\n"
          ]
        },
        {
          "output_type": "stream",
          "name": "stdout",
          "text": [
            "Loss on test: 3.6100 Accuracy on test: 0.3058\n",
            "Epoch 14/30\n"
          ]
        },
        {
          "output_type": "stream",
          "name": "stderr",
          "text": [
            "Train dataset: 247it [02:15,  1.82it/s]\n"
          ]
        },
        {
          "output_type": "stream",
          "name": "stdout",
          "text": [
            "Loss on train: 2.2347 Accuracy on train: 0.5269\n"
          ]
        },
        {
          "output_type": "stream",
          "name": "stderr",
          "text": [
            "Test dataset: 61it [00:18,  3.35it/s]\n"
          ]
        },
        {
          "output_type": "stream",
          "name": "stdout",
          "text": [
            "Loss on test: 3.6437 Accuracy on test: 0.2972\n",
            "Epoch 15/30\n"
          ]
        },
        {
          "output_type": "stream",
          "name": "stderr",
          "text": [
            "Train dataset: 247it [02:14,  1.84it/s]\n"
          ]
        },
        {
          "output_type": "stream",
          "name": "stdout",
          "text": [
            "Loss on train: 2.1998 Accuracy on train: 0.5338\n"
          ]
        },
        {
          "output_type": "stream",
          "name": "stderr",
          "text": [
            "Test dataset: 61it [00:18,  3.34it/s]\n"
          ]
        },
        {
          "output_type": "stream",
          "name": "stdout",
          "text": [
            "Loss on test: 3.6326 Accuracy on test: 0.3045\n",
            "Epoch 16/30\n"
          ]
        },
        {
          "output_type": "stream",
          "name": "stderr",
          "text": [
            "Train dataset: 247it [02:17,  1.79it/s]\n"
          ]
        },
        {
          "output_type": "stream",
          "name": "stdout",
          "text": [
            "Loss on train: 2.1659 Accuracy on train: 0.5404\n"
          ]
        },
        {
          "output_type": "stream",
          "name": "stderr",
          "text": [
            "Test dataset: 61it [00:18,  3.36it/s]\n"
          ]
        },
        {
          "output_type": "stream",
          "name": "stdout",
          "text": [
            "Loss on test: 3.6215 Accuracy on test: 0.3120\n",
            "Epoch 17/30\n"
          ]
        },
        {
          "output_type": "stream",
          "name": "stderr",
          "text": [
            "Train dataset: 247it [02:13,  1.86it/s]\n"
          ]
        },
        {
          "output_type": "stream",
          "name": "stdout",
          "text": [
            "Loss on train: 2.1347 Accuracy on train: 0.5457\n"
          ]
        },
        {
          "output_type": "stream",
          "name": "stderr",
          "text": [
            "Test dataset: 61it [00:18,  3.32it/s]\n"
          ]
        },
        {
          "output_type": "stream",
          "name": "stdout",
          "text": [
            "Loss on test: 3.6351 Accuracy on test: 0.3119\n",
            "Epoch 18/30\n"
          ]
        },
        {
          "output_type": "stream",
          "name": "stderr",
          "text": [
            "Train dataset: 247it [02:16,  1.81it/s]\n"
          ]
        },
        {
          "output_type": "stream",
          "name": "stdout",
          "text": [
            "Loss on train: 2.1042 Accuracy on train: 0.5518\n"
          ]
        },
        {
          "output_type": "stream",
          "name": "stderr",
          "text": [
            "Test dataset: 61it [00:18,  3.34it/s]\n"
          ]
        },
        {
          "output_type": "stream",
          "name": "stdout",
          "text": [
            "Loss on test: 3.6387 Accuracy on test: 0.3188\n",
            "Epoch 19/30\n"
          ]
        },
        {
          "output_type": "stream",
          "name": "stderr",
          "text": [
            "Train dataset: 247it [02:16,  1.81it/s]\n"
          ]
        },
        {
          "output_type": "stream",
          "name": "stdout",
          "text": [
            "Loss on train: 2.0736 Accuracy on train: 0.5584\n"
          ]
        },
        {
          "output_type": "stream",
          "name": "stderr",
          "text": [
            "Test dataset: 61it [00:18,  3.30it/s]\n"
          ]
        },
        {
          "output_type": "stream",
          "name": "stdout",
          "text": [
            "Loss on test: 3.5935 Accuracy on test: 0.3291\n",
            "Epoch 20/30\n"
          ]
        },
        {
          "output_type": "stream",
          "name": "stderr",
          "text": [
            "Train dataset: 247it [02:15,  1.82it/s]\n"
          ]
        },
        {
          "output_type": "stream",
          "name": "stdout",
          "text": [
            "Loss on train: 2.0444 Accuracy on train: 0.5633\n"
          ]
        },
        {
          "output_type": "stream",
          "name": "stderr",
          "text": [
            "Test dataset: 61it [00:18,  3.26it/s]\n"
          ]
        },
        {
          "output_type": "stream",
          "name": "stdout",
          "text": [
            "Loss on test: 3.5878 Accuracy on test: 0.3304\n",
            "Epoch 21/30\n"
          ]
        },
        {
          "output_type": "stream",
          "name": "stderr",
          "text": [
            "Train dataset: 247it [02:17,  1.80it/s]\n"
          ]
        },
        {
          "output_type": "stream",
          "name": "stdout",
          "text": [
            "Loss on train: 2.0177 Accuracy on train: 0.5697\n"
          ]
        },
        {
          "output_type": "stream",
          "name": "stderr",
          "text": [
            "Test dataset: 61it [00:18,  3.30it/s]\n"
          ]
        },
        {
          "output_type": "stream",
          "name": "stdout",
          "text": [
            "Loss on test: 3.5716 Accuracy on test: 0.3397\n",
            "Epoch 22/30\n"
          ]
        },
        {
          "output_type": "stream",
          "name": "stderr",
          "text": [
            "Train dataset: 247it [02:17,  1.79it/s]\n"
          ]
        },
        {
          "output_type": "stream",
          "name": "stdout",
          "text": [
            "Loss on train: 1.9904 Accuracy on train: 0.5744\n"
          ]
        },
        {
          "output_type": "stream",
          "name": "stderr",
          "text": [
            "Test dataset: 61it [00:18,  3.29it/s]\n"
          ]
        },
        {
          "output_type": "stream",
          "name": "stdout",
          "text": [
            "Loss on test: 3.5683 Accuracy on test: 0.3454\n",
            "Epoch 23/30\n"
          ]
        },
        {
          "output_type": "stream",
          "name": "stderr",
          "text": [
            "Train dataset: 247it [02:16,  1.81it/s]\n"
          ]
        },
        {
          "output_type": "stream",
          "name": "stdout",
          "text": [
            "Loss on train: 1.9666 Accuracy on train: 0.5787\n"
          ]
        },
        {
          "output_type": "stream",
          "name": "stderr",
          "text": [
            "Test dataset: 61it [00:18,  3.28it/s]\n"
          ]
        },
        {
          "output_type": "stream",
          "name": "stdout",
          "text": [
            "Loss on test: 3.6328 Accuracy on test: 0.3406\n",
            "Epoch 24/30\n"
          ]
        },
        {
          "output_type": "stream",
          "name": "stderr",
          "text": [
            "Train dataset: 247it [02:16,  1.81it/s]\n"
          ]
        },
        {
          "output_type": "stream",
          "name": "stdout",
          "text": [
            "Loss on train: 1.9433 Accuracy on train: 0.5827\n"
          ]
        },
        {
          "output_type": "stream",
          "name": "stderr",
          "text": [
            "Test dataset: 61it [00:18,  3.33it/s]\n"
          ]
        },
        {
          "output_type": "stream",
          "name": "stdout",
          "text": [
            "Loss on test: 3.6078 Accuracy on test: 0.3423\n",
            "Epoch 25/30\n"
          ]
        },
        {
          "output_type": "stream",
          "name": "stderr",
          "text": [
            "Train dataset: 247it [02:16,  1.81it/s]\n"
          ]
        },
        {
          "output_type": "stream",
          "name": "stdout",
          "text": [
            "Loss on train: 1.9198 Accuracy on train: 0.5875\n"
          ]
        },
        {
          "output_type": "stream",
          "name": "stderr",
          "text": [
            "Test dataset: 61it [00:18,  3.30it/s]\n"
          ]
        },
        {
          "output_type": "stream",
          "name": "stdout",
          "text": [
            "Loss on test: 3.6041 Accuracy on test: 0.3458\n",
            "Epoch 26/30\n"
          ]
        },
        {
          "output_type": "stream",
          "name": "stderr",
          "text": [
            "Train dataset: 247it [02:14,  1.83it/s]\n"
          ]
        },
        {
          "output_type": "stream",
          "name": "stdout",
          "text": [
            "Loss on train: 1.8975 Accuracy on train: 0.5916\n"
          ]
        },
        {
          "output_type": "stream",
          "name": "stderr",
          "text": [
            "Test dataset: 61it [00:18,  3.33it/s]\n"
          ]
        },
        {
          "output_type": "stream",
          "name": "stdout",
          "text": [
            "Loss on test: 3.5858 Accuracy on test: 0.3482\n",
            "Epoch 27/30\n"
          ]
        },
        {
          "output_type": "stream",
          "name": "stderr",
          "text": [
            "Train dataset: 247it [02:16,  1.81it/s]\n"
          ]
        },
        {
          "output_type": "stream",
          "name": "stdout",
          "text": [
            "Loss on train: 1.8770 Accuracy on train: 0.5943\n"
          ]
        },
        {
          "output_type": "stream",
          "name": "stderr",
          "text": [
            "Test dataset: 61it [00:18,  3.23it/s]\n"
          ]
        },
        {
          "output_type": "stream",
          "name": "stdout",
          "text": [
            "Loss on test: 3.6376 Accuracy on test: 0.3471\n",
            "Epoch 28/30\n"
          ]
        },
        {
          "output_type": "stream",
          "name": "stderr",
          "text": [
            "Train dataset: 247it [02:17,  1.80it/s]\n"
          ]
        },
        {
          "output_type": "stream",
          "name": "stdout",
          "text": [
            "Loss on train: 1.8567 Accuracy on train: 0.5982\n"
          ]
        },
        {
          "output_type": "stream",
          "name": "stderr",
          "text": [
            "Test dataset: 61it [00:18,  3.23it/s]\n"
          ]
        },
        {
          "output_type": "stream",
          "name": "stdout",
          "text": [
            "Loss on test: 3.6639 Accuracy on test: 0.3431\n",
            "Epoch 29/30\n"
          ]
        },
        {
          "output_type": "stream",
          "name": "stderr",
          "text": [
            "Train dataset: 247it [02:20,  1.76it/s]\n"
          ]
        },
        {
          "output_type": "stream",
          "name": "stdout",
          "text": [
            "Loss on train: 1.8403 Accuracy on train: 0.6020\n"
          ]
        },
        {
          "output_type": "stream",
          "name": "stderr",
          "text": [
            "Test dataset: 61it [00:19,  3.17it/s]\n"
          ]
        },
        {
          "output_type": "stream",
          "name": "stdout",
          "text": [
            "Loss on test: 3.6457 Accuracy on test: 0.3507\n",
            "Epoch 30/30\n"
          ]
        },
        {
          "output_type": "stream",
          "name": "stderr",
          "text": [
            "Train dataset: 247it [02:17,  1.80it/s]\n"
          ]
        },
        {
          "output_type": "stream",
          "name": "stdout",
          "text": [
            "Loss on train: 1.8226 Accuracy on train: 0.6058\n"
          ]
        },
        {
          "output_type": "stream",
          "name": "stderr",
          "text": [
            "Test dataset: 61it [00:18,  3.22it/s]"
          ]
        },
        {
          "output_type": "stream",
          "name": "stdout",
          "text": [
            "Loss on test: 3.6903 Accuracy on test: 0.3487\n"
          ]
        },
        {
          "output_type": "stream",
          "name": "stderr",
          "text": [
            "\n"
          ]
        }
      ],
      "source": [
        "history = model.fit(X_encoder, X_decoder, Y_decoder, epoch=30, batch_size=32, train_size=0.8, learning_rate=0.001)"
      ]
    },
    {
      "cell_type": "code",
      "source": [
        "# with open(base_path + 'Data/machine_translation_bahdanau_attention_history.pickle', 'wb') as f:\n",
        "#     pickle.dump(history, f)"
      ],
      "metadata": {
        "id": "e1mQ2TQbWItn"
      },
      "execution_count": null,
      "outputs": []
    },
    {
      "cell_type": "code",
      "source": [
        "# with open(base_path + 'Data/machine_translation_bahdanau_attention_history.pickle', 'rb') as f:\n",
        "#     history = pickle.load(f)"
      ],
      "metadata": {
        "id": "W_TqkLyyDfgF"
      },
      "execution_count": null,
      "outputs": []
    },
    {
      "cell_type": "code",
      "source": [
        "df = pd.DataFrame(data=history)\n",
        "# Plot the learning curves (the loss function and the accuracy metric)\n",
        "# which calculated on the training and test datasets\n",
        "_, axs = plt.subplots(1, 2, figsize=(10, 5))\n",
        "sns.lineplot(data=df[['train_loss', 'test_loss']], ax=axs[0])\n",
        "sns.lineplot(data=df[['train_accuracy', 'test_accuracy']], ax=axs[1])\n",
        "axs[0].set_title('Loss function')\n",
        "axs[1].set_title('Accuracy')\n",
        "plt.show()"
      ],
      "metadata": {
        "colab": {
          "base_uri": "https://localhost:8080/",
          "height": 468
        },
        "id": "BLfI5X5UF8rX",
        "outputId": "efdc2e9c-4122-43cf-8a04-3e4b36767e81"
      },
      "execution_count": 271,
      "outputs": [
        {
          "output_type": "display_data",
          "data": {
            "text/plain": [
              "<Figure size 1000x500 with 2 Axes>"
            ],
            "image/png": "[encoded data removed]"
          },
          "metadata": {}
        }
      ]
    },
    {
      "cell_type": "code",
      "source": [
        "def metric_function(true, pred):\n",
        "  '''\n",
        "  '''\n",
        "  mask = tf.math.logical_not(tf.math.equal(true, 0))\n",
        "  metric_ = tf.keras.metrics.SparseCategoricalAccuracy()(true, pred)\n",
        "  mask = tf.cast(mask, dtype=metric_.dtype)\n",
        "  metric_ *= mask\n",
        "  return metric_\n",
        "\n",
        "pred1 = tf.convert_to_tensor(np.array([[0.3, 0.5, 0.1], [0.3, 0.1, 0.1], [0.3, 0.5, 0.1], [0.3, 0.5, 0.8]]))\n",
        "true1 = tf.convert_to_tensor(np.array([1, 2, 0, 0]))\n",
        "\n",
        "pred2= tf.convert_to_tensor(np.array([[0.3, 0.5, 0.9], [0.3, 0.7, 0.1], [0.3, 0.5, 0.1], [0.3, 0.5, 0.8]]))\n",
        "true2 = tf.convert_to_tensor(np.array([2, 1, 0, 0]))\n",
        "\n",
        "metric_function(true2, pred2)"
      ],
      "metadata": {
        "colab": {
          "base_uri": "https://localhost:8080/"
        },
        "id": "V7X5ZeiOBdJD",
        "outputId": "93e16925-f80a-4092-8e37-5c477e44e526"
      },
      "execution_count": 129,
      "outputs": [
        {
          "output_type": "execute_result",
          "data": {
            "text/plain": [
              "<tf.Tensor: shape=(4,), dtype=float32, numpy=array([0.5, 0.5, 0. , 0. ], dtype=float32)>"
            ]
          },
          "metadata": {},
          "execution_count": 129
        }
      ]
    },
    {
      "cell_type": "code",
      "source": [
        "tf.math.not_equal(true1, 0)"
      ],
      "metadata": {
        "colab": {
          "base_uri": "https://localhost:8080/"
        },
        "id": "lCWZtRegRbTf",
        "outputId": "fac433c4-3d18-44b8-fd8b-e9961d365e71"
      },
      "execution_count": 128,
      "outputs": [
        {
          "output_type": "execute_result",
          "data": {
            "text/plain": [
              "<tf.Tensor: shape=(4,), dtype=bool, numpy=array([ True,  True, False, False])>"
            ]
          },
          "metadata": {},
          "execution_count": 128
        }
      ]
    },
    {
      "cell_type": "code",
      "source": [
        "pred1[true1 != 0]"
      ],
      "metadata": {
        "colab": {
          "base_uri": "https://localhost:8080/"
        },
        "id": "Qxt1m0TBSKxm",
        "outputId": "d5413cd2-3aa4-4985-b6e4-56551fb63431"
      },
      "execution_count": 132,
      "outputs": [
        {
          "output_type": "execute_result",
          "data": {
            "text/plain": [
              "<tf.Tensor: shape=(2, 3), dtype=float64, numpy=\n",
              "array([[0.3, 0.5, 0.1],\n",
              "       [0.3, 0.1, 0.1]])>"
            ]
          },
          "metadata": {},
          "execution_count": 132
        }
      ]
    },
    {
      "cell_type": "code",
      "source": [
        "m = tf.keras.metrics.SparseCategoricalAccuracy()"
      ],
      "metadata": {
        "id": "45IrAsSpCVnn"
      },
      "execution_count": 137,
      "outputs": []
    },
    {
      "cell_type": "code",
      "source": [
        "mask = tf.math.not_equal(true1, 0)"
      ],
      "metadata": {
        "id": "B5u8vNX3TDPW"
      },
      "execution_count": 138,
      "outputs": []
    },
    {
      "cell_type": "code",
      "source": [
        "y_true = [1, 2]\n",
        "y_pred = [[0.05, 0.95, 0], [0.1, 0.8, 0.1]]\n",
        "loss = tf.keras.losses.sparse_categorical_crossentropy(y_true, y_pred)\n",
        "loss.numpy()"
      ],
      "metadata": {
        "colab": {
          "base_uri": "https://localhost:8080/"
        },
        "id": "MMdtL50sbUhf",
        "outputId": "5e783923-c007-435d-ae5e-6c956b3b80bb"
      },
      "execution_count": 147,
      "outputs": [
        {
          "output_type": "execute_result",
          "data": {
            "text/plain": [
              "array([0.05129344, 2.3025851 ], dtype=float32)"
            ]
          },
          "metadata": {},
          "execution_count": 147
        }
      ]
    },
    {
      "cell_type": "code",
      "source": [],
      "metadata": {
        "colab": {
          "base_uri": "https://localhost:8080/"
        },
        "id": "PvQ0sxwM1BA2",
        "outputId": "0e1f34a2-571e-4f5c-9024-60f4baf28840"
      },
      "execution_count": 234,
      "outputs": [
        {
          "output_type": "execute_result",
          "data": {
            "text/plain": [
              "<tf.Tensor: shape=(2,), dtype=bool, numpy=array([False, False])>"
            ]
          },
          "metadata": {},
          "execution_count": 234
        }
      ]
    },
    {
      "cell_type": "code",
      "source": [
        "l = tf.keras.losses.SparseCategoricalCrossentropy(reduction='none')\n",
        "loss = l(y_true, y_pred)\n",
        "loss"
      ],
      "metadata": {
        "colab": {
          "base_uri": "https://localhost:8080/"
        },
        "id": "0e62sP2GbXcL",
        "outputId": "11258615-7420-411d-844d-85c1a649c350"
      },
      "execution_count": 237,
      "outputs": [
        {
          "output_type": "execute_result",
          "data": {
            "text/plain": [
              "<tf.Tensor: shape=(2,), dtype=float32, numpy=array([0.05129344, 2.3025851 ], dtype=float32)>"
            ]
          },
          "metadata": {},
          "execution_count": 237
        }
      ]
    },
    {
      "cell_type": "code",
      "source": [
        "mask = tf.math.equal(y_true, 0)\n",
        "mask = tf.cast(mask, dtype=loss.dtype)\n",
        "loss*mask"
      ],
      "metadata": {
        "colab": {
          "base_uri": "https://localhost:8080/"
        },
        "id": "rORXnwaJzNSW",
        "outputId": "bf732608-ef70-44a1-aade-a3836baad9b9"
      },
      "execution_count": 239,
      "outputs": [
        {
          "output_type": "execute_result",
          "data": {
            "text/plain": [
              "<tf.Tensor: shape=(2,), dtype=float32, numpy=array([0., 0.], dtype=float32)>"
            ]
          },
          "metadata": {},
          "execution_count": 239
        }
      ]
    }
  ],
  "metadata": {
    "colab": {
      "provenance": [],
      "authorship_tag": "ABX9TyN2V2Z8jmfIbnz/Tl4/plSu",
      "include_colab_link": true
    },
    "kernelspec": {
      "display_name": "Python 3",
      "name": "python3"
    },
    "language_info": {
      "name": "python"
    },
    "accelerator": "TPU"
  },
  "nbformat": 4,
  "nbformat_minor": 0
}