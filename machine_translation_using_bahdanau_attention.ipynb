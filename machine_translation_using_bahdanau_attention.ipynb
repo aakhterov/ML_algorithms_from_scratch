{
  "cells": [
    {
      "cell_type": "markdown",
      "metadata": {
        "id": "view-in-github",
        "colab_type": "text"
      },
      "source": [
        "<a href=\"https://colab.research.google.com/github/aakhterov/ML_algorithms_from_scratch/blob/master/machine_translation_using_bahdanau_attention.ipynb\" target=\"_parent\"><img src=\"https://colab.research.google.com/assets/colab-badge.svg\" alt=\"Open In Colab\"/></a>"
      ]
    },
    {
      "cell_type": "markdown",
      "metadata": {
        "id": "m-9HBe6We5LC"
      },
      "source": [
        "# 0. Description\n",
        "\n",
        "We're going to build an NN model to translate from Russian to English. This notebook is committed to the implementation of the encoder-decoder network with Bahdanau attention (Additive Attention) mechanism.\n",
        "\n",
        "We will use the following terms:\n",
        "- source language - the language from which the model translates\n",
        "- target language - the language to which the model translates\n",
        "- token = word\n",
        "\n",
        "\n",
        "Dataset: https://www.kaggle.com/datasets/hijest/englishrussian-dictionary-for-machine-translate/\n",
        "\n",
        "References:\n",
        "- https://github.com/Hvass-Labs/TensorFlow-Tutorials/blob/master/21_Machine_Translation.ipynb\n",
        "- https://www.youtube.com/watch?v=vI2Y3I-JI2Q\n",
        "- https://medium.com/analytics-vidhya/encoder-decoder-seq2seq-models-clearly-explained-c34186fbf49b\n",
        "- https://blog.floydhub.com/attention-mechanism/#bahdanau-att-step2\n",
        "- https://towardsdatascience.com/implementing-neural-machine-translation-with-attention-using-tensorflow-fc9c6f26155f\n",
        "\n"
      ]
    },
    {
      "cell_type": "code",
      "execution_count": 2,
      "metadata": {
        "colab": {
          "base_uri": "https://localhost:8080/"
        },
        "id": "JrOij2Lsj3yA",
        "outputId": "2e38d7bb-0fb1-4bca-f2c4-0a341d88b40d"
      },
      "outputs": [
        {
          "output_type": "stream",
          "name": "stdout",
          "text": [
            "Mounted at /content/drive\n"
          ]
        }
      ],
      "source": [
        "from typing import List\n",
        "import numpy as np\n",
        "import pandas as pd\n",
        "import tensorflow as tf\n",
        "import seaborn as sns\n",
        "import matplotlib.pyplot as plt\n",
        "import pickle\n",
        "from tqdm import tqdm\n",
        "from string import punctuation\n",
        "from collections import Counter\n",
        "from tensorflow.keras.layers import Embedding, LSTM, Dense, Input\n",
        "from tensorflow.keras.models import Model\n",
        "from tensorflow.keras.losses import SparseCategoricalCrossentropy\n",
        "from tensorflow.keras.utils import pad_sequences\n",
        "from sklearn.model_selection import train_test_split\n",
        "\n",
        "from google.colab import drive\n",
        "drive.mount('/content/drive')\n",
        "base_path = '/content/drive/MyDrive/Colab Notebooks/'"
      ]
    },
    {
      "cell_type": "markdown",
      "metadata": {
        "id": "2IEg-hGLJfDv"
      },
      "source": [
        "# 1. Vectorization"
      ]
    },
    {
      "cell_type": "code",
      "execution_count": 3,
      "metadata": {
        "id": "_RSzJxTxSmLY"
      },
      "outputs": [],
      "source": [
        "UNKNOWN_TOKEN = '[UNK]' # Out of vocabulary token\n",
        "START_TOKEN = '[START]' # The token that denotes the beginning of the target language phrase\n",
        "END_TOKEN = '[END]' # The token that denotes the end of the target language phrase"
      ]
    },
    {
      "cell_type": "code",
      "execution_count": 4,
      "metadata": {
        "id": "OwlrS_c8K6pU"
      },
      "outputs": [],
      "source": [
        "class Vectorization:\n",
        "  '''\n",
        "    Vectorization text class.\n",
        "    Main goals:\n",
        "     - make a vocabulary\n",
        "     - convert the list of strings to the list of integer tokens\n",
        "     - convert the list of integer tokens to the list of strings\n",
        "  '''\n",
        "\n",
        "  def __init__(self,\n",
        "               max_tokens,\n",
        "               max_length=None,\n",
        "               unknown_token=UNKNOWN_TOKEN,\n",
        "               start_token=START_TOKEN,\n",
        "               end_token=END_TOKEN\n",
        "               ):\n",
        "    '''\n",
        "      :param max_tokens: length of the vocabulary\n",
        "      :param max_length: max length of the phrases\n",
        "      :param unknown_token: out of vocabulary token\n",
        "      :param start_token: token that denotes the beginning of the phrase\n",
        "      :param end_token: token that denotes the end of the phrase\n",
        "    '''\n",
        "    self.max_tokens = max_tokens\n",
        "    self.max_length = max_length\n",
        "    self.unknown_token = unknown_token\n",
        "    self.start_token = start_token\n",
        "    self.end_token=end_token\n",
        "    # add to the vocabulary:\n",
        "    #  (1) padding token (we're going to pad using 0, so padding token index is 0)\n",
        "    #  (2) out of vocabulary token\n",
        "    #  (3) start token\n",
        "    #  (4) end token\n",
        "    self.vocabulary = ['', self.unknown_token, self.start_token, self.end_token]\n",
        "\n",
        "  def __preprocessing(self, input: str) -> str:\n",
        "    '''\n",
        "      Preprocess of the string (convert to lowcase and remove punctuation).\n",
        "      ex.: I'm going! -> i m going\n",
        "      :param input - input string\n",
        "      :return preprocessed string\n",
        "    '''\n",
        "    output = ''.join(map(lambda ch: ch if ch not in punctuation else ' ', input.lower())).strip()\n",
        "    return output\n",
        "\n",
        "  def token_to_text(self, tokens: List) -> str:\n",
        "    '''\n",
        "      Convert the list of the integer tokens to the string\n",
        "      :param tokens: list of the integer tokens\n",
        "      :return string contains words that correspond to the integer tokens\n",
        "    '''\n",
        "    words = [self.vocabulary[token] if token in self.vocabulary else self.unknown_token for token in tokens]\n",
        "    return \" \".join(words)\n",
        "\n",
        "  def fit(self, X: List, is_add_start_token=False, is_add_end_token=False):\n",
        "    '''\n",
        "      Make the vocabulary and calculate the max length of the phrase\n",
        "      :param X: corpus - list of the strings\n",
        "      :return the instance of the current class\n",
        "    '''\n",
        "    lens = []\n",
        "    __vocab = []\n",
        "    for x in X:\n",
        "      # Make preprocessing and get the list of the words.\n",
        "      # Ex. I'm going! -> ['i', 'm', 'going']\n",
        "      words = self.__preprocessing(x).split()\n",
        "\n",
        "      # Collect phrases lengths\n",
        "      lens.append(len(words))\n",
        "\n",
        "      # Make the vocabulary\n",
        "      __vocab += [word.strip() for word in words]\n",
        "\n",
        "      # for word in words:\n",
        "      #   token = word.strip()\n",
        "      #   # Add the word to the vocabulary if it usn't \"full\"\n",
        "      #   if token not in self.vocabulary and self.max_tokens is not None and len(self.vocabulary)<self.max_tokens:\n",
        "      #     self.vocabulary.append(token)\n",
        "\n",
        "    c = Counter(__vocab)\n",
        "    if self.max_tokens:\n",
        "      self.vocabulary += [item[0] for item in c.most_common(self.max_tokens-4)]\n",
        "    else:\n",
        "      self.vocabulary += [item[0] for item in c.most_common()]\n",
        "\n",
        "    # Calculate the max length of the phrases if it isn't set in the __init__\n",
        "    # max_length = Average length + two standard devations\n",
        "    lens = np.array(lens)\n",
        "    if self.max_length is None:\n",
        "      self.max_length = int(np.mean(lens) + 2 * np.std(lens)) + int(is_add_start_token) + int(is_add_end_token)\n",
        "    return self\n",
        "\n",
        "  def predict(self,\n",
        "              X: List[str],\n",
        "              is_padding=True,\n",
        "              is_add_start_token=False,\n",
        "              is_add_end_token=False\n",
        "              ) -> List[List]:\n",
        "    '''\n",
        "      :param X - corpus - list of the strings\n",
        "      :param is_padding - whether to pad the list of tokens to the max. length with 0s\n",
        "      :param is_add_start_token - whether to add the start_token to the list of tokens\n",
        "      :param is_add_end_token - whether to add the end_token to the list of tokens\n",
        "      :return list of the lists of tokens\n",
        "    '''\n",
        "    output = []\n",
        "    # max_length = self.max_length + int(is_add_start_token) + int(is_add_end_token)\n",
        "\n",
        "    for x in X:\n",
        "      # If nedded add the index of the start_token to the beginning of the list of tokens\n",
        "      vector = [self.vocabulary.index(self.start_token)] if is_add_start_token else []\n",
        "\n",
        "      # Make preprocessing and get the list of the words.\n",
        "      words = self.__preprocessing(x).split()\n",
        "\n",
        "      # If the current word is in the vocabulary add its index to the list else add the index of the unknown_token\n",
        "      for word in words:\n",
        "        token = word.strip()\n",
        "        vector.append(self.vocabulary.index(token) if token in self.vocabulary else self.vocabulary.index(self.unknown_token))\n",
        "\n",
        "      # Truncate the vector to the max. length\n",
        "      vector = vector[:self.max_length-1]\n",
        "\n",
        "      # If needed add the index of the end_token\n",
        "      if is_add_end_token:\n",
        "        vector.append(self.vocabulary.index(self.end_token))\n",
        "\n",
        "      output.append(vector)\n",
        "\n",
        "    # If needed pad the vector to the max. length with 0s\n",
        "    return pad_sequences(output,\n",
        "                         maxlen=self.max_length,\n",
        "                         padding='post',\n",
        "                         truncating='post') if is_padding else output"
      ]
    },
    {
      "cell_type": "code",
      "execution_count": 80,
      "metadata": {
        "id": "VvaCDzcFuIe1"
      },
      "outputs": [],
      "source": [
        "# Read from N to M samples\n",
        "N = 10_000\n",
        "M = 20_000\n",
        "\n",
        "input_phrases, output_phrases = [], []\n",
        "with open('/content/drive/MyDrive/Colab Notebooks/Data/rus.txt') as f:\n",
        "  for line in f.readlines()[N:M]:\n",
        "    eng, rus = line.split('CC-BY')[0].strip().split('\\t')\n",
        "    input_phrases.append(rus)\n",
        "    output_phrases.append(eng)"
      ]
    },
    {
      "cell_type": "code",
      "execution_count": 81,
      "metadata": {
        "id": "d-LhZGvyvrkS"
      },
      "outputs": [],
      "source": [
        "input_vocab = 1000 # size of the source language vocaulary\n",
        "output_vocab = 1000 # size of the target language vocaulary"
      ]
    },
    {
      "cell_type": "code",
      "execution_count": 82,
      "metadata": {
        "id": "chd-W_mXVgqE"
      },
      "outputs": [],
      "source": [
        "# Make vectorization of the source language phrases\n",
        "encoder_vec = Vectorization(max_tokens=input_vocab)\n",
        "encoder_vec.fit(input_phrases)\n",
        "X_encoder = encoder_vec.predict(input_phrases, is_padding=False)\n",
        "\n",
        "# Make vectorization of the target language phrases\n",
        "decoder_vec = Vectorization(max_tokens=output_vocab)\n",
        "decoder_vec.fit(output_phrases, is_add_start_token=True, is_add_end_token=True)\n",
        "# For the reason of the sequence model training we need decoder input contains the start_token and\n",
        "# the decoder output which is without the start_token\n",
        "X_decoder = decoder_vec.predict(output_phrases, is_add_start_token=True, is_add_end_token=True)\n",
        "Y_decoder = decoder_vec.predict(output_phrases, is_add_end_token=True)"
      ]
    },
    {
      "cell_type": "code",
      "execution_count": 83,
      "metadata": {
        "colab": {
          "base_uri": "https://localhost:8080/"
        },
        "id": "OHSeTSRGQhmS",
        "outputId": "0fcf5d56-5455-4c82-98c6-73767e01d735"
      },
      "outputs": [
        {
          "output_type": "stream",
          "name": "stdout",
          "text": [
            "Index: 100\n",
            "======= Encoder =======\n",
            "Input phrase: Я не буду смеяться.\n",
            "Vector: [4, 7, 67]\n",
            "Max. length: 4\n",
            "======= Decoder =======\n",
            "Input phrase: I won't laugh.\n",
            "Vector: [  2   4  71  11 615   3]\n",
            "Output phrase: I won't laugh.\n",
            "Vector: [  4  71  11 615   3   0]\n",
            "Max. length: 6\n",
            "==============\n",
            "Start phrase token index: 2\n",
            "End phrase token index: 3\n"
          ]
        }
      ],
      "source": [
        "idx = 100\n",
        "print(f\"Index: {idx}\")\n",
        "print(\"======= Encoder =======\")\n",
        "print(f\"Input phrase: {input_phrases[idx]}\")\n",
        "print(f\"Vector: {X_encoder[idx]}\")\n",
        "print(f\"Max. length: {encoder_vec.max_length}\")\n",
        "print(\"======= Decoder =======\")\n",
        "print(f\"Input phrase: {output_phrases[idx]}\")\n",
        "print(f\"Vector: {X_decoder[idx]}\")\n",
        "print(f\"Output phrase: {output_phrases[idx]}\")\n",
        "print(f\"Vector: {Y_decoder[idx]}\")\n",
        "print(f\"Max. length: {decoder_vec.max_length}\")\n",
        "print(\"==============\")\n",
        "print(f\"Start phrase token index: {decoder_vec.vocabulary.index(START_TOKEN)}\")\n",
        "print(f\"End phrase token index: {decoder_vec.vocabulary.index(END_TOKEN)}\")"
      ]
    },
    {
      "cell_type": "markdown",
      "metadata": {
        "id": "77Qm_uDxJonO"
      },
      "source": [
        "# 2. Construct Encoder-Decoder model with Bahdanau attention"
      ]
    },
    {
      "cell_type": "markdown",
      "source": [
        "## 2.1. Encoder model"
      ],
      "metadata": {
        "id": "reS8v6d31S1Q"
      }
    },
    {
      "cell_type": "code",
      "execution_count": 12,
      "metadata": {
        "id": "vPXQD5tFjzwp"
      },
      "outputs": [],
      "source": [
        "class Encoder(tf.keras.Model):\n",
        "  '''\n",
        "    Encoder for using with Bahdanau attention\n",
        "  '''\n",
        "  def __init__(self, input_vocab: int, embedding_dim: int, lstm_hidden_units: int):\n",
        "    '''\n",
        "      :param input_vocab - vocabluary dimension of the source language\n",
        "      :param embedding_dim - dimension of the source language words embeddings\n",
        "      :param lstm_hidden_units - the number of the LSTM cell units\n",
        "    '''\n",
        "    super(Encoder, self).__init__()\n",
        "    self.emedding = Embedding(input_dim=input_vocab,\n",
        "                              output_dim=embedding_dim,\n",
        "                              mask_zero=True,\n",
        "                              name='encoder_embedding')\n",
        "    self.lstm = LSTM(units=lstm_hidden_units,\n",
        "                     return_state=True,\n",
        "                     name='encoder_lstm')\n",
        "\n",
        "  def __call__(self, x, is_verbose=False):\n",
        "    '''\n",
        "      Calculate forward propagation through the Encoder\n",
        "      :param x - input sequence (batch_size, sequence_length)\n",
        "    '''\n",
        "    # Get embeddings.\n",
        "    # 'x' dimension is (batch_size, sequence_length)\n",
        "    # 'out' dimension is (batch_size, sequence_length, embedding_dim)\n",
        "    out = self.emedding(x)\n",
        "\n",
        "    # Hence we don't need LSTM output, we get only LSTM states (hidden state and cell state)\n",
        "    # One of the problems here is that dispite the return_sequences parameter is True,\n",
        "    # we get only last (after propagation a whole sequence) values of the states and\n",
        "    # didn't get the states after each timestep. We will struggle with this later.\n",
        "    output, h, c = self.lstm(out)\n",
        "\n",
        "    if is_verbose:\n",
        "      print(f\"Input shape {x.shape}. Shape after embedding: {out.shape}.\")\n",
        "      print(f\"Output LSTM shape: {output.shape}. Hidden state: {h.shape}. Cell state: {c.shape}\")\n",
        "\n",
        "    return h, c"
      ]
    },
    {
      "cell_type": "code",
      "source": [
        "# Test Encoder\n",
        "enc = Encoder(input_vocab=100, embedding_dim=64, lstm_hidden_units=16)\n",
        "input = np.zeros((4, 3))\n",
        "h, c = enc(input, is_verbose=True)\n",
        "\n",
        "assert input.shape == (4, 3), \"Wrong input shape\"\n",
        "assert h.shape == (4, 16), \"Wrong hidden state shape\"\n",
        "assert c.shape == (4, 16), \"Wrong cell state shape\""
      ],
      "metadata": {
        "colab": {
          "base_uri": "https://localhost:8080/"
        },
        "id": "KF5VnU--RRew",
        "outputId": "f95007e7-8e30-4bfd-a649-44390ceb2d3e"
      },
      "execution_count": 13,
      "outputs": [
        {
          "output_type": "stream",
          "name": "stdout",
          "text": [
            "Input shape (4, 3). Shape after embedding: (4, 3, 64).\n",
            "Output LSTM shape: (4, 16). Hidden state: (4, 16). Cell state: (4, 16)\n"
          ]
        }
      ]
    },
    {
      "cell_type": "markdown",
      "source": [
        "## 2.2. Bahdanau Attention Layer"
      ],
      "metadata": {
        "id": "fshzhlrU1YYe"
      }
    },
    {
      "cell_type": "code",
      "execution_count": 14,
      "metadata": {
        "id": "B4DhtzjnPE_5"
      },
      "outputs": [],
      "source": [
        "class BahdanauAttention(tf.keras.layers.Layer):\n",
        "  '''\n",
        "    Layers implements a Bahdanau attention mechanism\n",
        "  '''\n",
        "  def __init__(self, units: int, name=None):\n",
        "    '''\n",
        "      :param units - the number of the encoder and decoder hidden units.\n",
        "      This value can be obtained from the inputs dimensions but for the purpose of simplicity we will set it here.\n",
        "      :param name - tne name of the layer\n",
        "    '''\n",
        "    super(BahdanauAttention, self).__init__(name=name)\n",
        "    self.fc_encoder_states = Dense(units=units, activation='linear')\n",
        "    self.fc_decoder_states = Dense(units=units, activation='linear')\n",
        "    self.fc_combined = Dense(units=1, activation='linear')\n",
        "\n",
        "  def __call__(self, encoder_states, decoder_hidden_state, is_verbose=False):\n",
        "    '''\n",
        "      Calculate forward propagation through the Layer\n",
        "      :param encoder_states - encoder hidden states (batch_size, sequence_length, encoder_lstm_hidden_units)\n",
        "      :param decoder_hidden_state - decoder hidden state (batch_size, decoder_lstm_hidden_units)\n",
        "    '''\n",
        "\n",
        "    # Linear layer for the encoder hidden states (it has its own trainable weights).\n",
        "    fc_encoder_out = self.fc_encoder_states(encoder_states) # fc_encoder_out dimension is (batch_size, sequence_length, encoder_lstm_hidden_units)\n",
        "\n",
        "    # Linear layer for the decoder hidden state from the previous timestep (it has its own trainable weights).\n",
        "    fc_decoder_out = self.fc_decoder_states(decoder_hidden_state) # fc_decoder_out dimension is (batch_size, decoder_lstm_hidden_units)\n",
        "\n",
        "    # Add additional dimension to the fc_decoder_out\n",
        "    fc_decoder_out = tf.expand_dims(fc_decoder_out, axis=1) # fc_decoder_out dimension is (batch_size, 1, decoder_lstm_hidden_units)\n",
        "\n",
        "    # Calculate alignment score using linear layer  (it has its own trainable weights).\n",
        "    # Alignment_scores dimension is (batch_size, sequence_length, 1)\n",
        "    alignment_scores = self.fc_combined(tf.math.tanh(fc_encoder_out + fc_decoder_out))\n",
        "\n",
        "    # Remove a redundant dimension: (batch_size, sequence_length, 1) -> (batch_size, sequence_length)\n",
        "    # alignment_scores = np.squeeze(alignment_scores)\n",
        "\n",
        "    # Calculate attention weights of the each encoder hidden state within a batch\n",
        "    # softmax_alignment_scores dimension is (batch_size, sequence_length)\n",
        "    softmax_alignment_scores = tf.nn.softmax(alignment_scores, axis=1)\n",
        "\n",
        "    # Calculate context vector. Its dimension is (batch_size, encoder_lstm_hidden_units)\n",
        "    context_vector = tf.reduce_sum(softmax_alignment_scores * encoder_states, axis=1)\n",
        "\n",
        "    if is_verbose:\n",
        "      print(f\"Input: encoder_states shape: {encoder_states.shape}, decoder_hidden_state shape: {decoder_hidden_state.shape}\")\n",
        "      print(f\"fc_encoder_out shape: {fc_encoder_out.shape}, fc_decoder_out shape: {fc_decoder_out.shape}\")\n",
        "      print(f\"alignment_scores shape: {alignment_scores.shape}, softmax_alignment_scores shape: {softmax_alignment_scores.shape}\")\n",
        "      print(f\"context_vector shape: {context_vector.shape}\")\n",
        "\n",
        "    return context_vector, softmax_alignment_scores"
      ]
    },
    {
      "cell_type": "code",
      "source": [
        "# Test BahdanauAttention Layer\n",
        "ba = BahdanauAttention(units=64)\n",
        "encoder_states = np.zeros((4, 3, 16))\n",
        "decoder_hidden_state = np.zeros((4, 16))\n",
        "context_vector, softmax_alignment_scores = ba(encoder_states, decoder_hidden_state, is_verbose=True)\n",
        "\n",
        "assert encoder_states.shape == (4, 3, 16), \"Wrong encoder hidden states shape\"\n",
        "assert decoder_hidden_state.shape == (4, 16), \"Wrong decoder hidden state shape\"\n",
        "assert softmax_alignment_scores.shape == (4, 3, 1), \"Wrong attention weights shape\"\n",
        "assert context_vector.shape == (4, 16), \"Wrong context vector shape\""
      ],
      "metadata": {
        "colab": {
          "base_uri": "https://localhost:8080/"
        },
        "id": "sb3N28pVVQV2",
        "outputId": "34a55687-5dd5-4c08-de00-190f7601af3e"
      },
      "execution_count": 15,
      "outputs": [
        {
          "output_type": "stream",
          "name": "stdout",
          "text": [
            "Input: encoder_states shape: (4, 3, 16), decoder_hidden_state shape: (4, 16)\n",
            "fc_encoder_out shape: (4, 3, 64), fc_decoder_out shape: (4, 1, 64)\n",
            "alignment_scores shape: (4, 3, 1), softmax_alignment_scores shape: (4, 3, 1)\n",
            "context_vector shape: (4, 16)\n"
          ]
        }
      ]
    },
    {
      "cell_type": "markdown",
      "source": [
        "## 2.3. Decoder model"
      ],
      "metadata": {
        "id": "3MEty-2L1hrK"
      }
    },
    {
      "cell_type": "code",
      "execution_count": 16,
      "metadata": {
        "id": "tL1KwedDnTc3"
      },
      "outputs": [],
      "source": [
        "class Decoder(tf.keras.Model):\n",
        "  '''\n",
        "    Decoder with Bahdanau attention mechanism\n",
        "  '''\n",
        "  def __init__(self, output_vocab, embedding_dim, lstm_hidden_units):\n",
        "    '''\n",
        "      :param output_vocab - vocabluary dimension of the target language\n",
        "      :param embedding_dim - dimension of the target language words embeddings\n",
        "      :param lstm_hidden_units - the number of the LSTM cell units\n",
        "    '''\n",
        "    super(Decoder, self).__init__()\n",
        "    self.emedding = Embedding(input_dim=output_vocab,\n",
        "                              output_dim=embedding_dim,\n",
        "                              mask_zero=True,\n",
        "                              name='decoder_embedding')\n",
        "\n",
        "    self.lstm = LSTM(units=lstm_hidden_units,\n",
        "                     return_sequences=True,\n",
        "                     return_state=True,\n",
        "                     name='decoder_lstm')\n",
        "\n",
        "    self.attention = BahdanauAttention(units=lstm_hidden_units,\n",
        "                                       name='decoder_attention')\n",
        "\n",
        "    # Dense layer with softmax activation function\n",
        "    self.output_dense = Dense(units=output_vocab,\n",
        "                              activation='softmax',\n",
        "                              name='decoder_output')\n",
        "\n",
        "  def __call__(self, x, decoder_states, encoder_states, is_verbose=False):\n",
        "    '''\n",
        "      Calculate forward propagation through the Decoder\n",
        "      :param x - input sequence (batch_size, sequence_length_of_target_lang)\n",
        "      :param decoder_states - hidden and cell decoder states from the previous timestep (or last encoder states for the first timestep)\n",
        "      Dimension ((batch_size, lstm_hidden_units), (batch_size, lstm_hidden_units))\n",
        "      :param encoder_states - hidden encoder states from the each timesteps  (batch_size, sequence_length, lstm_hidden_units)\n",
        "    '''\n",
        "    # Unpack decoder states\n",
        "    hidden_state, cell_state = decoder_states\n",
        "\n",
        "    # Calculate contect vector based on Bahdanau attention mechanism\n",
        "    # context_vector dimension is (batch_size, lstm_hidden_units)\n",
        "    context_vector, _ = self.attention(encoder_states, hidden_state)\n",
        "\n",
        "    # Get target language embedding\n",
        "    x_embd = self.emedding(x)\n",
        "\n",
        "    # Concatenate context_vector with the next embedded token\n",
        "    input = tf.concat([tf.expand_dims(context_vector, 1), x_embd], axis=-1)\n",
        "\n",
        "    # Get LSTM outputs\n",
        "    out_lstm, h, c = self.lstm(input, initial_state=decoder_states)\n",
        "\n",
        "    # Propagate LSTM output through dense layer with softmax activation function\n",
        "    out = self.output_dense(out_lstm)\n",
        "\n",
        "    if is_verbose:\n",
        "      print(f\"Input: encoder_states shape: {encoder_states.shape}, input hidden state: {hidden_state.shape}, input cell state: {cell_state.shape}\")\n",
        "      print(f\"context_vector shape: {context_vector.shape}, After embedding shape: {x_embd.shape}\")\n",
        "      print(f\"LSTM input shape: {input.shape}, LSTM output shape: {out_lstm.shape}\")\n",
        "      print(f\"LSTM output hidden state: {h.shape}, LSTM output cell state: {c.shape}\")\n",
        "      print(f\"Output after softmax: {out.shape}\")\n",
        "\n",
        "    return out, h, c"
      ]
    },
    {
      "cell_type": "code",
      "source": [
        "# Test Decoder\n",
        "dec = Decoder(output_vocab=100, embedding_dim=32, lstm_hidden_units=16)\n",
        "x = np.zeros((4, 1))\n",
        "decoder_states = tf.convert_to_tensor(np.zeros((4, 16)), dtype=tf.float32), tf.convert_to_tensor((np.zeros((4, 16))), dtype=tf.float32)\n",
        "encoder_states = tf.convert_to_tensor(np.zeros((4, 3, 16)), dtype=tf.float32)\n",
        "out, h, c = dec(x=x, decoder_states=decoder_states, encoder_states=encoder_states, is_verbose=True)"
      ],
      "metadata": {
        "colab": {
          "base_uri": "https://localhost:8080/"
        },
        "id": "C7t2waVsfhYh",
        "outputId": "759cc291-c31c-4072-8d17-7d5aa6762366"
      },
      "execution_count": 17,
      "outputs": [
        {
          "output_type": "stream",
          "name": "stdout",
          "text": [
            "Input: encoder_states shape: (4, 3, 16), input hidden state: (4, 16), input cell state: (4, 16)\n",
            "context_vector shape: (4, 16), After embedding shape: (4, 1, 32)\n",
            "LSTM input shape: (4, 1, 48), LSTM output shape: (4, 1, 16)\n",
            "LSTM output hidden state: (4, 16), LSTM output cell state: (4, 16)\n",
            "Output after softmax: (4, 1, 100)\n"
          ]
        }
      ]
    },
    {
      "cell_type": "markdown",
      "source": [
        "## 2.4. Encoder-Decoder model"
      ],
      "metadata": {
        "id": "smUcbYdg1loi"
      }
    },
    {
      "cell_type": "code",
      "execution_count": 84,
      "metadata": {
        "id": "caH2BctcgtQ_"
      },
      "outputs": [],
      "source": [
        "class Seq2SeqBahdanauAttention(tf.keras.Model):\n",
        "  '''\n",
        "  Encoder-Decoder network implements the Bahdanau attention mechanism\n",
        "  '''\n",
        "  def __init__(self,\n",
        "               input_vocab,\n",
        "               output_vocab,\n",
        "               encoder_embd_dim,\n",
        "               decoder_embd_dim,\n",
        "               encoder_lstm_units,\n",
        "               decoder_lstm_units,\n",
        "               max_output_length,\n",
        "               start_token_index,\n",
        "               end_token_index):\n",
        "    '''\n",
        "      :param input_vocab - vocabluary dimension of the source language\n",
        "      :param output_vocab - vocabluary dimension of the target language\n",
        "      :param encoder_embd_dim - dimension of the source language words embeddings\n",
        "      :param decoder_embd_dim - dimension of the target language words embeddings\n",
        "      :param encoder_lstm_units - the number of the LSTM cell units\n",
        "      :param decoder_lstm_units - the number of the LSTM cell units\n",
        "      :param max_output_length - the maximum length of the output sequence\n",
        "      :param start_token_index - index of the start token in the output vocabulary\n",
        "      :param end_token_index - index of the end token in the output vocabulary\n",
        "\n",
        "    '''\n",
        "    super(Seq2SeqBahdanauAttention, self).__init__()\n",
        "    self.encoder = Encoder(input_vocab=input_vocab,\n",
        "                           embedding_dim=encoder_embd_dim,\n",
        "                           lstm_hidden_units=encoder_lstm_units)\n",
        "    self.decoder = Decoder(output_vocab=output_vocab,\n",
        "                           embedding_dim=decoder_embd_dim,\n",
        "                           lstm_hidden_units=decoder_lstm_units)\n",
        "    self.max_output_length = max_output_length\n",
        "    self.start_token_index = start_token_index\n",
        "    self.end_token_index = end_token_index\n",
        "    self.__loss_object = tf.keras.losses.SparseCategoricalCrossentropy(reduction='none')\n",
        "    self.__metric_object = tf.keras.metrics.SparseCategoricalAccuracy()\n",
        "\n",
        "\n",
        "  def __loss_function(self, true, pred):\n",
        "    '''\n",
        "     :param true - ground truth values. Shape (batch_size)\n",
        "     :param pred - The predicted values. Shape (batch_size, len_of_output_vocab)\n",
        "    '''\n",
        "    loss = self.__loss_object(true, pred)\n",
        "    mask = tf.expand_dims(tf.math.not_equal(true, 0), 1)\n",
        "    mask = tf.cast(mask, dtype=loss.dtype)\n",
        "    non_zero_count = tf.reduce_sum(mask)\n",
        "    return tf.reduce_sum(loss*mask)/non_zero_count if non_zero_count else 0\n",
        "\n",
        "  def __metric_function(self, true, pred):\n",
        "    '''\n",
        "     :param true - ground truth values. Shape (batch_size)\n",
        "     :param pred - The predicted values. Shape (batch_size, len_of_output_vocab)\n",
        "    '''\n",
        "    mask = tf.math.not_equal(true, 0)\n",
        "    self.__metric_object.update_state(true[mask], pred[mask])\n",
        "    return self.__metric_object.result().numpy()\n",
        "\n",
        "  def __forward(self, X_encoder, X_decoder=None, Y_decoder=None):\n",
        "    '''\n",
        "      Forward propagation\n",
        "      :param X_encoder - input encoder sequence (source language) (batch_size, sequence_length_in_the_source_lang)\n",
        "      :param X_decoder - input decoder sequence (target language) (batch_size, sequence_length_in_the_target_lang + 2)\n",
        "      (ex. [start_token_index, word1_index, woprd2_index, end_token_index)\n",
        "      :param Y_decoder - output decoder sequence (target language) (batch_size, sequence_length_in_the_target_lang + 1)\n",
        "      (ex. [word1_index, woprd2_index, end_token_index)\n",
        "\n",
        "      We use X_decoder=None and Y_decoder=None for the purpose of prediction\n",
        "      We use X_decoder=None and Y_decoder is not None for the purpose of validation during training\n",
        "    '''\n",
        "    output = []\n",
        "    batch_size = X_encoder.shape[0]\n",
        "    encoder_states = []\n",
        "    loss = 0\n",
        "    accuracy = None\n",
        "\n",
        "    # Here we deal with the mentioned earlier problem of getting encoder hidden states on each timestep.\n",
        "    # As we mentoined before LSTM parameter 'return_sequences' doesn't affect on the hidden and cell states, i.e.\n",
        "    # we can't get LSTM states after every timestep. Therefore we need do it manually. It means the following:\n",
        "    # 1) we take the first token of the input sequence, propagate it through the encoder and save the LSTM states.\n",
        "    # 2) we take the two first tokens of the input sequence, propagate them through the encoder and save the last LSTM states.\n",
        "    # 3) We repeat step 2 adding the next token and save the last LSTM states.\n",
        "\n",
        "    for t in range(X_encoder.shape[1]):\n",
        "      h, c = self.encoder(X_encoder[:, :t+1])\n",
        "      encoder_states.append(h)\n",
        "    encoder_states = tf.stack(encoder_states, axis=1) # make tensor from the list\n",
        "\n",
        "    # save the last encoder hidden and cell states, since they are the initial decoder states\n",
        "    hidden_state = encoder_states[:, -1, :]\n",
        "    cell_state = c\n",
        "\n",
        "    if X_decoder is not None and Y_decoder is not None: # if we train network\n",
        "      # for every timestep (i.e. every token) of the target language sequence\n",
        "      for t in range(X_decoder.shape[1]):\n",
        "        # Set the decoder_input to the t-th token of the decoder input sequence.\n",
        "        # We use here the teacher forcing method for faster and efficient decoder training.\n",
        "        # The method uses the ground true as the decoder input instead of the prediction\n",
        "        # from the previous timestep. We need decoder_input to have the dimension (batch_size, 1)\n",
        "        decoder_input = X_decoder[:, t:t+1]\n",
        "        # print(decoder_input.shape)\n",
        "\n",
        "        # Calculate decoder output and states. We\n",
        "        out, hidden_state, cell_state = self.decoder(x=decoder_input,\n",
        "                                                     decoder_states=(hidden_state, cell_state),\n",
        "                                                     encoder_states=encoder_states)\n",
        "\n",
        "        output.append(out) # Collect output token\n",
        "        loss += self.__loss_function(Y_decoder[:, t], out) # Calculate loss function\n",
        "        accuracy = self.__metric_function(Y_decoder[:, t], np.squeeze(out)) # Calculate accuracy\n",
        "    else: # if we validate (calculate loss and accuracy on the test set) the network or make prediction\n",
        "        current_step = 0 # current timestep\n",
        "\n",
        "        # Set the first decoder input to the start token index. decoder_input dimension is (batch_size, )\n",
        "        decoder_input = np.full((batch_size, 1), self.start_token_index)\n",
        "\n",
        "        # Iterate till the maximum outpt length will be achieved.\n",
        "        while current_step<self.max_output_length:\n",
        "          out, hidden_state, cell_state = self.decoder(x=decoder_input,\n",
        "                                                       decoder_states=(hidden_state, cell_state),\n",
        "                                                       encoder_states=encoder_states)\n",
        "          if Y_decoder is not None: # if we validate the network\n",
        "            loss += self.__loss_function(Y_decoder[:, current_step], out) # loss function\n",
        "            accuracy = self.__metric_function(Y_decoder[:, current_step], np.squeeze(out)) # accuracy metric\n",
        "\n",
        "          # Get the indexes of the predicted tokens. Dimension is (batch_size, )\n",
        "          tokens = np.argmax(np.squeeze(out), axis=1)\n",
        "\n",
        "          # Here we don't use teacher forcing, i.e. the output from the previous timestep\n",
        "          # is the input for the current one.\n",
        "          decoder_input = tf.expand_dims(tokens, 1)\n",
        "          output.append(out)\n",
        "          current_step += 1\n",
        "\n",
        "    # If it's not a inference we calculate loss function value over batch\n",
        "    batch_loss = tf.reduce_sum(loss) / Y_decoder.shape[1] if Y_decoder is not None else None\n",
        "    return output, loss, batch_loss, accuracy\n",
        "\n",
        "  def __train_step(self, X_encoder, X_decoder, Y_decoder, learning_rate):\n",
        "    '''\n",
        "      Perform one train iteration\n",
        "\n",
        "      :param X_encoder - input encoder sequence (source language) (batch_size, sequence_length_in_the_source_lang)\n",
        "      :param X_decoder - input decoder sequence (target language) (batch_size, sequence_length_in_the_target_lang + 2)\n",
        "      (ex. [start_token_index, word1_index, woprd2_index, end_token_index)\n",
        "      :param Y_decoder - output decoder sequence (target language) (batch_size, sequence_length_in_the_target_lang + 1)\n",
        "      (ex. [word1_index, woprd2_index, end_token_index)\n",
        "      :param learning_rate - an optimizer learning rate\n",
        "    '''\n",
        "    optimizer = tf.keras.optimizers.RMSprop(learning_rate=learning_rate)\n",
        "    with tf.GradientTape() as tape:\n",
        "      _, loss, batch_loss, accuracy = self.__forward(X_encoder, X_decoder, Y_decoder)\n",
        "      variables = self.encoder.trainable_variables + self.decoder.trainable_variables\n",
        "      gradients = tape.gradient(loss, variables)\n",
        "      optimizer.apply_gradients(zip(gradients, variables))\n",
        "    return batch_loss, accuracy\n",
        "\n",
        "  def __align_to_length(self, X, batch_size=32):\n",
        "    '''\n",
        "    Reorder dataset according the sample sequence lengths\n",
        "\n",
        "    It's known that the Bahdanau attention mechanism requires all encoder hidden states.\n",
        "    In general samples in the batch have different lengths, hence, they have different number of hidden states.\n",
        "    So, a new problem arises - how can we store a batch with the different row lengths (row is a vector of the encoder hidden states).\n",
        "    There are several ways to manage it. One of them can be transform the dataset so that each batch consists the\n",
        "    sequences with the same lengths.\n",
        "\n",
        "    :param X - dataset\n",
        "    :param batch_size - batch size\n",
        "\n",
        "    Ex.\n",
        "    An original dataset X\n",
        "    [\n",
        "      [1, 2, 3],\n",
        "      [4, 5, 6, 7],\n",
        "      [8, 9],\n",
        "      [10, 11, 12, 13],\n",
        "      [14, 15, 16],\n",
        "      [17, 18]\n",
        "    ]\n",
        "    batch_size = 2\n",
        "    A new dataset\n",
        "    [\n",
        "      [1, 2, 3],\n",
        "      [14, 15, 16],\n",
        "      [4, 5, 6, 7],\n",
        "      [10, 11, 12, 13],\n",
        "      [8, 9],\n",
        "      [17, 18]\n",
        "    ]\n",
        "    So, after splitting into batches, each batch will contain the sequences with the same lengths\n",
        "    '''\n",
        "    c = Counter([len(x[0]) for x in X])\n",
        "    X_new = []\n",
        "    for length, count in c.most_common():\n",
        "      if count >= batch_size:\n",
        "        batches_count = count//batch_size\n",
        "        X_new += list(filter(lambda x: len(x[0])==length, X))[:batches_count*batch_size]\n",
        "    return X_new\n",
        "\n",
        "  def __generate_batches(self, X, Y, batch_size=32):\n",
        "    '''\n",
        "     Batch generator.\n",
        "\n",
        "     Each batch is the number of tuple: (Encoder_input, Decoder_input, Decoder_output a.k.a. ground truth)  )\n",
        "     :param X - encoder and decoder inputs\n",
        "     :param Y - decoder output\n",
        "     :param batch_size - batch size\n",
        "    '''\n",
        "    X_encoder, X_decoder = zip(*X)\n",
        "    ds = list(zip(X_encoder, X_decoder, Y))\n",
        "    X_new = self.__align_to_length(ds, batch_size)\n",
        "    X_encoder, X_decoder, Y_decoder = zip(*X_new)\n",
        "    X_encoder, X_decoder, Y_decoder = list(X_encoder), list(X_decoder), list(Y_decoder)\n",
        "    batches_count = len(X_encoder) // batch_size\n",
        "    for i in range(batches_count):\n",
        "      lower_idx, upper_idx = i*batch_size, (i+1)*batch_size\n",
        "      yield np.array(X_encoder[lower_idx:upper_idx]), \\\n",
        "            np.array(X_decoder[lower_idx:upper_idx]), \\\n",
        "            np.array(Y_decoder[lower_idx:upper_idx])\n",
        "\n",
        "  def fit(self, X_encoder, X_decoder, Y_decoder, epoch=20, batch_size=32, train_size=0.8, learning_rate=0.001, is_verbose=False):\n",
        "    '''\n",
        "      Train network\n",
        "\n",
        "      :param X_encoder - input encoder sequence (source language) (batch_size, sequence_length_in_the_source_lang)\n",
        "      :param X_decoder - input decoder sequence (target language) (batch_size, sequence_length_in_the_target_lang + 2)\n",
        "      (ex. [start_token_index, word1_index, woprd2_index, end_token_index)\n",
        "      :param Y_decoder - output decoder sequence (target language) (batch_size, sequence_length_in_the_target_lang + 1)\n",
        "      :param epoch - the number of epochs\n",
        "      :param batch_size - batch size\n",
        "      :param train_size - train dataset size (0 <= train_size <= 1)\n",
        "      :param learning_rate - an optimizer learning rate\n",
        "    '''\n",
        "\n",
        "    # Split input and outputs into train and test. We need to combine two inputs (encoder and decoder)\n",
        "    X_train, X_test, Y_decoder_train, Y_decoder_test = train_test_split(list(zip(X_encoder, X_decoder)),\n",
        "                                                                        Y_decoder,\n",
        "                                                                        train_size=train_size)\n",
        "    # Align the train and test datasets according to the batch_size and sequences lengths\n",
        "    X_new_train = self.__align_to_length(X_train, batch_size)\n",
        "    X_new_test = self.__align_to_length(X_test, batch_size)\n",
        "\n",
        "    # Calculate some usefull values\n",
        "    total_train_batches = len(X_new_train) // batch_size\n",
        "    total_test_batches = len(X_new_test) // batch_size\n",
        "    train_ds_size = len(X_new_train)\n",
        "    test_ds_size = len(X_new_test)\n",
        "\n",
        "    # dictionary for saving the loss function and accuracy values\n",
        "    history = {\"train_loss\": [], \"train_accuracy\": [], \"test_loss\": [], \"test_accuracy\": []}\n",
        "\n",
        "    print(f\"Train dataset: {total_train_batches} batches, {train_ds_size} samples\")\n",
        "    print(f\"Test dataset: {total_test_batches} batches, {test_ds_size} samples\")\n",
        "    print(f\"{'='*10}\")\n",
        "\n",
        "    # Iterate over epochs\n",
        "    for ep in range(1, epoch+1):\n",
        "      print(f\"Epoch {ep}/{epoch}\")\n",
        "\n",
        "      # Train phase\n",
        "      total_loss = 0\n",
        "      self.__metric_object.reset_state()\n",
        "        # Iterate over batches\n",
        "      for batch, (X_batch_encoder,\n",
        "                  X_batch_decoder,\n",
        "                  Y_batch_decoder) in tqdm(enumerate(self.__generate_batches(X_train,\n",
        "                                                                            Y_decoder_train,\n",
        "                                                                            batch_size=batch_size)),\n",
        "                                          desc=f\"Train dataset\"):\n",
        "        # Propagate the batch through network and modify weights\n",
        "        batch_loss, batch_accuracy = self.__train_step(X_batch_encoder, X_batch_decoder, Y_batch_decoder, learning_rate)\n",
        "\n",
        "        total_loss += batch_loss\n",
        "        accuracy = batch_accuracy\n",
        "\n",
        "        if is_verbose:\n",
        "          if batch%500==0 and batch!=0:\n",
        "            print(f\"Loss: {total_loss.numpy()/total_train_batches:.4f}. Accuracy: {accuracy:.4f}\")\n",
        "\n",
        "      total_loss /= total_train_batches\n",
        "      history[\"train_loss\"].append(total_loss.numpy())\n",
        "      history[\"train_accuracy\"].append(np.mean(accuracy))\n",
        "      print(f\"Loss on train: {total_loss.numpy():.4f} Accuracy on train: {accuracy:.4f}\")\n",
        "\n",
        "      # Test phase\n",
        "      total_loss = 0\n",
        "      self.__metric_object.reset_state()\n",
        "\n",
        "      # Iterate over batches. We don't need decoder input here because we won't use teacher forcing\n",
        "      for batch, (X_batch_encoder,\n",
        "                  _,\n",
        "                  Y_batch_decoder) in tqdm(enumerate(self.__generate_batches(X_test,\n",
        "                                                                            Y_decoder_test,\n",
        "                                                                            batch_size=batch_size)),\n",
        "                                          desc=f\"Test dataset\"):\n",
        "        _, _, batch_loss, batch_accuracy = self.__forward(X_batch_encoder,\n",
        "                                                          None,\n",
        "                                                          Y_batch_decoder)\n",
        "        total_loss += batch_loss\n",
        "        accuracy = batch_accuracy\n",
        "\n",
        "      total_loss /= total_test_batches\n",
        "      history[\"test_loss\"].append(total_loss.numpy())\n",
        "      history[\"test_accuracy\"].append(np.mean(accuracy))\n",
        "      print(f\"Loss on test: {total_loss.numpy():.4f} Accuracy on test: {accuracy:.4f}\")\n",
        "    return history\n",
        "\n",
        "  def predict(self, X_encoder):\n",
        "    '''\n",
        "    Make prediction\n",
        "\n",
        "    :param X_encoder - input encoder sequence (source language) (batch_size, sequence_length_in_the_source_lang)\n",
        "    '''\n",
        "    out, _, _, _ = self.__forward(X_encoder)\n",
        "    return out"
      ]
    },
    {
      "cell_type": "markdown",
      "source": [
        "# 3. Train the Encoder-Decoder model"
      ],
      "metadata": {
        "id": "O2i3Tf-b1tiM"
      }
    },
    {
      "cell_type": "code",
      "execution_count": 55,
      "metadata": {
        "id": "R7HQ2-Sqlpye"
      },
      "outputs": [],
      "source": [
        "embedding_dim = 256\n",
        "lstm_hidden_units = 512"
      ]
    },
    {
      "cell_type": "code",
      "execution_count": 85,
      "metadata": {
        "id": "Jn12K0-qgtY0"
      },
      "outputs": [],
      "source": [
        "model = Seq2SeqBahdanauAttention(input_vocab=input_vocab,\n",
        "                                 output_vocab=output_vocab,\n",
        "                                 encoder_embd_dim=embedding_dim,\n",
        "                                 decoder_embd_dim=embedding_dim,\n",
        "                                 encoder_lstm_units=lstm_hidden_units,\n",
        "                                 decoder_lstm_units=lstm_hidden_units,\n",
        "                                 max_output_length=decoder_vec.max_length,\n",
        "                                 start_token_index=decoder_vec.vocabulary.index(START_TOKEN),\n",
        "                                 end_token_index=decoder_vec.vocabulary.index(END_TOKEN))"
      ]
    },
    {
      "cell_type": "code",
      "execution_count": 86,
      "metadata": {
        "colab": {
          "base_uri": "https://localhost:8080/"
        },
        "id": "RCJ4QCjxGVnB",
        "outputId": "4a9b47f4-2853-483e-cd32-22ed888313b6"
      },
      "outputs": [
        {
          "metadata": {
            "tags": null
          },
          "name": "stdout",
          "output_type": "stream",
          "text": [
            "Train dataset: 249 batches, 7968 samples\n",
            "Test dataset: 61 batches, 1952 samples\n",
            "==========\n",
            "Epoch 1/20\n"
          ]
        },
        {
          "metadata": {
            "tags": null
          },
          "name": "stderr",
          "output_type": "stream",
          "text": [
            "Train dataset: 249it [04:08,  1.00it/s]\n"
          ]
        },
        {
          "metadata": {
            "tags": null
          },
          "name": "stdout",
          "output_type": "stream",
          "text": [
            "Loss on train: 2.8867 Accuracy on train: 0.3735\n"
          ]
        },
        {
          "metadata": {
            "tags": null
          },
          "name": "stderr",
          "output_type": "stream",
          "text": [
            "Test dataset: 61it [00:24,  2.49it/s]\n"
          ]
        },
        {
          "metadata": {
            "tags": null
          },
          "name": "stdout",
          "output_type": "stream",
          "text": [
            "Loss on test: 3.5016 Accuracy on test: 0.3992\n",
            "Epoch 2/20\n"
          ]
        },
        {
          "metadata": {
            "tags": null
          },
          "name": "stderr",
          "output_type": "stream",
          "text": [
            "Train dataset: 249it [04:06,  1.01it/s]\n"
          ]
        },
        {
          "metadata": {
            "tags": null
          },
          "name": "stdout",
          "output_type": "stream",
          "text": [
            "Loss on train: 2.2194 Accuracy on train: 0.5017\n"
          ]
        },
        {
          "metadata": {
            "tags": null
          },
          "name": "stderr",
          "output_type": "stream",
          "text": [
            "Test dataset: 61it [00:24,  2.53it/s]\n"
          ]
        },
        {
          "metadata": {
            "tags": null
          },
          "name": "stdout",
          "output_type": "stream",
          "text": [
            "Loss on test: 3.1187 Accuracy on test: 0.4095\n",
            "Epoch 3/20\n"
          ]
        },
        {
          "metadata": {
            "tags": null
          },
          "name": "stderr",
          "output_type": "stream",
          "text": [
            "Train dataset: 249it [04:02,  1.03it/s]\n"
          ]
        },
        {
          "metadata": {
            "tags": null
          },
          "name": "stdout",
          "output_type": "stream",
          "text": [
            "Loss on train: 1.9929 Accuracy on train: 0.5480\n"
          ]
        },
        {
          "metadata": {
            "tags": null
          },
          "name": "stderr",
          "output_type": "stream",
          "text": [
            "Test dataset: 61it [00:24,  2.52it/s]\n"
          ]
        },
        {
          "metadata": {
            "tags": null
          },
          "name": "stdout",
          "output_type": "stream",
          "text": [
            "Loss on test: 2.8975 Accuracy on test: 0.4345\n",
            "Epoch 4/20\n"
          ]
        },
        {
          "metadata": {
            "tags": null
          },
          "name": "stderr",
          "output_type": "stream",
          "text": [
            "Train dataset: 249it [04:11,  1.01s/it]\n"
          ]
        },
        {
          "metadata": {
            "tags": null
          },
          "name": "stdout",
          "output_type": "stream",
          "text": [
            "Loss on train: 1.8244 Accuracy on train: 0.5784\n"
          ]
        },
        {
          "metadata": {
            "tags": null
          },
          "name": "stderr",
          "output_type": "stream",
          "text": [
            "Test dataset: 61it [00:24,  2.49it/s]\n"
          ]
        },
        {
          "metadata": {
            "tags": null
          },
          "name": "stdout",
          "output_type": "stream",
          "text": [
            "Loss on test: 2.7204 Accuracy on test: 0.4546\n",
            "Epoch 5/20\n"
          ]
        },
        {
          "metadata": {
            "tags": null
          },
          "name": "stderr",
          "output_type": "stream",
          "text": [
            "Train dataset: 249it [04:14,  1.02s/it]\n"
          ]
        },
        {
          "metadata": {
            "tags": null
          },
          "name": "stdout",
          "output_type": "stream",
          "text": [
            "Loss on train: 1.6811 Accuracy on train: 0.6053\n"
          ]
        },
        {
          "metadata": {
            "tags": null
          },
          "name": "stderr",
          "output_type": "stream",
          "text": [
            "Test dataset: 61it [00:27,  2.18it/s]\n"
          ]
        },
        {
          "metadata": {
            "tags": null
          },
          "name": "stdout",
          "output_type": "stream",
          "text": [
            "Loss on test: 2.5584 Accuracy on test: 0.4721\n",
            "Epoch 6/20\n"
          ]
        },
        {
          "metadata": {
            "tags": null
          },
          "name": "stderr",
          "output_type": "stream",
          "text": [
            "Train dataset: 249it [04:05,  1.02it/s]\n"
          ]
        },
        {
          "metadata": {
            "tags": null
          },
          "name": "stdout",
          "output_type": "stream",
          "text": [
            "Loss on train: 1.5507 Accuracy on train: 0.6291\n"
          ]
        },
        {
          "metadata": {
            "tags": null
          },
          "name": "stderr",
          "output_type": "stream",
          "text": [
            "Test dataset: 61it [00:26,  2.30it/s]\n"
          ]
        },
        {
          "metadata": {
            "tags": null
          },
          "name": "stdout",
          "output_type": "stream",
          "text": [
            "Loss on test: 2.4844 Accuracy on test: 0.4929\n",
            "Epoch 7/20\n"
          ]
        },
        {
          "metadata": {
            "tags": null
          },
          "name": "stderr",
          "output_type": "stream",
          "text": [
            "Train dataset: 249it [04:23,  1.06s/it]\n"
          ]
        },
        {
          "metadata": {
            "tags": null
          },
          "name": "stdout",
          "output_type": "stream",
          "text": [
            "Loss on train: 1.4316 Accuracy on train: 0.6523\n"
          ]
        },
        {
          "metadata": {
            "tags": null
          },
          "name": "stderr",
          "output_type": "stream",
          "text": [
            "Test dataset: 61it [00:31,  1.97it/s]\n"
          ]
        },
        {
          "metadata": {
            "tags": null
          },
          "name": "stdout",
          "output_type": "stream",
          "text": [
            "Loss on test: 2.4604 Accuracy on test: 0.5003\n",
            "Epoch 8/20\n"
          ]
        },
        {
          "metadata": {
            "tags": null
          },
          "name": "stderr",
          "output_type": "stream",
          "text": [
            "Train dataset: 249it [04:33,  1.10s/it]\n"
          ]
        },
        {
          "metadata": {
            "tags": null
          },
          "name": "stdout",
          "output_type": "stream",
          "text": [
            "Loss on train: 1.3228 Accuracy on train: 0.6753\n"
          ]
        },
        {
          "metadata": {
            "tags": null
          },
          "name": "stderr",
          "output_type": "stream",
          "text": [
            "Test dataset: 61it [00:26,  2.26it/s]\n"
          ]
        },
        {
          "metadata": {
            "tags": null
          },
          "name": "stdout",
          "output_type": "stream",
          "text": [
            "Loss on test: 2.3808 Accuracy on test: 0.5229\n",
            "Epoch 9/20\n"
          ]
        },
        {
          "metadata": {
            "tags": null
          },
          "name": "stderr",
          "output_type": "stream",
          "text": [
            "Train dataset: 249it [04:19,  1.04s/it]\n"
          ]
        },
        {
          "metadata": {
            "tags": null
          },
          "name": "stdout",
          "output_type": "stream",
          "text": [
            "Loss on train: 1.2234 Accuracy on train: 0.6976\n"
          ]
        },
        {
          "metadata": {
            "tags": null
          },
          "name": "stderr",
          "output_type": "stream",
          "text": [
            "Test dataset: 61it [00:26,  2.29it/s]\n"
          ]
        },
        {
          "metadata": {
            "tags": null
          },
          "name": "stdout",
          "output_type": "stream",
          "text": [
            "Loss on test: 2.3068 Accuracy on test: 0.5423\n",
            "Epoch 10/20\n"
          ]
        },
        {
          "metadata": {
            "tags": null
          },
          "name": "stderr",
          "output_type": "stream",
          "text": [
            "Train dataset: 249it [04:15,  1.03s/it]\n"
          ]
        },
        {
          "metadata": {
            "tags": null
          },
          "name": "stdout",
          "output_type": "stream",
          "text": [
            "Loss on train: 1.1337 Accuracy on train: 0.7184\n"
          ]
        },
        {
          "metadata": {
            "tags": null
          },
          "name": "stderr",
          "output_type": "stream",
          "text": [
            "Test dataset: 61it [00:25,  2.36it/s]\n"
          ]
        },
        {
          "metadata": {
            "tags": null
          },
          "name": "stdout",
          "output_type": "stream",
          "text": [
            "Loss on test: 2.2927 Accuracy on test: 0.5472\n",
            "Epoch 11/20\n"
          ]
        },
        {
          "metadata": {
            "tags": null
          },
          "name": "stderr",
          "output_type": "stream",
          "text": [
            "Train dataset: 249it [04:26,  1.07s/it]\n"
          ]
        },
        {
          "metadata": {
            "tags": null
          },
          "name": "stdout",
          "output_type": "stream",
          "text": [
            "Loss on train: 1.0523 Accuracy on train: 0.7356\n"
          ]
        },
        {
          "metadata": {
            "tags": null
          },
          "name": "stderr",
          "output_type": "stream",
          "text": [
            "Test dataset: 61it [00:27,  2.18it/s]\n"
          ]
        },
        {
          "metadata": {
            "tags": null
          },
          "name": "stdout",
          "output_type": "stream",
          "text": [
            "Loss on test: 2.2545 Accuracy on test: 0.5632\n",
            "Epoch 12/20\n"
          ]
        },
        {
          "metadata": {
            "tags": null
          },
          "name": "stderr",
          "output_type": "stream",
          "text": [
            "Train dataset: 249it [04:11,  1.01s/it]\n"
          ]
        },
        {
          "metadata": {
            "tags": null
          },
          "name": "stdout",
          "output_type": "stream",
          "text": [
            "Loss on train: 0.9807 Accuracy on train: 0.7517\n"
          ]
        },
        {
          "metadata": {
            "tags": null
          },
          "name": "stderr",
          "output_type": "stream",
          "text": [
            "Test dataset: 61it [00:26,  2.30it/s]\n"
          ]
        },
        {
          "metadata": {
            "tags": null
          },
          "name": "stdout",
          "output_type": "stream",
          "text": [
            "Loss on test: 2.2948 Accuracy on test: 0.5632\n",
            "Epoch 13/20\n"
          ]
        },
        {
          "metadata": {
            "tags": null
          },
          "name": "stderr",
          "output_type": "stream",
          "text": [
            "Train dataset: 249it [03:57,  1.05it/s]\n"
          ]
        },
        {
          "metadata": {
            "tags": null
          },
          "name": "stdout",
          "output_type": "stream",
          "text": [
            "Loss on train: 0.9133 Accuracy on train: 0.7685\n"
          ]
        },
        {
          "metadata": {
            "tags": null
          },
          "name": "stderr",
          "output_type": "stream",
          "text": [
            "Test dataset: 61it [00:23,  2.59it/s]\n"
          ]
        },
        {
          "metadata": {
            "tags": null
          },
          "name": "stdout",
          "output_type": "stream",
          "text": [
            "Loss on test: 2.2287 Accuracy on test: 0.5765\n",
            "Epoch 14/20\n"
          ]
        },
        {
          "metadata": {
            "tags": null
          },
          "name": "stderr",
          "output_type": "stream",
          "text": [
            "Train dataset: 249it [03:55,  1.06it/s]\n"
          ]
        },
        {
          "metadata": {
            "tags": null
          },
          "name": "stdout",
          "output_type": "stream",
          "text": [
            "Loss on train: 0.8505 Accuracy on train: 0.7847\n"
          ]
        },
        {
          "metadata": {
            "tags": null
          },
          "name": "stderr",
          "output_type": "stream",
          "text": [
            "Test dataset: 61it [00:25,  2.42it/s]\n"
          ]
        },
        {
          "metadata": {
            "tags": null
          },
          "name": "stdout",
          "output_type": "stream",
          "text": [
            "Loss on test: 2.2274 Accuracy on test: 0.5836\n",
            "Epoch 15/20\n"
          ]
        },
        {
          "metadata": {
            "tags": null
          },
          "name": "stderr",
          "output_type": "stream",
          "text": [
            "Train dataset: 249it [03:54,  1.06it/s]\n"
          ]
        },
        {
          "metadata": {
            "tags": null
          },
          "name": "stdout",
          "output_type": "stream",
          "text": [
            "Loss on train: 0.7977 Accuracy on train: 0.7977\n"
          ]
        },
        {
          "metadata": {
            "tags": null
          },
          "name": "stderr",
          "output_type": "stream",
          "text": [
            "Test dataset: 61it [00:23,  2.64it/s]\n"
          ]
        },
        {
          "metadata": {
            "tags": null
          },
          "name": "stdout",
          "output_type": "stream",
          "text": [
            "Loss on test: 2.2397 Accuracy on test: 0.5908\n",
            "Epoch 16/20\n"
          ]
        },
        {
          "metadata": {
            "tags": null
          },
          "name": "stderr",
          "output_type": "stream",
          "text": [
            "Train dataset: 249it [03:51,  1.07it/s]\n"
          ]
        },
        {
          "metadata": {
            "tags": null
          },
          "name": "stdout",
          "output_type": "stream",
          "text": [
            "Loss on train: 0.7488 Accuracy on train: 0.8098\n"
          ]
        },
        {
          "metadata": {
            "tags": null
          },
          "name": "stderr",
          "output_type": "stream",
          "text": [
            "Test dataset: 61it [00:22,  2.65it/s]\n"
          ]
        },
        {
          "metadata": {
            "tags": null
          },
          "name": "stdout",
          "output_type": "stream",
          "text": [
            "Loss on test: 2.2464 Accuracy on test: 0.5986\n",
            "Epoch 17/20\n"
          ]
        },
        {
          "metadata": {
            "tags": null
          },
          "name": "stderr",
          "output_type": "stream",
          "text": [
            "Train dataset: 249it [03:55,  1.06it/s]\n"
          ]
        },
        {
          "metadata": {
            "tags": null
          },
          "name": "stdout",
          "output_type": "stream",
          "text": [
            "Loss on train: 0.7063 Accuracy on train: 0.8208\n"
          ]
        },
        {
          "metadata": {
            "tags": null
          },
          "name": "stderr",
          "output_type": "stream",
          "text": [
            "Test dataset: 61it [00:26,  2.29it/s]\n"
          ]
        },
        {
          "metadata": {
            "tags": null
          },
          "name": "stdout",
          "output_type": "stream",
          "text": [
            "Loss on test: 2.2390 Accuracy on test: 0.6022\n",
            "Epoch 18/20\n"
          ]
        },
        {
          "output_type": "stream",
          "name": "stderr",
          "text": [
            "Train dataset: 249it [03:51,  1.08it/s]\n"
          ]
        },
        {
          "output_type": "stream",
          "name": "stdout",
          "text": [
            "Loss on train: 0.6650 Accuracy on train: 0.8320\n"
          ]
        },
        {
          "output_type": "stream",
          "name": "stderr",
          "text": [
            "Test dataset: 61it [00:23,  2.57it/s]\n"
          ]
        },
        {
          "output_type": "stream",
          "name": "stdout",
          "text": [
            "Loss on test: 2.2095 Accuracy on test: 0.6126\n",
            "Epoch 19/20\n"
          ]
        },
        {
          "output_type": "stream",
          "name": "stderr",
          "text": [
            "Train dataset: 249it [03:53,  1.07it/s]\n"
          ]
        },
        {
          "output_type": "stream",
          "name": "stdout",
          "text": [
            "Loss on train: 0.6294 Accuracy on train: 0.8417\n"
          ]
        },
        {
          "output_type": "stream",
          "name": "stderr",
          "text": [
            "Test dataset: 61it [00:26,  2.32it/s]\n"
          ]
        },
        {
          "output_type": "stream",
          "name": "stdout",
          "text": [
            "Loss on test: 2.2278 Accuracy on test: 0.6177\n",
            "Epoch 20/20\n"
          ]
        },
        {
          "output_type": "stream",
          "name": "stderr",
          "text": [
            "Train dataset: 249it [04:05,  1.01it/s]\n"
          ]
        },
        {
          "output_type": "stream",
          "name": "stdout",
          "text": [
            "Loss on train: 0.5959 Accuracy on train: 0.8509\n"
          ]
        },
        {
          "output_type": "stream",
          "name": "stderr",
          "text": [
            "Test dataset: 61it [00:24,  2.50it/s]"
          ]
        },
        {
          "output_type": "stream",
          "name": "stdout",
          "text": [
            "Loss on test: 2.2198 Accuracy on test: 0.6222\n"
          ]
        },
        {
          "output_type": "stream",
          "name": "stderr",
          "text": [
            "\n"
          ]
        }
      ],
      "source": [
        "history = model.fit(X_encoder, X_decoder, Y_decoder, epoch=20, batch_size=32, train_size=0.8, learning_rate=0.001, is_verbose=True)"
      ]
    },
    {
      "cell_type": "code",
      "source": [
        "# with open(base_path + 'Data/machine_translation_bahdanau_attention_history.pickle', 'wb') as f:\n",
        "#     pickle.dump(history, f)"
      ],
      "metadata": {
        "id": "e1mQ2TQbWItn"
      },
      "execution_count": 87,
      "outputs": []
    },
    {
      "cell_type": "code",
      "source": [
        "# with open(base_path + 'Data/machine_translation_bahdanau_attention_history.pickle', 'rb') as f:\n",
        "#     history = pickle.load(f)"
      ],
      "metadata": {
        "id": "W_TqkLyyDfgF"
      },
      "execution_count": null,
      "outputs": []
    },
    {
      "cell_type": "code",
      "source": [
        "df = pd.DataFrame(data=history)\n",
        "# Plot the learning curves (the loss function and the accuracy metric)\n",
        "# which calculated on the training and test datasets\n",
        "_, axs = plt.subplots(1, 2, figsize=(10, 5))\n",
        "sns.lineplot(data=df[['train_loss', 'test_loss']], ax=axs[0])\n",
        "sns.lineplot(data=df[['train_accuracy', 'test_accuracy']], ax=axs[1])\n",
        "axs[0].set_title('Loss function')\n",
        "axs[1].set_title('Accuracy')\n",
        "plt.show()"
      ],
      "metadata": {
        "colab": {
          "base_uri": "https://localhost:8080/",
          "height": 468
        },
        "id": "BLfI5X5UF8rX",
        "outputId": "788178f3-6555-4798-d346-fe9bf282d922"
      },
      "execution_count": 88,
      "outputs": [
        {
          "output_type": "display_data",
          "data": {
            "text/plain": [
              "<Figure size 1000x500 with 2 Axes>"
            ],
            "image/png": "[encoded data removed]"
          },
          "metadata": {}
        }
      ]
    },
    {
      "cell_type": "code",
      "source": [],
      "metadata": {
        "id": "gU3F-R3sU_e5"
      },
      "execution_count": null,
      "outputs": []
    }
  ],
  "metadata": {
    "colab": {
      "provenance": [],
      "collapsed_sections": [
        "2IEg-hGLJfDv",
        "reS8v6d31S1Q",
        "fshzhlrU1YYe",
        "3MEty-2L1hrK",
        "smUcbYdg1loi",
        "O2i3Tf-b1tiM"
      ],
      "authorship_tag": "ABX9TyM7asC0u/4EuEeExM0fvBC0",
      "include_colab_link": true
    },
    "kernelspec": {
      "display_name": "Python 3",
      "name": "python3"
    },
    "language_info": {
      "name": "python"
    },
    "accelerator": "TPU"
  },
  "nbformat": 4,
  "nbformat_minor": 0
}