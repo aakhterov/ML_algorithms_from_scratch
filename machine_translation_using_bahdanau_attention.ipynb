{
  "cells": [
    {
      "cell_type": "markdown",
      "metadata": {
        "id": "view-in-github",
        "colab_type": "text"
      },
      "source": [
        "<a href=\"https://colab.research.google.com/github/aakhterov/ML_algorithms_from_scratch/blob/master/machine_translation_using_bahdanau_attention.ipynb\" target=\"_parent\"><img src=\"https://colab.research.google.com/assets/colab-badge.svg\" alt=\"Open In Colab\"/></a>"
      ]
    },
    {
      "cell_type": "markdown",
      "metadata": {
        "id": "m-9HBe6We5LC"
      },
      "source": [
        "# 0. Description\n",
        "\n",
        "We're going to build an NN model to translate from Russian to English. This notebook is committed to the implementation of the encoder-decoder network with Bahdanau attention (Additive Attention) mechanism.\n",
        "\n",
        "We will use the following terms:\n",
        "- source language - the language from which the model translates\n",
        "- target language - the language to which the model translates\n",
        "- token = word\n",
        "\n",
        "\n",
        "Dataset: https://www.kaggle.com/datasets/hijest/englishrussian-dictionary-for-machine-translate/\n",
        "\n",
        "References:\n",
        "- https://github.com/Hvass-Labs/TensorFlow-Tutorials/blob/master/21_Machine_Translation.ipynb\n",
        "- https://www.youtube.com/watch?v=vI2Y3I-JI2Q\n",
        "- https://medium.com/analytics-vidhya/encoder-decoder-seq2seq-models-clearly-explained-c34186fbf49b\n",
        "- https://blog.floydhub.com/attention-mechanism/#bahdanau-att-step2\n",
        "- https://towardsdatascience.com/implementing-neural-machine-translation-with-attention-using-tensorflow-fc9c6f26155f\n",
        "\n"
      ]
    },
    {
      "cell_type": "code",
      "execution_count": 1,
      "metadata": {
        "colab": {
          "base_uri": "https://localhost:8080/"
        },
        "id": "JrOij2Lsj3yA",
        "outputId": "b8107074-939b-40e5-e765-82113c39908c"
      },
      "outputs": [
        {
          "output_type": "stream",
          "name": "stdout",
          "text": [
            "Mounted at /content/drive\n"
          ]
        }
      ],
      "source": [
        "from typing import List\n",
        "import numpy as np\n",
        "import pandas as pd\n",
        "import tensorflow as tf\n",
        "import seaborn as sns\n",
        "import matplotlib.pyplot as plt\n",
        "import pickle\n",
        "from tqdm import tqdm\n",
        "from string import punctuation\n",
        "from collections import Counter\n",
        "from tensorflow.keras.layers import Embedding, LSTM, Dense, Input\n",
        "from tensorflow.keras.models import Model\n",
        "from tensorflow.keras.losses import SparseCategoricalCrossentropy\n",
        "from tensorflow.keras.utils import pad_sequences\n",
        "from sklearn.model_selection import train_test_split\n",
        "\n",
        "from google.colab import drive\n",
        "drive.mount('/content/drive')\n",
        "base_path = '/content/drive/MyDrive/Colab Notebooks/'"
      ]
    },
    {
      "cell_type": "markdown",
      "metadata": {
        "id": "2IEg-hGLJfDv"
      },
      "source": [
        "# 1. Vectorization"
      ]
    },
    {
      "cell_type": "code",
      "execution_count": 2,
      "metadata": {
        "id": "_RSzJxTxSmLY"
      },
      "outputs": [],
      "source": [
        "UNKNOWN_TOKEN = '[UNK]' # Out of vocabulary token\n",
        "START_TOKEN = '[START]' # The token that denotes the beginning of the target language phrase\n",
        "END_TOKEN = '[END]' # The token that denotes the end of the target language phrase"
      ]
    },
    {
      "cell_type": "code",
      "execution_count": 3,
      "metadata": {
        "id": "OwlrS_c8K6pU"
      },
      "outputs": [],
      "source": [
        "class Vectorization:\n",
        "  '''\n",
        "    Vectorization text class.\n",
        "    Main goals:\n",
        "     - make a vocabulary\n",
        "     - convert the list of strings to the list of integer tokens\n",
        "     - convert the list of integer tokens to the list of strings\n",
        "  '''\n",
        "\n",
        "  def __init__(self,\n",
        "               max_tokens,\n",
        "               max_length=None,\n",
        "               unknown_token=UNKNOWN_TOKEN,\n",
        "               start_token=START_TOKEN,\n",
        "               end_token=END_TOKEN\n",
        "               ):\n",
        "    '''\n",
        "      :param max_tokens: length of the vocabulary\n",
        "      :param max_length: max length of the phrases\n",
        "      :param unknown_token: out of vocabulary token\n",
        "      :param start_token: token that denotes the beginning of the phrase\n",
        "      :param end_token: token that denotes the end of the phrase\n",
        "    '''\n",
        "    self.max_tokens = max_tokens\n",
        "    self.max_length = max_length\n",
        "    self.unknown_token = unknown_token\n",
        "    self.start_token = start_token\n",
        "    self.end_token=end_token\n",
        "    # add to the vocabulary:\n",
        "    #  (1) padding token (we're going to pad using 0, so padding token index is 0)\n",
        "    #  (2) out of vocabulary token\n",
        "    #  (3) start token\n",
        "    #  (4) end token\n",
        "    self.vocabulary = ['', self.unknown_token, self.start_token, self.end_token]\n",
        "\n",
        "  def __preprocessing(self, input: str) -> str:\n",
        "    '''\n",
        "      Preprocess of the string (convert to lowcase and remove punctuation).\n",
        "      ex.: I'm going! -> i m going\n",
        "      :param input - input string\n",
        "      :return preprocessed string\n",
        "    '''\n",
        "    output = ''.join(map(lambda ch: ch if ch not in punctuation else ' ', input.lower())).strip()\n",
        "    return output\n",
        "\n",
        "  def token_to_text(self, tokens: List) -> str:\n",
        "    '''\n",
        "      Convert the list of the integer tokens to the string\n",
        "      :param tokens: list of the integer tokens\n",
        "      :return string contains words that correspond to the integer tokens\n",
        "    '''\n",
        "    words = [self.vocabulary[token] if token in self.vocabulary else self.unknown_token for token in tokens]\n",
        "    return \" \".join(words)\n",
        "\n",
        "  def fit(self, X: List):\n",
        "    '''\n",
        "      Make the vocabulary and calculate the max length of the phrase\n",
        "      :param X: corpus - list of the strings\n",
        "      :return the instance of the current class\n",
        "    '''\n",
        "    lens = []\n",
        "    __vocab = []\n",
        "    for x in X:\n",
        "      # Make preprocessing and get the list of the words.\n",
        "      # Ex. I'm going! -> ['i', 'm', 'going']\n",
        "      words = self.__preprocessing(x).split()\n",
        "\n",
        "      # Collect phrases lengths\n",
        "      lens.append(len(words))\n",
        "\n",
        "      # Make the vocabulary\n",
        "      __vocab += [word.strip() for word in words]\n",
        "\n",
        "      # for word in words:\n",
        "      #   token = word.strip()\n",
        "      #   # Add the word to the vocabulary if it usn't \"full\"\n",
        "      #   if token not in self.vocabulary and self.max_tokens is not None and len(self.vocabulary)<self.max_tokens:\n",
        "      #     self.vocabulary.append(token)\n",
        "\n",
        "    c = Counter(__vocab)\n",
        "    if self.max_tokens:\n",
        "      self.vocabulary += [item[0] for item in c.most_common(self.max_tokens-4)]\n",
        "    else:\n",
        "      self.vocabulary += [item[0] for item in c.most_common()]\n",
        "\n",
        "    # Calculate the max length of the phrases if it isn't set in the __init__\n",
        "    # max_length = Average length + two standard devations\n",
        "    lens = np.array(lens)\n",
        "    if self.max_length is None:\n",
        "      self.max_length = int(np.mean(lens) + 2 * np.std(lens))\n",
        "    return self\n",
        "\n",
        "  def predict(self,\n",
        "              X: List[str],\n",
        "              is_padding=True,\n",
        "              is_add_start_token=False,\n",
        "              is_add_end_token=False\n",
        "              ) -> List[List]:\n",
        "    '''\n",
        "      :param X - corpus - list of the strings\n",
        "      :param is_padding - whether to pad the list of tokens to the max. length with 0s\n",
        "      :param is_add_start_token - whether to add the start_token to the list of tokens\n",
        "      :param is_add_end_token - whether to add the end_token to the list of tokens\n",
        "      :return list of the lists of tokens\n",
        "    '''\n",
        "    output = []\n",
        "    self.max_length += int(is_add_start_token) + int(is_add_end_token)\n",
        "\n",
        "    for x in X:\n",
        "      # If nedded add the index of the start_token to the beginning of the list of tokens\n",
        "      vector = [self.vocabulary.index(self.start_token)] if is_add_start_token else []\n",
        "\n",
        "      # Make preprocessing and get the list of the words.\n",
        "      words = self.__preprocessing(x).split()\n",
        "\n",
        "      # If the current word is in the vocabulary add its index to the list else add the index of the unknown_token\n",
        "      for word in words:\n",
        "        token = word.strip()\n",
        "        vector.append(self.vocabulary.index(token) if token in self.vocabulary else self.vocabulary.index(self.unknown_token))\n",
        "\n",
        "      # Truncate the vector to the max. length\n",
        "      vector = vector[:self.max_length-1]\n",
        "\n",
        "      # If needed add the index of the end_token\n",
        "      if is_add_end_token:\n",
        "        vector.append(self.vocabulary.index(self.end_token))\n",
        "\n",
        "      output.append(vector)\n",
        "\n",
        "    # If needed pad the vector to the max. length with 0s\n",
        "    return pad_sequences(output,\n",
        "                         maxlen=self.max_length,\n",
        "                         padding='post',\n",
        "                         truncating='post') if is_padding else output"
      ]
    },
    {
      "cell_type": "code",
      "execution_count": 36,
      "metadata": {
        "id": "VvaCDzcFuIe1"
      },
      "outputs": [],
      "source": [
        "# Read from N to M samples\n",
        "N = 0\n",
        "M = 5_000\n",
        "\n",
        "input_phrases, output_phrases = [], []\n",
        "with open('/content/drive/MyDrive/Colab Notebooks/Data/rus.txt') as f:\n",
        "  for line in f.readlines()[N:M]:\n",
        "    eng, rus = line.split('CC-BY')[0].strip().split('\\t')\n",
        "    input_phrases.append(rus)\n",
        "    output_phrases.append(eng)"
      ]
    },
    {
      "cell_type": "code",
      "execution_count": 37,
      "metadata": {
        "id": "d-LhZGvyvrkS"
      },
      "outputs": [],
      "source": [
        "input_vocab = 1_000 # size of the source language vocaulary\n",
        "output_vocab = 1_000 # size of the target language vocaulary"
      ]
    },
    {
      "cell_type": "code",
      "execution_count": 38,
      "metadata": {
        "id": "chd-W_mXVgqE"
      },
      "outputs": [],
      "source": [
        "# Make vectorization of the source language phrases\n",
        "encoder_vec = Vectorization(max_tokens=input_vocab)\n",
        "encoder_vec.fit(input_phrases)\n",
        "X_encoder = encoder_vec.predict(input_phrases, is_padding=False)\n",
        "\n",
        "# Make vectorization of the target language phrases\n",
        "decoder_vec = Vectorization(max_tokens=output_vocab)\n",
        "decoder_vec.fit(output_phrases)\n",
        "# For the reason of the sequence model training we need decoder input contains the start_token and\n",
        "# the decoder output which is without the start_token\n",
        "X_decoder = decoder_vec.predict(output_phrases, is_add_start_token=True, is_add_end_token=True)\n",
        "Y_decoder = decoder_vec.predict(output_phrases, is_add_end_token=True)"
      ]
    },
    {
      "cell_type": "code",
      "execution_count": 39,
      "metadata": {
        "colab": {
          "base_uri": "https://localhost:8080/"
        },
        "id": "OHSeTSRGQhmS",
        "outputId": "670ea521-97c5-460c-c6e4-ec30f2294f89"
      },
      "outputs": [
        {
          "output_type": "stream",
          "name": "stdout",
          "text": [
            "Index: 100\n",
            "======= Encoder =======\n",
            "Input phrase: Он бежал.\n",
            "Vector: [9, 266]\n",
            "Max. length: 3\n",
            "======= Decoder =======\n",
            "Input phrase: He ran.\n",
            "Vector: [  2  14 177   3   0]\n",
            "Output phrase: He ran.\n",
            "Vector: [ 14 177   3   0   0   0]\n",
            "Max. length: 6\n",
            "==============\n",
            "Start phrase token index: 2\n",
            "End phrase token index: 3\n"
          ]
        }
      ],
      "source": [
        "idx = 100\n",
        "print(f\"Index: {idx}\")\n",
        "print(\"======= Encoder =======\")\n",
        "print(f\"Input phrase: {input_phrases[idx]}\")\n",
        "print(f\"Vector: {X_encoder[idx]}\")\n",
        "print(f\"Max. length: {encoder_vec.max_length}\")\n",
        "print(\"======= Decoder =======\")\n",
        "print(f\"Input phrase: {output_phrases[idx]}\")\n",
        "print(f\"Vector: {X_decoder[idx]}\")\n",
        "print(f\"Output phrase: {output_phrases[idx]}\")\n",
        "print(f\"Vector: {Y_decoder[idx]}\")\n",
        "print(f\"Max. length: {decoder_vec.max_length}\")\n",
        "print(\"==============\")\n",
        "print(f\"Start phrase token index: {decoder_vec.vocabulary.index(START_TOKEN)}\")\n",
        "print(f\"End phrase token index: {decoder_vec.vocabulary.index(END_TOKEN)}\")"
      ]
    },
    {
      "cell_type": "markdown",
      "metadata": {
        "id": "77Qm_uDxJonO"
      },
      "source": [
        "# 2. Construct Encoder-Decoder NN with Bahdanau attention"
      ]
    },
    {
      "cell_type": "code",
      "execution_count": 8,
      "metadata": {
        "id": "vPXQD5tFjzwp"
      },
      "outputs": [],
      "source": [
        "class Encoder(tf.keras.Model):\n",
        "  '''\n",
        "    Encoder for using with Bahdanau attention\n",
        "  '''\n",
        "  def __init__(self, input_vocab: int, embedding_dim: int, lstm_hidden_units: int):\n",
        "    '''\n",
        "      :param input_vocab - vocabluary dimension of the source language\n",
        "      :param embedding_dim - dimension of the source language words embeddings\n",
        "      :param lstm_hidden_units - the number of the LSTM cell units\n",
        "    '''\n",
        "    super(Encoder, self).__init__()\n",
        "    self.lstm_hidden_units = lstm_hidden_units\n",
        "    self.emedding = Embedding(input_dim=input_vocab,\n",
        "                              output_dim=embedding_dim,\n",
        "                              mask_zero=True,\n",
        "                              name='encoder_embedding')\n",
        "    self.lstm = LSTM(units=lstm_hidden_units,\n",
        "                     return_sequences=True,\n",
        "                     return_state=True,\n",
        "                     name='encoder_lstm')\n",
        "\n",
        "  def __call__(self, x):\n",
        "    '''\n",
        "      Calculate forward propagation through the Encoder\n",
        "      :param x - input sequence (batch_size, sequence_length)\n",
        "    '''\n",
        "    # Get embeddings.\n",
        "    # 'x' dimension is (batch_size, sequence_length)\n",
        "    # 'out' dimension is (batch_size, sequence_length, embedding_dim)\n",
        "    out = self.emedding(x)\n",
        "\n",
        "    # Hence we don't need LSTM output, we get only LSTM states (hidden state and cell state)\n",
        "    # One of the problems here is that dispite the return_sequences parameter is True,\n",
        "    # we get only last (after propagation a whole sequence) values of the states and\n",
        "    # didn't get the states after each timestep. We will struggle with this later.\n",
        "    _, h, c = self.lstm(out)\n",
        "    return h, c"
      ]
    },
    {
      "cell_type": "code",
      "execution_count": 9,
      "metadata": {
        "id": "B4DhtzjnPE_5"
      },
      "outputs": [],
      "source": [
        "class BahdanauAttention(tf.keras.layers.Layer):\n",
        "  '''\n",
        "    Layers implements a Bahdanau attention mechanism\n",
        "  '''\n",
        "  def __init__(self, units: int, name=None):\n",
        "    '''\n",
        "      :param units - the number of the encoder and decoder hidden units.\n",
        "      This value can be obtained from the inputs dimensions but for the purpose of simplicity we will set it here.\n",
        "      :param name - tne name of the layer\n",
        "    '''\n",
        "    super(BahdanauAttention, self).__init__(name=name)\n",
        "    self.units = units\n",
        "    self.fc_encoder_states = Dense(units=units, activation='linear')\n",
        "    self.fc_decoder_states = Dense(units=units, activation='linear')\n",
        "    self.fc_combined = Dense(units=1, activation='linear')\n",
        "\n",
        "  def __call__(self, encoder_states, decoder_hidden_state):\n",
        "    '''\n",
        "      Calculate forward propagation through the Layer\n",
        "      :param encoder_states - encoder hidden states (batch_size, sequence_length, encoder_lstm_hidden_units)\n",
        "      :param decoder_hidden_state - decoder hidden state (batch_size, decoder_lstm_hidden_units)\n",
        "    '''\n",
        "\n",
        "    # Linear layer for the encoder hidden states (it has its own trainable weights).\n",
        "    fc_encoder_out = self.fc_encoder_states(encoder_states) # fc_encoder_out dimension is (batch_size, sequence_length, encoder_lstm_hidden_units)\n",
        "\n",
        "    # Linear layer for the decoder hidden state from the previous timestep (it has its own trainable weights).\n",
        "    fc_decoder_out = self.fc_decoder_states(decoder_hidden_state) # fc_decoder_out dimension is (batch_size, decoder_lstm_hidden_units)\n",
        "\n",
        "    # Add additional dimension to the fc_decoder_out\n",
        "    fc_decoder_out = tf.expand_dims(fc_decoder_out, axis=1) # fc_decoder_out dimension is (batch_size, 1, decoder_lstm_hidden_units)\n",
        "\n",
        "    # Calculate alignment score using linear layer  (it has its own trainable weights).\n",
        "    # Alignment_scores dimension is (batch_size, sequence_length)\n",
        "    alignment_scores = self.fc_combined(tf.math.tanh(fc_encoder_out + fc_decoder_out))\n",
        "\n",
        "    # Calculate attention weights of the each encoder hidden state within a batch\n",
        "    # softmax_alignment_scores dimension is (batch_size, sequence_length)\n",
        "    softmax_alignment_scores = tf.nn.softmax(alignment_scores)\n",
        "\n",
        "    # Calculate context vector. Its dimension is (batch_size, encoder_lstm_hidden_units)\n",
        "    context_vector = tf.reduce_sum(softmax_alignment_scores * encoder_states, axis=1)\n",
        "    return context_vector, softmax_alignment_scores"
      ]
    },
    {
      "cell_type": "code",
      "execution_count": 10,
      "metadata": {
        "id": "tL1KwedDnTc3"
      },
      "outputs": [],
      "source": [
        "class Decoder(tf.keras.Model):\n",
        "  '''\n",
        "    Decoder with Bahdanau attention mechanism\n",
        "  '''\n",
        "  def __init__(self, output_vocab, embedding_dim, lstm_hidden_units):\n",
        "    '''\n",
        "      :param output_vocab - vocabluary dimension of the target language\n",
        "      :param embedding_dim - dimension of the target language words embeddings\n",
        "      :param lstm_hidden_units - the number of the LSTM cell units\n",
        "    '''\n",
        "    super(Decoder, self).__init__()\n",
        "    self.emedding = Embedding(input_dim=output_vocab,\n",
        "                              output_dim=embedding_dim,\n",
        "                              mask_zero=True,\n",
        "                              name='decoder_embedding')\n",
        "\n",
        "    self.lstm = LSTM(units=lstm_hidden_units,\n",
        "                     return_sequences=True,\n",
        "                     return_state=True,\n",
        "                     name='decoder_lstm')\n",
        "\n",
        "    self.attention = BahdanauAttention(units=lstm_hidden_units,\n",
        "                                       name='decoder_attention')\n",
        "\n",
        "    # Dense layer with softmax activation function\n",
        "    self.output_dense = Dense(units=output_vocab,\n",
        "                              activation='softmax',\n",
        "                              name='decoder_output')\n",
        "\n",
        "  def __call__(self, x, decoder_states, encoder_states):\n",
        "    '''\n",
        "      Calculate forward propagation through the Decoder\n",
        "      : param x - input sequence (batch_size, sequence_length_of_target_lang)\n",
        "      :param decoder_states - hidden and cell decoder states from the previous timestep (or last encoder states for the first timestep)\n",
        "      Dimension ((batch_size, lstm_hidden_units), (batch_size, lstm_hidden_units))\n",
        "      :param encoder_states - hidden encoder states from the each timesteps  (batch_size, sequence_length, lstm_hidden_units)\n",
        "    '''\n",
        "    # Unpack decoder states\n",
        "    hidden_state, cell_state = decoder_states\n",
        "\n",
        "    # Calculate contect vector based on Bahdanau attention mechanism\n",
        "    # context_vector dimension is (batch_size, lstm_hidden_units)\n",
        "    context_vector, _ = self.attention(encoder_states, hidden_state)\n",
        "\n",
        "    # Get target language embedding\n",
        "    out = self.emedding(x)\n",
        "\n",
        "    # Concatenate context_vector with the next embedded token\n",
        "    input = tf.expand_dims(tf.concat([context_vector, out], axis=-1), 1)\n",
        "\n",
        "    # Get LSTM outputs\n",
        "    out, h, c = self.lstm(input, initial_state=decoder_states)\n",
        "\n",
        "    # Propagate LSTM output through dense layer with softmax activation function\n",
        "    out = self.output_dense(out)\n",
        "    return out, h, c"
      ]
    },
    {
      "cell_type": "code",
      "execution_count": 48,
      "metadata": {
        "id": "caH2BctcgtQ_"
      },
      "outputs": [],
      "source": [
        "class Seq2SeqBahdanauAttention(tf.keras.Model):\n",
        "  '''\n",
        "  Encoder-Decoder network implements the Bahdanau attention mechanism\n",
        "  '''\n",
        "  def __init__(self,\n",
        "               input_vocab,\n",
        "               output_vocab,\n",
        "               encoder_embd_dim,\n",
        "               decoder_embd_dim,\n",
        "               encoder_lstm_units,\n",
        "               decoder_lstm_units,\n",
        "               max_output_length,\n",
        "               start_token_index,\n",
        "               end_token_index):\n",
        "    '''\n",
        "      :param input_vocab - vocabluary dimension of the source language\n",
        "      :param output_vocab - vocabluary dimension of the target language\n",
        "      :param encoder_embd_dim - dimension of the source language words embeddings\n",
        "      :param decoder_embd_dim - dimension of the target language words embeddings\n",
        "      :param encoder_lstm_units - the number of the LSTM cell units\n",
        "      :param decoder_lstm_units - the number of the LSTM cell units\n",
        "      :param max_output_length - the maximum length of the output sequence\n",
        "      :param start_token_index - index of the start token in the output vocabulary\n",
        "      :param end_token_index - index of the end token in the output vocabulary\n",
        "\n",
        "    '''\n",
        "    super(Seq2SeqBahdanauAttention, self).__init__()\n",
        "    self.encoder = Encoder(input_vocab=input_vocab,\n",
        "                           embedding_dim=encoder_embd_dim,\n",
        "                           lstm_hidden_units=encoder_lstm_units)\n",
        "    self.decoder = Decoder(output_vocab=output_vocab,\n",
        "                           embedding_dim=decoder_embd_dim,\n",
        "                           lstm_hidden_units=decoder_lstm_units)\n",
        "    self.max_output_length = max_output_length\n",
        "    self.start_token_index = start_token_index\n",
        "    self.end_token_index = end_token_index\n",
        "    self.__loss_object = tf.keras.losses.SparseCategoricalCrossentropy(reduction='none')\n",
        "    self.__metric_object = tf.keras.metrics.SparseCategoricalAccuracy()\n",
        "\n",
        "\n",
        "  def __loss_function(self, true, pred):\n",
        "    '''\n",
        "    '''\n",
        "    mask = tf.math.logical_not(tf.math.equal(true, 0))\n",
        "    loss_ = self.__loss_object(true, pred)\n",
        "    mask = tf.cast(mask, dtype=loss_.dtype)\n",
        "    loss_ *= mask\n",
        "    return tf.reduce_mean(loss_)\n",
        "\n",
        "  def __metric_function(self, true, pred):\n",
        "    '''\n",
        "    '''\n",
        "    mask = tf.math.logical_not(tf.math.equal(true, 0))\n",
        "    metric_ = self.__metric_object(true, pred)\n",
        "    mask = tf.cast(mask, dtype=metric_.dtype)\n",
        "    metric_ *= mask\n",
        "    return metric_\n",
        "\n",
        "  def __forward(self, X_encoder, X_decoder=None, Y_decoder=None):\n",
        "    '''\n",
        "      Forward propagation\n",
        "      :param X_encoder - input encoder sequence (source language) (batch_size, sequence_length_in_the_source_lang)\n",
        "      :param X_decoder - input decoder sequence (target language) (batch_size, sequence_length_in_the_target_lang + 2)\n",
        "      (ex. [start_token_index, word1_index, woprd2_index, end_token_index)\n",
        "      :param Y_decoder - output decoder sequence (target language) (batch_size, sequence_length_in_the_target_lang + 1)\n",
        "      (ex. [word1_index, woprd2_index, end_token_index)\n",
        "\n",
        "      We use X_decoder=None and Y_decoder=None for the purpose of prediction\n",
        "      We use X_decoder=None and Y_decoder is not None for the purpose of validation during training\n",
        "    '''\n",
        "    output = []\n",
        "    batch_size = X_encoder.shape[0]\n",
        "    encoder_states = []\n",
        "    loss = 0\n",
        "    accuracy = np.array([])\n",
        "\n",
        "    # Here we deal with the mentioned earlier problem of getting encoder hidden states on each timestep.\n",
        "    # As we mentoined before LSTM parameter 'return_sequences' doesn't affect on the hidden and cell states, i.e.\n",
        "    # we can't get LSTM states after every timestep. Therefore we need do it manually. It means the following:\n",
        "    # 1) we take the first token of the input sequence, propagate it through the encoder and save the LSTM states.\n",
        "    # 2) we take the two first tokens of the input sequence, propagate them through the encoder and save the last LSTM states.\n",
        "    # 3) We repeat step 2 adding the next token and save the last LSTM states.\n",
        "\n",
        "    for t in range(X_encoder.shape[1]):\n",
        "      h, c = self.encoder(X_encoder[:, :t+1])\n",
        "      encoder_states.append(h)\n",
        "    encoder_states = tf.stack(encoder_states, axis=1) # make tensor from the list\n",
        "\n",
        "    # save the last encoder hidden and cell states, since they are the initial decoder states\n",
        "    hidden_state = encoder_states[:, -1, :]\n",
        "    cell_state = c\n",
        "\n",
        "    if X_decoder is not None and Y_decoder is not None: # if we train network\n",
        "      # for every timestep (i.e. every token) of the target language sequence\n",
        "      for t in range(X_decoder.shape[1]):\n",
        "        # Set the decoder_input to the t-th token of the decoder input sequence.\n",
        "        # We use here the teacher forcing method for faster and efficient decoder training.\n",
        "        # The method uses the ground true as the decoder input instead of the prediction\n",
        "        # from the previous timestep.\n",
        "        decoder_input = X_decoder[:, t]\n",
        "        # print(decoder_input.shape)\n",
        "\n",
        "        # Calculate decoder output and states. We\n",
        "        out, hidden_state, cell_state = self.decoder(x=decoder_input,\n",
        "                                                     decoder_states=(hidden_state, cell_state),\n",
        "                                                     encoder_states=encoder_states)\n",
        "        # Collect output token\n",
        "        output.append(out)\n",
        "        # Calculate loss function\n",
        "        loss += self.__loss_function(Y_decoder[:, t], out)\n",
        "        # Calculate accuracy\n",
        "        accuracy = np.hstack((accuracy, self.__metric_function(Y_decoder[:, t], np.squeeze(out))))\n",
        "    else: # if we validate (calculate loss and accuracy on the test set) the network or make prediction\n",
        "        current_step = 0 # current timestep\n",
        "\n",
        "        # Set the first decoder input to the start token index. decoder_input dimension is (batch_size, )\n",
        "        decoder_input = np.full((batch_size, ), self.start_token_index)\n",
        "\n",
        "        # Iterate till the maximum outpt length will be achieved.\n",
        "        while current_step<self.max_output_length:\n",
        "          out, hidden_state, cell_state = self.decoder(x=decoder_input,\n",
        "                                                       decoder_states=(hidden_state, cell_state),\n",
        "                                                       encoder_states=encoder_states)\n",
        "          if Y_decoder is not None: # if we validate the network\n",
        "            true, pred = Y_decoder[:, current_step], np.squeeze(out)\n",
        "            loss += self.__loss_function(true, pred) # loss function\n",
        "            accuracy = np.hstack((accuracy, self.__metric_function(true, pred))) # accuracy metric\n",
        "\n",
        "          # Get the indexes of the predicted tokens. Dimension is (batch_size, )\n",
        "          tokens = np.argmax(np.squeeze(out), axis=1)\n",
        "\n",
        "          # Here we don't use teacher forcing, i.e. the output from the previous timestep\n",
        "          # is the input for the current one.\n",
        "          decoder_input = tokens\n",
        "          output.append(out)\n",
        "          current_step += 1\n",
        "\n",
        "    # If it's not a inference we calculate loss function value over batch\n",
        "    batch_loss = tf.reduce_sum(loss) / Y_decoder.shape[0] if Y_decoder is not None else None\n",
        "    return output, loss, batch_loss, accuracy\n",
        "\n",
        "  def __train_step(self, X_encoder, X_decoder, Y_decoder, learning_rate):\n",
        "    '''\n",
        "      Perform one train iteration\n",
        "\n",
        "      :param X_encoder - input encoder sequence (source language) (batch_size, sequence_length_in_the_source_lang)\n",
        "      :param X_decoder - input decoder sequence (target language) (batch_size, sequence_length_in_the_target_lang + 2)\n",
        "      (ex. [start_token_index, word1_index, woprd2_index, end_token_index)\n",
        "      :param Y_decoder - output decoder sequence (target language) (batch_size, sequence_length_in_the_target_lang + 1)\n",
        "      (ex. [word1_index, woprd2_index, end_token_index)\n",
        "      :param learning_rate - an optimizer learning rate\n",
        "    '''\n",
        "    optimizer = tf.keras.optimizers.RMSprop(learning_rate=learning_rate)\n",
        "    with tf.GradientTape() as tape:\n",
        "      _, loss, batch_loss, accuracy = self.__forward(X_encoder, X_decoder, Y_decoder)\n",
        "      variables = self.encoder.trainable_variables + self.decoder.trainable_variables\n",
        "      gradients = tape.gradient(loss, variables)\n",
        "      optimizer.apply_gradients(zip(gradients, variables))\n",
        "    return batch_loss, accuracy\n",
        "\n",
        "  def __align_to_length(self, X, batch_size=32):\n",
        "    '''\n",
        "    Reorder dataset according the sample sequence lengths\n",
        "\n",
        "    It's known that the Bahdanau attention mechanism requires all encoder hidden states.\n",
        "    In general samples in the batch have different lengths, hence, they have different number of hidden states.\n",
        "    So, a new problem arises - how can we store a batch with the different row lengths (row is a vector of the encoder hidden states).\n",
        "    There are several ways to manage it. One of them can be transform the dataset so that each batch consists the\n",
        "    sequences with the same lengths.\n",
        "\n",
        "    :param X - dataset\n",
        "    :param batch_size - batch size\n",
        "\n",
        "    Ex.\n",
        "    An original dataset X\n",
        "    [\n",
        "      [1, 2, 3],\n",
        "      [4, 5, 6, 7],\n",
        "      [8, 9],\n",
        "      [10, 11, 12, 13],\n",
        "      [14, 15, 16],\n",
        "      [17, 18]\n",
        "    ]\n",
        "    batch_size = 2\n",
        "    A new dataset\n",
        "    [\n",
        "      [1, 2, 3],\n",
        "      [14, 15, 16],\n",
        "      [4, 5, 6, 7],\n",
        "      [10, 11, 12, 13],\n",
        "      [8, 9],\n",
        "      [17, 18]\n",
        "    ]\n",
        "    So, after splitting into batches, each batch will contain the sequences with the same lengths\n",
        "    '''\n",
        "    c = Counter([len(x[0]) for x in X])\n",
        "    X_new = []\n",
        "    for length, count in c.most_common():\n",
        "      if count >= batch_size:\n",
        "        batches_count = count//batch_size\n",
        "        X_new += list(filter(lambda x: len(x[0])==length, X))[:batches_count*batch_size]\n",
        "    return X_new\n",
        "\n",
        "  def __generate_batches(self, X, Y, batch_size=32):\n",
        "    '''\n",
        "     Batch generator.\n",
        "\n",
        "     Each batch is the number of tuple: (Encoder_input, Decoder_input, Decoder_output a.k.a. ground truth)  )\n",
        "     :param X - encoder and decoder inputs\n",
        "     :param Y - decoder output\n",
        "     :param batch_size - batch size\n",
        "    '''\n",
        "    X_encoder, X_decoder = zip(*X)\n",
        "    ds = list(zip(X_encoder, X_decoder, Y))\n",
        "    X_new = self.__align_to_length(ds, batch_size)\n",
        "    X_encoder, X_decoder, Y_decoder = zip(*X_new)\n",
        "    X_encoder, X_decoder, Y_decoder = list(X_encoder), list(X_decoder), list(Y_decoder)\n",
        "    batches_count = len(X_encoder) // batch_size\n",
        "    for i in range(batches_count):\n",
        "      lower_idx, upper_idx = i*batch_size, (i+1)*batch_size\n",
        "      yield np.array(X_encoder[lower_idx:upper_idx]), \\\n",
        "            np.array(X_decoder[lower_idx:upper_idx]), \\\n",
        "            np.array(Y_decoder[lower_idx:upper_idx])\n",
        "\n",
        "  def fit(self, X_encoder, X_decoder, Y_decoder, epoch=20, batch_size=32, train_size=0.8, learning_rate=0.001):\n",
        "    '''\n",
        "      Train network\n",
        "\n",
        "      :param X_encoder - input encoder sequence (source language) (batch_size, sequence_length_in_the_source_lang)\n",
        "      :param X_decoder - input decoder sequence (target language) (batch_size, sequence_length_in_the_target_lang + 2)\n",
        "      (ex. [start_token_index, word1_index, woprd2_index, end_token_index)\n",
        "      :param Y_decoder - output decoder sequence (target language) (batch_size, sequence_length_in_the_target_lang + 1)\n",
        "      :param epoch - the number of epochs\n",
        "      :param batch_size - batch size\n",
        "      :param train_size - train dataset size (0 <= train_size <= 1)\n",
        "      :param learning_rate - an optimizer learning rate\n",
        "    '''\n",
        "\n",
        "    # Split input and outputs into train and test. We need to combine two inputs (encoder and decoder)\n",
        "    X_train, X_test, Y_decoder_train, Y_decoder_test = train_test_split(list(zip(X_encoder, X_decoder)),\n",
        "                                                                        Y_decoder,\n",
        "                                                                        train_size=train_size)\n",
        "    # Align the train and test datasets according to the batch_size and sequences lengths\n",
        "    X_new_train = self.__align_to_length(X_train, batch_size)\n",
        "    X_new_test = self.__align_to_length(X_test, batch_size)\n",
        "\n",
        "    # Calculate some usefull values\n",
        "    total_train_batches = len(X_new_train) // batch_size\n",
        "    total_test_batches = len(X_new_test) // batch_size\n",
        "    train_ds_size = len(X_new_train)\n",
        "    test_ds_size = len(X_new_test)\n",
        "\n",
        "    # dictionary for saving the loss function and accuracy values\n",
        "    history = {\"train_loss\": [], \"train_accuracy\": [], \"test_loss\": [], \"test_accuracy\": []}\n",
        "\n",
        "    print(f\"Train dataset: {total_train_batches} batches, {train_ds_size} samples\")\n",
        "    print(f\"Test dataset: {total_test_batches} batches, {test_ds_size} samples\")\n",
        "    print(f\"{'='*10}\")\n",
        "\n",
        "    # Iterate over epochs\n",
        "    for ep in range(1, epoch+1):\n",
        "      print(f\"Epoch {ep}/{epoch}\")\n",
        "\n",
        "      # Train phase\n",
        "      total_loss = 0\n",
        "      accuracy = np.array([])\n",
        "      # Iterate over batches\n",
        "      for batch, (X_batch_encoder,\n",
        "                  X_batch_decoder,\n",
        "                  Y_batch_decoder) in tqdm(enumerate(self.__generate_batches(X_train,\n",
        "                                                                             Y_decoder_train,\n",
        "                                                                             batch_size=batch_size)),\n",
        "                                           desc=f\"Train dataset\"):\n",
        "        # Propagate the batch through network and modify weights\n",
        "        batch_loss, batch_accuracy = self.__train_step(X_batch_encoder, X_batch_decoder, Y_batch_decoder, learning_rate)\n",
        "\n",
        "        total_loss += batch_loss\n",
        "        accuracy = np.hstack((accuracy, batch_accuracy))\n",
        "\n",
        "      total_loss /= batch_size\n",
        "      history[\"train_loss\"].append(total_loss.numpy())\n",
        "      history[\"train_accuracy\"].append(np.mean(accuracy))\n",
        "      print(f\"Loss on train: {total_loss.numpy():.4f} Accuracy on train: {np.mean(accuracy):.4f}\")\n",
        "\n",
        "      # Test phase\n",
        "      total_loss = 0\n",
        "      accuracy = np.array([])\n",
        "\n",
        "      # Iterate over batches. We don't need decoder input here because we won't use teacher forcing\n",
        "      for batch, (X_batch_encoder,\n",
        "                  _,\n",
        "                  Y_batch_decoder) in tqdm(enumerate(self.__generate_batches(X_test,\n",
        "                                                                             Y_decoder_test,\n",
        "                                                                             batch_size=batch_size)),\n",
        "                                           desc=f\"Test dataset\"):\n",
        "        _, _, batch_loss, batch_accuracy = self.__forward(X_batch_encoder,\n",
        "                                                          None,\n",
        "                                                          Y_batch_decoder)\n",
        "        total_loss += batch_loss\n",
        "        accuracy = np.hstack((accuracy, batch_accuracy))\n",
        "\n",
        "      total_loss /= batch_size\n",
        "      history[\"test_loss\"].append(total_loss.numpy())\n",
        "      history[\"test_accuracy\"].append(np.mean(accuracy))\n",
        "      print(f\"Loss on test: {total_loss.numpy():.4f} Accuracy on test: {np.mean(accuracy):.4f}\")\n",
        "    return history\n",
        "\n",
        "  def predict(self, X_encoder):\n",
        "    '''\n",
        "    Make prediction\n",
        "\n",
        "    :param X_encoder - input encoder sequence (source language) (batch_size, sequence_length_in_the_source_lang)\n",
        "    '''\n",
        "    out, _, _, _ = self.__forward(X_encoder)\n",
        "    return out"
      ]
    },
    {
      "cell_type": "code",
      "execution_count": 45,
      "metadata": {
        "id": "R7HQ2-Sqlpye"
      },
      "outputs": [],
      "source": [
        "embedding_dim = 64\n",
        "lstm_hidden_units = 64"
      ]
    },
    {
      "cell_type": "code",
      "execution_count": 49,
      "metadata": {
        "id": "Jn12K0-qgtY0"
      },
      "outputs": [],
      "source": [
        "model = Seq2SeqBahdanauAttention(input_vocab=input_vocab,\n",
        "                                 output_vocab=output_vocab,\n",
        "                                 encoder_embd_dim=embedding_dim,\n",
        "                                 decoder_embd_dim=embedding_dim,\n",
        "                                 encoder_lstm_units=lstm_hidden_units,\n",
        "                                 decoder_lstm_units=lstm_hidden_units,\n",
        "                                 max_output_length=decoder_vec.max_length,\n",
        "                                 start_token_index=decoder_vec.vocabulary.index(START_TOKEN),\n",
        "                                 end_token_index=decoder_vec.vocabulary.index(END_TOKEN))"
      ]
    },
    {
      "cell_type": "code",
      "execution_count": 50,
      "metadata": {
        "colab": {
          "base_uri": "https://localhost:8080/"
        },
        "id": "RCJ4QCjxGVnB",
        "outputId": "79f423c1-2dde-43d5-95bc-c06e61826bd9"
      },
      "outputs": [
        {
          "output_type": "stream",
          "name": "stdout",
          "text": [
            "Train dataset: 124 batches, 3968 samples\n",
            "Test dataset: 31 batches, 992 samples\n",
            "==========\n",
            "Epoch 1/30\n"
          ]
        },
        {
          "output_type": "stream",
          "name": "stderr",
          "text": [
            "Train dataset: 124it [00:37,  3.34it/s]\n"
          ]
        },
        {
          "output_type": "stream",
          "name": "stdout",
          "text": [
            "Loss on train: 1.5714 Accuracy on train: 0.3332\n"
          ]
        },
        {
          "output_type": "stream",
          "name": "stderr",
          "text": [
            "Test dataset: 31it [00:05,  6.06it/s]\n"
          ]
        },
        {
          "output_type": "stream",
          "name": "stdout",
          "text": [
            "Loss on test: 0.4613 Accuracy on test: 0.3464\n",
            "Epoch 2/30\n"
          ]
        },
        {
          "output_type": "stream",
          "name": "stderr",
          "text": [
            "Train dataset: 124it [00:48,  2.57it/s]\n"
          ]
        },
        {
          "output_type": "stream",
          "name": "stdout",
          "text": [
            "Loss on train: 1.2400 Accuracy on train: 0.4349\n"
          ]
        },
        {
          "output_type": "stream",
          "name": "stderr",
          "text": [
            "Test dataset: 31it [00:04,  6.21it/s]\n"
          ]
        },
        {
          "output_type": "stream",
          "name": "stdout",
          "text": [
            "Loss on test: 0.4369 Accuracy on test: 0.3701\n",
            "Epoch 3/30\n"
          ]
        },
        {
          "output_type": "stream",
          "name": "stderr",
          "text": [
            "Train dataset: 124it [00:37,  3.27it/s]\n"
          ]
        },
        {
          "output_type": "stream",
          "name": "stdout",
          "text": [
            "Loss on train: 1.1293 Accuracy on train: 0.4537\n"
          ]
        },
        {
          "output_type": "stream",
          "name": "stderr",
          "text": [
            "Test dataset: 31it [00:05,  6.06it/s]\n"
          ]
        },
        {
          "output_type": "stream",
          "name": "stdout",
          "text": [
            "Loss on test: 0.4396 Accuracy on test: 0.3818\n",
            "Epoch 4/30\n"
          ]
        },
        {
          "output_type": "stream",
          "name": "stderr",
          "text": [
            "Train dataset: 124it [00:50,  2.47it/s]\n"
          ]
        },
        {
          "output_type": "stream",
          "name": "stdout",
          "text": [
            "Loss on train: 1.0559 Accuracy on train: 0.4664\n"
          ]
        },
        {
          "output_type": "stream",
          "name": "stderr",
          "text": [
            "Test dataset: 31it [00:07,  4.17it/s]\n"
          ]
        },
        {
          "output_type": "stream",
          "name": "stdout",
          "text": [
            "Loss on test: 0.4245 Accuracy on test: 0.3905\n",
            "Epoch 5/30\n"
          ]
        },
        {
          "output_type": "stream",
          "name": "stderr",
          "text": [
            "Train dataset: 124it [00:49,  2.53it/s]\n"
          ]
        },
        {
          "output_type": "stream",
          "name": "stdout",
          "text": [
            "Loss on train: 1.0046 Accuracy on train: 0.4752\n"
          ]
        },
        {
          "output_type": "stream",
          "name": "stderr",
          "text": [
            "Test dataset: 31it [00:07,  4.23it/s]\n"
          ]
        },
        {
          "output_type": "stream",
          "name": "stdout",
          "text": [
            "Loss on test: 0.4596 Accuracy on test: 0.3962\n",
            "Epoch 6/30\n"
          ]
        },
        {
          "output_type": "stream",
          "name": "stderr",
          "text": [
            "Train dataset: 124it [00:56,  2.21it/s]\n"
          ]
        },
        {
          "output_type": "stream",
          "name": "stdout",
          "text": [
            "Loss on train: 0.9711 Accuracy on train: 0.4809\n"
          ]
        },
        {
          "output_type": "stream",
          "name": "stderr",
          "text": [
            "Test dataset: 31it [00:07,  4.05it/s]\n"
          ]
        },
        {
          "output_type": "stream",
          "name": "stdout",
          "text": [
            "Loss on test: 0.4720 Accuracy on test: 0.4004\n",
            "Epoch 7/30\n"
          ]
        },
        {
          "output_type": "stream",
          "name": "stderr",
          "text": [
            "Train dataset: 124it [00:51,  2.40it/s]\n"
          ]
        },
        {
          "output_type": "stream",
          "name": "stdout",
          "text": [
            "Loss on train: 0.9493 Accuracy on train: 0.4857\n"
          ]
        },
        {
          "output_type": "stream",
          "name": "stderr",
          "text": [
            "Test dataset: 31it [00:08,  3.69it/s]\n"
          ]
        },
        {
          "output_type": "stream",
          "name": "stdout",
          "text": [
            "Loss on test: 0.4441 Accuracy on test: 0.4042\n",
            "Epoch 8/30\n"
          ]
        },
        {
          "output_type": "stream",
          "name": "stderr",
          "text": [
            "Train dataset: 124it [00:47,  2.60it/s]\n"
          ]
        },
        {
          "output_type": "stream",
          "name": "stdout",
          "text": [
            "Loss on train: 0.9214 Accuracy on train: 0.4901\n"
          ]
        },
        {
          "output_type": "stream",
          "name": "stderr",
          "text": [
            "Test dataset: 31it [00:08,  3.71it/s]\n"
          ]
        },
        {
          "output_type": "stream",
          "name": "stdout",
          "text": [
            "Loss on test: 0.4421 Accuracy on test: 0.4077\n",
            "Epoch 9/30\n"
          ]
        },
        {
          "output_type": "stream",
          "name": "stderr",
          "text": [
            "Train dataset: 124it [00:49,  2.51it/s]\n"
          ]
        },
        {
          "output_type": "stream",
          "name": "stdout",
          "text": [
            "Loss on train: 0.9014 Accuracy on train: 0.4941\n"
          ]
        },
        {
          "output_type": "stream",
          "name": "stderr",
          "text": [
            "Test dataset: 31it [00:08,  3.68it/s]\n"
          ]
        },
        {
          "output_type": "stream",
          "name": "stdout",
          "text": [
            "Loss on test: 0.4302 Accuracy on test: 0.4109\n",
            "Epoch 10/30\n"
          ]
        },
        {
          "output_type": "stream",
          "name": "stderr",
          "text": [
            "Train dataset: 124it [00:57,  2.15it/s]\n"
          ]
        },
        {
          "output_type": "stream",
          "name": "stdout",
          "text": [
            "Loss on train: 0.8950 Accuracy on train: 0.4978\n"
          ]
        },
        {
          "output_type": "stream",
          "name": "stderr",
          "text": [
            "Test dataset: 31it [00:07,  4.28it/s]\n"
          ]
        },
        {
          "output_type": "stream",
          "name": "stdout",
          "text": [
            "Loss on test: 0.4381 Accuracy on test: 0.4134\n",
            "Epoch 11/30\n"
          ]
        },
        {
          "output_type": "stream",
          "name": "stderr",
          "text": [
            "Train dataset: 124it [00:52,  2.36it/s]\n"
          ]
        },
        {
          "output_type": "stream",
          "name": "stdout",
          "text": [
            "Loss on train: 0.8805 Accuracy on train: 0.5006\n"
          ]
        },
        {
          "output_type": "stream",
          "name": "stderr",
          "text": [
            "Test dataset: 31it [00:05,  5.30it/s]\n"
          ]
        },
        {
          "output_type": "stream",
          "name": "stdout",
          "text": [
            "Loss on test: 0.4408 Accuracy on test: 0.4158\n",
            "Epoch 12/30\n"
          ]
        },
        {
          "output_type": "stream",
          "name": "stderr",
          "text": [
            "Train dataset: 124it [00:50,  2.45it/s]\n"
          ]
        },
        {
          "output_type": "stream",
          "name": "stdout",
          "text": [
            "Loss on train: 0.8685 Accuracy on train: 0.5034\n"
          ]
        },
        {
          "output_type": "stream",
          "name": "stderr",
          "text": [
            "Test dataset: 31it [00:08,  3.86it/s]\n"
          ]
        },
        {
          "output_type": "stream",
          "name": "stdout",
          "text": [
            "Loss on test: 0.4733 Accuracy on test: 0.4176\n",
            "Epoch 13/30\n"
          ]
        },
        {
          "output_type": "stream",
          "name": "stderr",
          "text": [
            "Train dataset: 124it [00:57,  2.15it/s]\n"
          ]
        },
        {
          "output_type": "stream",
          "name": "stdout",
          "text": [
            "Loss on train: 0.8700 Accuracy on train: 0.5052\n"
          ]
        },
        {
          "output_type": "stream",
          "name": "stderr",
          "text": [
            "Test dataset: 31it [00:10,  3.00it/s]\n"
          ]
        },
        {
          "output_type": "stream",
          "name": "stdout",
          "text": [
            "Loss on test: 0.4564 Accuracy on test: 0.4191\n",
            "Epoch 14/30\n"
          ]
        },
        {
          "output_type": "stream",
          "name": "stderr",
          "text": [
            "Train dataset: 124it [00:48,  2.56it/s]\n"
          ]
        },
        {
          "output_type": "stream",
          "name": "stdout",
          "text": [
            "Loss on train: 0.8550 Accuracy on train: 0.5068\n"
          ]
        },
        {
          "output_type": "stream",
          "name": "stderr",
          "text": [
            "Test dataset: 31it [00:09,  3.32it/s]\n"
          ]
        },
        {
          "output_type": "stream",
          "name": "stdout",
          "text": [
            "Loss on test: 0.4558 Accuracy on test: 0.4204\n",
            "Epoch 15/30\n"
          ]
        },
        {
          "output_type": "stream",
          "name": "stderr",
          "text": [
            "Train dataset: 124it [00:39,  3.13it/s]\n"
          ]
        },
        {
          "output_type": "stream",
          "name": "stdout",
          "text": [
            "Loss on train: 0.8437 Accuracy on train: 0.5085\n"
          ]
        },
        {
          "output_type": "stream",
          "name": "stderr",
          "text": [
            "Test dataset: 31it [00:06,  4.58it/s]\n"
          ]
        },
        {
          "output_type": "stream",
          "name": "stdout",
          "text": [
            "Loss on test: 0.4639 Accuracy on test: 0.4214\n",
            "Epoch 16/30\n"
          ]
        },
        {
          "output_type": "stream",
          "name": "stderr",
          "text": [
            "Train dataset: 124it [00:43,  2.84it/s]\n"
          ]
        },
        {
          "output_type": "stream",
          "name": "stdout",
          "text": [
            "Loss on train: 0.8366 Accuracy on train: 0.5094\n"
          ]
        },
        {
          "output_type": "stream",
          "name": "stderr",
          "text": [
            "Test dataset: 31it [00:06,  5.01it/s]\n"
          ]
        },
        {
          "output_type": "stream",
          "name": "stdout",
          "text": [
            "Loss on test: 0.4513 Accuracy on test: 0.4224\n",
            "Epoch 17/30\n"
          ]
        },
        {
          "output_type": "stream",
          "name": "stderr",
          "text": [
            "Train dataset: 124it [00:54,  2.29it/s]\n"
          ]
        },
        {
          "output_type": "stream",
          "name": "stdout",
          "text": [
            "Loss on train: 0.8243 Accuracy on train: 0.5109\n"
          ]
        },
        {
          "output_type": "stream",
          "name": "stderr",
          "text": [
            "Test dataset: 31it [00:05,  5.42it/s]\n"
          ]
        },
        {
          "output_type": "stream",
          "name": "stdout",
          "text": [
            "Loss on test: 0.4555 Accuracy on test: 0.4237\n",
            "Epoch 18/30\n"
          ]
        },
        {
          "output_type": "stream",
          "name": "stderr",
          "text": [
            "Train dataset: 124it [00:45,  2.71it/s]\n"
          ]
        },
        {
          "output_type": "stream",
          "name": "stdout",
          "text": [
            "Loss on train: 0.8200 Accuracy on train: 0.5124\n"
          ]
        },
        {
          "output_type": "stream",
          "name": "stderr",
          "text": [
            "Test dataset: 31it [00:06,  4.79it/s]\n"
          ]
        },
        {
          "output_type": "stream",
          "name": "stdout",
          "text": [
            "Loss on test: 0.4590 Accuracy on test: 0.4249\n",
            "Epoch 19/30\n"
          ]
        },
        {
          "output_type": "stream",
          "name": "stderr",
          "text": [
            "Train dataset: 124it [00:40,  3.07it/s]\n"
          ]
        },
        {
          "output_type": "stream",
          "name": "stdout",
          "text": [
            "Loss on train: 0.8130 Accuracy on train: 0.5138\n"
          ]
        },
        {
          "output_type": "stream",
          "name": "stderr",
          "text": [
            "Test dataset: 31it [00:06,  4.94it/s]\n"
          ]
        },
        {
          "output_type": "stream",
          "name": "stdout",
          "text": [
            "Loss on test: 0.4594 Accuracy on test: 0.4260\n",
            "Epoch 20/30\n"
          ]
        },
        {
          "output_type": "stream",
          "name": "stderr",
          "text": [
            "Train dataset: 124it [00:35,  3.52it/s]\n"
          ]
        },
        {
          "output_type": "stream",
          "name": "stdout",
          "text": [
            "Loss on train: 0.8122 Accuracy on train: 0.5151\n"
          ]
        },
        {
          "output_type": "stream",
          "name": "stderr",
          "text": [
            "Test dataset: 31it [00:06,  5.06it/s]\n"
          ]
        },
        {
          "output_type": "stream",
          "name": "stdout",
          "text": [
            "Loss on test: 0.4758 Accuracy on test: 0.4271\n",
            "Epoch 21/30\n"
          ]
        },
        {
          "output_type": "stream",
          "name": "stderr",
          "text": [
            "Train dataset: 124it [00:35,  3.47it/s]\n"
          ]
        },
        {
          "output_type": "stream",
          "name": "stdout",
          "text": [
            "Loss on train: 0.8015 Accuracy on train: 0.5163\n"
          ]
        },
        {
          "output_type": "stream",
          "name": "stderr",
          "text": [
            "Test dataset: 31it [00:07,  4.07it/s]\n"
          ]
        },
        {
          "output_type": "stream",
          "name": "stdout",
          "text": [
            "Loss on test: 0.4594 Accuracy on test: 0.4279\n",
            "Epoch 22/30\n"
          ]
        },
        {
          "output_type": "stream",
          "name": "stderr",
          "text": [
            "Train dataset: 124it [00:35,  3.50it/s]\n"
          ]
        },
        {
          "output_type": "stream",
          "name": "stdout",
          "text": [
            "Loss on train: 0.8023 Accuracy on train: 0.5172\n"
          ]
        },
        {
          "output_type": "stream",
          "name": "stderr",
          "text": [
            "Test dataset: 31it [00:06,  4.78it/s]\n"
          ]
        },
        {
          "output_type": "stream",
          "name": "stdout",
          "text": [
            "Loss on test: 0.4509 Accuracy on test: 0.4287\n",
            "Epoch 23/30\n"
          ]
        },
        {
          "output_type": "stream",
          "name": "stderr",
          "text": [
            "Train dataset: 124it [00:55,  2.25it/s]\n"
          ]
        },
        {
          "output_type": "stream",
          "name": "stdout",
          "text": [
            "Loss on train: 0.8062 Accuracy on train: 0.5182\n"
          ]
        },
        {
          "output_type": "stream",
          "name": "stderr",
          "text": [
            "Test dataset: 31it [00:07,  4.29it/s]\n"
          ]
        },
        {
          "output_type": "stream",
          "name": "stdout",
          "text": [
            "Loss on test: 0.4650 Accuracy on test: 0.4295\n",
            "Epoch 24/30\n"
          ]
        },
        {
          "output_type": "stream",
          "name": "stderr",
          "text": [
            "Train dataset: 124it [00:40,  3.09it/s]\n"
          ]
        },
        {
          "output_type": "stream",
          "name": "stdout",
          "text": [
            "Loss on train: 0.8055 Accuracy on train: 0.5190\n"
          ]
        },
        {
          "output_type": "stream",
          "name": "stderr",
          "text": [
            "Test dataset: 31it [00:05,  6.16it/s]\n"
          ]
        },
        {
          "output_type": "stream",
          "name": "stdout",
          "text": [
            "Loss on test: 0.4545 Accuracy on test: 0.4301\n",
            "Epoch 25/30\n"
          ]
        },
        {
          "output_type": "stream",
          "name": "stderr",
          "text": [
            "Train dataset: 124it [00:41,  2.98it/s]\n"
          ]
        },
        {
          "output_type": "stream",
          "name": "stdout",
          "text": [
            "Loss on train: 0.8014 Accuracy on train: 0.5198\n"
          ]
        },
        {
          "output_type": "stream",
          "name": "stderr",
          "text": [
            "Test dataset: 31it [00:05,  6.03it/s]\n"
          ]
        },
        {
          "output_type": "stream",
          "name": "stdout",
          "text": [
            "Loss on test: 0.4782 Accuracy on test: 0.4307\n",
            "Epoch 26/30\n"
          ]
        },
        {
          "output_type": "stream",
          "name": "stderr",
          "text": [
            "Train dataset: 124it [00:48,  2.56it/s]\n"
          ]
        },
        {
          "output_type": "stream",
          "name": "stdout",
          "text": [
            "Loss on train: 0.8098 Accuracy on train: 0.5203\n"
          ]
        },
        {
          "output_type": "stream",
          "name": "stderr",
          "text": [
            "Test dataset: 31it [00:09,  3.17it/s]\n"
          ]
        },
        {
          "output_type": "stream",
          "name": "stdout",
          "text": [
            "Loss on test: 0.4801 Accuracy on test: 0.4311\n",
            "Epoch 27/30\n"
          ]
        },
        {
          "output_type": "stream",
          "name": "stderr",
          "text": [
            "Train dataset: 124it [00:51,  2.39it/s]\n"
          ]
        },
        {
          "output_type": "stream",
          "name": "stdout",
          "text": [
            "Loss on train: 0.8159 Accuracy on train: 0.5208\n"
          ]
        },
        {
          "output_type": "stream",
          "name": "stderr",
          "text": [
            "Test dataset: 31it [00:07,  3.95it/s]\n"
          ]
        },
        {
          "output_type": "stream",
          "name": "stdout",
          "text": [
            "Loss on test: 0.4742 Accuracy on test: 0.4314\n",
            "Epoch 28/30\n"
          ]
        },
        {
          "output_type": "stream",
          "name": "stderr",
          "text": [
            "Train dataset: 124it [00:47,  2.60it/s]\n"
          ]
        },
        {
          "output_type": "stream",
          "name": "stdout",
          "text": [
            "Loss on train: 0.8255 Accuracy on train: 0.5211\n"
          ]
        },
        {
          "output_type": "stream",
          "name": "stderr",
          "text": [
            "Test dataset: 31it [00:05,  6.17it/s]\n"
          ]
        },
        {
          "output_type": "stream",
          "name": "stdout",
          "text": [
            "Loss on test: 0.4865 Accuracy on test: 0.4316\n",
            "Epoch 29/30\n"
          ]
        },
        {
          "output_type": "stream",
          "name": "stderr",
          "text": [
            "Train dataset: 124it [00:41,  2.97it/s]\n"
          ]
        },
        {
          "output_type": "stream",
          "name": "stdout",
          "text": [
            "Loss on train: 0.8104 Accuracy on train: 0.5214\n"
          ]
        },
        {
          "output_type": "stream",
          "name": "stderr",
          "text": [
            "Test dataset: 31it [00:08,  3.57it/s]\n"
          ]
        },
        {
          "output_type": "stream",
          "name": "stdout",
          "text": [
            "Loss on test: 0.4935 Accuracy on test: 0.4320\n",
            "Epoch 30/30\n"
          ]
        },
        {
          "output_type": "stream",
          "name": "stderr",
          "text": [
            "Train dataset: 124it [00:57,  2.16it/s]\n"
          ]
        },
        {
          "output_type": "stream",
          "name": "stdout",
          "text": [
            "Loss on train: 0.8028 Accuracy on train: 0.5219\n"
          ]
        },
        {
          "output_type": "stream",
          "name": "stderr",
          "text": [
            "Test dataset: 31it [00:06,  4.74it/s]"
          ]
        },
        {
          "output_type": "stream",
          "name": "stdout",
          "text": [
            "Loss on test: 0.4983 Accuracy on test: 0.4323\n"
          ]
        },
        {
          "output_type": "stream",
          "name": "stderr",
          "text": [
            "\n"
          ]
        }
      ],
      "source": [
        "history = model.fit(X_encoder, X_decoder, Y_decoder, epoch=30, batch_size=32, train_size=0.8, learning_rate=0.01)"
      ]
    },
    {
      "cell_type": "code",
      "source": [
        "# with open(base_path + 'Data/machine_translation_bahdanau_attention_history.pickle', 'wb') as f:\n",
        "#     pickle.dump(history, f)"
      ],
      "metadata": {
        "id": "e1mQ2TQbWItn"
      },
      "execution_count": null,
      "outputs": []
    },
    {
      "cell_type": "code",
      "source": [
        "# with open(base_path + 'Data/machine_translation_bahdanau_attention_history.pickle', 'rb') as f:\n",
        "#     history = pickle.load(f)"
      ],
      "metadata": {
        "id": "W_TqkLyyDfgF"
      },
      "execution_count": 17,
      "outputs": []
    },
    {
      "cell_type": "code",
      "source": [
        "df = pd.DataFrame(data=history)\n",
        "# Plot the learning curves (the loss function and the accuracy metric)\n",
        "# which calculated on the training and test datasets\n",
        "_, axs = plt.subplots(1, 2, figsize=(10, 5))\n",
        "sns.lineplot(data=df[['train_loss', 'test_loss']], ax=axs[0])\n",
        "sns.lineplot(data=df[['train_accuracy', 'test_accuracy']], ax=axs[1])\n",
        "axs[0].set_title('Loss function')\n",
        "axs[1].set_title('Accuracy')\n",
        "plt.show()"
      ],
      "metadata": {
        "colab": {
          "base_uri": "https://localhost:8080/",
          "height": 468
        },
        "id": "BLfI5X5UF8rX",
        "outputId": "35ab3c5d-23ee-425c-d905-7d0c84b9dcb8"
      },
      "execution_count": 51,
      "outputs": [
        {
          "output_type": "display_data",
          "data": {
            "text/plain": [
              "<Figure size 1000x500 with 2 Axes>"
            ],
            "image/png": "[encoded data removed]"
          },
          "metadata": {}
        }
      ]
    }
  ],
  "metadata": {
    "colab": {
      "provenance": [],
      "authorship_tag": "ABX9TyNog5C/UhcveJjRE7LtG/Fk",
      "include_colab_link": true
    },
    "kernelspec": {
      "display_name": "Python 3",
      "name": "python3"
    },
    "language_info": {
      "name": "python"
    }
  },
  "nbformat": 4,
  "nbformat_minor": 0
}