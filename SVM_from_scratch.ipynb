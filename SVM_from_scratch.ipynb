{
  "cells": [
    {
      "cell_type": "markdown",
      "metadata": {
        "id": "view-in-github",
        "colab_type": "text"
      },
      "source": [
        "<a href=\"https://colab.research.google.com/github/aakhterov/ML_algorithms_from_scratch/blob/master/SVM_from_scratch.ipynb\" target=\"_parent\"><img src=\"https://colab.research.google.com/assets/colab-badge.svg\" alt=\"Open In Colab\"/></a>"
      ]
    },
    {
      "cell_type": "code",
      "execution_count": null,
      "metadata": {
        "id": "_Fcbr5LyzBhA"
      },
      "outputs": [],
      "source": [
        "\"\"\"\n",
        "\n",
        "Implematation of SVM algorithm with linear kernel function\n",
        "\n",
        "\"\"\""
      ]
    },
    {
      "cell_type": "code",
      "execution_count": null,
      "metadata": {
        "id": "v3W1aLpZzBhC"
      },
      "outputs": [],
      "source": [
        "import numpy as np\n",
        "import seaborn as sns\n",
        "import matplotlib.pyplot as plt"
      ]
    },
    {
      "cell_type": "markdown",
      "metadata": {
        "id": "aoFLtOhBzBhE"
      },
      "source": [
        "#### Note for gradient descend\n",
        "<p> Linear kernel: $ \\hat{y_i} = w^Tx_i + b $ </p>\n",
        "<p> Loss function - Hinge Loss: $ L(y_i, \\hat{y_i})=\\max(0,1-y_i\\hat{y_i}) $ </p>\n",
        "<p> Cost function: $ J(y, \\hat{y})=\\sum_{i=1}^{n} L(y_i, \\hat{y_i}) + \\gamma\\|w\\|^2  $ </p>\n",
        "<p>\n",
        "$$\n",
        "W = W - \\alpha \\frac{dJ}{dW}\n",
        "$$\n",
        "</p>\n",
        "<p>\n",
        "$$\n",
        "b = b - \\alpha \\frac{dJ}{db}\n",
        "$$\n",
        "</p>\n",
        "<p> If there is misclassification: $ dW=2\\gamma w - y_ix_i $ </p>\n",
        "<p> If there is no misclassification: $ dW=2\\gamma w $ </p>\n",
        "\n",
        "<p><b> In matrix form: </b></p>\n",
        "<div> X - input matrix (train set). Shape $ (n, m) $, $n$ - numnber of samples, $m$ - number of features </div>\n",
        "<div> y - ground truth. Shape $ (n,) $. $ y_i \\in {-1,1} $ </div>\n",
        "<div> W - weights. Shape $ (m, 1) $ </div>\n",
        "<div> b - bias. Shape $ (1, 1) $ </div>\n",
        "<div> $\\hat{y}=XW + b$ - prediction. Shape $ (n, 1) $ </div>\n",
        "<p>Example</p>\n",
        "<div>$ X = [[1,2], [3,4], [5,6], [7,8]] $</div>\n",
        "<div>$ y=[1, 1, -1, -1] $</div>\n",
        "<div>$ W \\in R^{2x1}, W=[[w_1], [w_2]] $</div>\n",
        "<div>$ \\hat{y}=[[1.5], [0.1], [-0.5], [-2]] $</div>\n",
        "<div>$ n=4, m=2 $</div>\n",
        "<div>Point 1 - right classification</div>\n",
        "<div>Point 2 - wrong classification</div>\n",
        "<div>Point 3 - right classification, but within margin ($ y_3\\hat{y_3} < 1 $)</div>\n",
        "<div>Point 4 - right classification</div>\n",
        "<div>$ dW \\in R^{2x1}, W=[[dw_1], [dw_2]] $</div>\n",
        "<p>\n",
        "$$\n",
        "dw_1 = (2\\gamma w_1) + (2\\gamma w_1 - 1\\cdot3) + (2\\gamma w_1 - (-1)\\cdot5) + (2\\gamma w_1) = n * 2\\gamma w_1 - (1\\cdot3) - (-1)\\cdot5\n",
        "$$\n",
        "$$\n",
        "dw_2 = (2\\gamma w_2) + (2\\gamma w_2 - 1\\cdot4) + (2\\gamma w_2 - (-1)\\cdot6) + (2\\gamma w_2) = n * 2\\gamma w_2 - (1\\cdot4) - (-1)\\cdot6\n",
        "$$\n",
        "</p>\n",
        "<p>\n",
        "If rewrite it in numpy:\n",
        "$$\n",
        "cond\\_misclass = (y\\cdot\\hat{y} < 1).ravel() - ([False, True, True, False]) - misclassification points\n",
        "$$\n",
        "$$\n",
        "C = 2 \\gamma W\n",
        "$$\n",
        "$$\n",
        "dW = -np.dot(X[cond_misclass]^T, y[cond_misclass]) + C \\cdot n\n",
        "$$\n",
        "</p>"
      ]
    },
    {
      "cell_type": "code",
      "execution_count": null,
      "metadata": {
        "id": "ifrUg7_czBhG"
      },
      "outputs": [],
      "source": [
        "class LinearSVM:\n",
        "\n",
        "    def __init__(self):\n",
        "        self.W = None\n",
        "        self.b = None\n",
        "\n",
        "    def __initialization(self, m_feature):\n",
        "        self.W = np.random.randn(m_feature, 1)\n",
        "        self.b = np.random.randn(1, 1)\n",
        "\n",
        "    def __evalute_kernel_function(self, X):\n",
        "        return np.dot(X, self.W) + self.b\n",
        "\n",
        "    def __evalute_hinge_loss(self, z):\n",
        "        return np.maximum(0, 1-z)\n",
        "\n",
        "    def __evalute_cost_function(self, y, y_hat, gamma):\n",
        "        return np.sum(self.__evalute_hinge_loss(y*y_hat)) + gamma*np.linalg.norm(self.W)\n",
        "\n",
        "    def fit(self, X, y, iterations=1000, learning_rate=0.001, gamma=None, show_cost_every_iter=100):\n",
        "        y = y.reshape(-1,1)\n",
        "        m_feature = X.shape[1]\n",
        "        n = X.shape[0]\n",
        "        self.__initialization(m_feature)\n",
        "\n",
        "        for i in range(1, iterations+1):\n",
        "            gamma_ = 1/i if gamma is None else gamma\n",
        "            y_hat = self.__evalute_kernel_function(X)\n",
        "            cost = self.__evalute_cost_function(y, y_hat, gamma_)\n",
        "            cond_misclass = (y*y_hat < 1).ravel()\n",
        "\n",
        "            C = 2*gamma_ * self.W\n",
        "            dW = -np.dot(X[cond_misclass].T, y[cond_misclass]) + C*n\n",
        "            db = -np.sum(y[cond_misclass])\n",
        "            self.W = self.W - learning_rate*dW\n",
        "            self.b = self.b - learning_rate*db\n",
        "\n",
        "            if i%show_cost_every_iter == 0:\n",
        "                print(f\"Iteration: {i}. Cost={cost}\")\n",
        "\n",
        "    def predict(self, X):\n",
        "        y_hat = self.__evalute_kernel_function(X)\n",
        "        return np.array(list(map(lambda x: 1 if x>=0 else -1, y_hat)))"
      ]
    },
    {
      "cell_type": "markdown",
      "metadata": {
        "id": "4ttyzLTzzBhI"
      },
      "source": [
        "### Testing on sintetic data"
      ]
    },
    {
      "cell_type": "code",
      "execution_count": null,
      "metadata": {
        "id": "dFZTINc1zBhI",
        "outputId": "95012599-db19-43a2-f215-9ef401258933"
      },
      "outputs": [
        {
          "name": "stdout",
          "output_type": "stream",
          "text": [
            "X.shape=(60, 2), y.shape=(60,)\n"
          ]
        }
      ],
      "source": [
        "N_per_class = 30\n",
        "x1 = 7*np.random.rand(N_per_class,1)\n",
        "x2 = 3 + 7*np.random.rand(N_per_class,1)\n",
        "y_class1 = 3*np.random.rand(N_per_class,1)\n",
        "y_class2 = 4 + 7*np.random.rand(N_per_class,1)\n",
        "x = np.vstack((x1, x2))\n",
        "y = np.vstack((y_class1, y_class2))\n",
        "X = np.hstack((x,y))\n",
        "y = np.hstack(([1 for _ in range(N_per_class)], [-1 for _ in range(N_per_class)]))\n",
        "print(f\"X.shape={X.shape}, y.shape={y.shape}\")"
      ]
    },
    {
      "cell_type": "code",
      "execution_count": null,
      "metadata": {
        "id": "KVBJ2NBfzBhJ",
        "outputId": "831b756a-a169-429d-bb0f-f24afd4bf2eb"
      },
      "outputs": [
        {
          "data": {
            "text/plain": [
              "<AxesSubplot:>"
            ]
          },
          "execution_count": 79,
          "metadata": {},
          "output_type": "execute_result"
        },
        {
          "data": {
            "image/png": "[encoded data removed]",
            "text/plain": [
              "<Figure size 720x576 with 1 Axes>"
            ]
          },
          "metadata": {
            "needs_background": "light"
          },
          "output_type": "display_data"
        }
      ],
      "source": [
        "fig, ax = plt.subplots(figsize=(10,8))\n",
        "sns.scatterplot(x=X[:,0], y=X[:,1], hue=y)"
      ]
    },
    {
      "cell_type": "code",
      "execution_count": null,
      "metadata": {
        "id": "wxtBHhz_zBhK"
      },
      "outputs": [],
      "source": [
        "from sklearn.model_selection import train_test_split\n",
        "from sklearn.metrics import accuracy_score"
      ]
    },
    {
      "cell_type": "code",
      "execution_count": null,
      "metadata": {
        "id": "f3UpItkCzBhK"
      },
      "outputs": [],
      "source": [
        "X_train, X_test, y_train, y_test = train_test_split(X, y, test_size=0.2)"
      ]
    },
    {
      "cell_type": "code",
      "execution_count": null,
      "metadata": {
        "id": "H4l7XOUxzBhL",
        "outputId": "e92b3656-f0d3-4a43-bd46-533bb02530c9"
      },
      "outputs": [
        {
          "name": "stdout",
          "output_type": "stream",
          "text": [
            "Iteration: 100. Cost=7.596280762397499\n",
            "Iteration: 200. Cost=4.2139346392151875\n",
            "Iteration: 300. Cost=2.606236126414688\n",
            "Iteration: 400. Cost=1.9733219364644352\n",
            "Iteration: 500. Cost=1.6257902428041289\n",
            "Iteration: 600. Cost=1.3424995985144312\n",
            "Iteration: 700. Cost=1.1011116450611662\n",
            "Iteration: 800. Cost=0.8501592670124523\n",
            "Iteration: 900. Cost=0.6807294872051108\n",
            "Iteration: 1000. Cost=0.5916885547822217\n",
            "Iteration: 1100. Cost=0.4241533727047499\n",
            "Iteration: 1200. Cost=0.34437872068686337\n",
            "Iteration: 1300. Cost=0.2909635858355725\n",
            "Iteration: 1400. Cost=0.2534759442792253\n",
            "Iteration: 1500. Cost=0.20669176559028715\n",
            "Iteration: 1600. Cost=0.17123937625363939\n",
            "Iteration: 1700. Cost=0.1377167738316224\n",
            "Iteration: 1800. Cost=0.100402105386091\n",
            "Iteration: 1900. Cost=0.06329025977998218\n",
            "Iteration: 2000. Cost=0.022590123242875824\n",
            "Iteration: 2100. Cost=0.01738439697687855\n",
            "Iteration: 2200. Cost=0.00046289577302295425\n",
            "Iteration: 2300. Cost=0.0004432487606976013\n",
            "Iteration: 2400. Cost=0.0004357562644190353\n",
            "Iteration: 2500. Cost=0.0004090005459801634\n",
            "Iteration: 2600. Cost=0.0003946412072953995\n",
            "Iteration: 2700. Cost=0.0003797140984396105\n",
            "Iteration: 2800. Cost=0.0003669324816083002\n",
            "Iteration: 2900. Cost=0.0003540797205327902\n",
            "Iteration: 3000. Cost=0.0003411647101443862\n"
          ]
        }
      ],
      "source": [
        "svm = LinearSVM()\n",
        "svm.fit(X_train, y_train, iterations=3000, learning_rate=0.001)"
      ]
    },
    {
      "cell_type": "code",
      "execution_count": null,
      "metadata": {
        "id": "hfzb99qGzBhM",
        "outputId": "f5012a94-0fc3-48c4-eb41-3220a842b43f"
      },
      "outputs": [
        {
          "name": "stdout",
          "output_type": "stream",
          "text": [
            "Accuracy= 1.0\n"
          ]
        }
      ],
      "source": [
        "y_hat = svm.predict(X_test)\n",
        "print(\"Accuracy=\", accuracy_score(y_test, y_hat))"
      ]
    },
    {
      "cell_type": "code",
      "execution_count": null,
      "metadata": {
        "id": "rXSYB2WAzBhM"
      },
      "outputs": [],
      "source": [
        "def boarder_line(X, W, b):\n",
        "    return -(W[0][0]*X + b[0][0])/W[1][0]\n",
        "def boarder_line_plus_one(X, W, b):\n",
        "    return -(W[0][0]*X + (b[0][0]+1))/W[1][0]\n",
        "def boarder_line_minus_one(X, W, b):\n",
        "    return -(W[0][0]*X + (b[0][0]-1))/W[1][0]"
      ]
    },
    {
      "cell_type": "code",
      "execution_count": null,
      "metadata": {
        "id": "ahwy4RMEzBhM",
        "outputId": "b49c9fcf-328b-4028-f4db-a569582a976d"
      },
      "outputs": [
        {
          "data": {
            "text/plain": [
              "<AxesSubplot:>"
            ]
          },
          "execution_count": 85,
          "metadata": {},
          "output_type": "execute_result"
        },
        {
          "data": {
            "image/png": "[encoded data removed]",
            "text/plain": [
              "<Figure size 720x576 with 1 Axes>"
            ]
          },
          "metadata": {
            "needs_background": "light"
          },
          "output_type": "display_data"
        }
      ],
      "source": [
        "fig, ax = plt.subplots(figsize=(10,8))\n",
        "sns.scatterplot(x=X[:,0], y=X[:,1], hue=y)\n",
        "sns.lineplot(x=X[:,0], y=boarder_line(X[:,0], svm.W, svm.b), c='blue')\n",
        "sns.lineplot(x=X[:,0], y=boarder_line_plus_one(X[:,0], svm.W, svm.b), c='blue', linestyle='--')\n",
        "sns.lineplot(x=X[:,0], y=boarder_line_minus_one(X[:,0], svm.W, svm.b), c='blue', linestyle='--')"
      ]
    },
    {
      "cell_type": "code",
      "execution_count": null,
      "metadata": {
        "id": "jXsmaY_mzBhN"
      },
      "outputs": [],
      "source": []
    },
    {
      "cell_type": "markdown",
      "metadata": {
        "id": "VWscCaHxzBhN"
      },
      "source": [
        "### Testing on real data (Breast cancer wisconsin (diagnostic) dataset)  "
      ]
    },
    {
      "cell_type": "code",
      "execution_count": null,
      "metadata": {
        "id": "pIB99wUmzBhO"
      },
      "outputs": [],
      "source": [
        "# Load data"
      ]
    },
    {
      "cell_type": "code",
      "execution_count": null,
      "metadata": {
        "id": "QL5nT-NpzBhO"
      },
      "outputs": [],
      "source": [
        "from sklearn.datasets import load_breast_cancer\n",
        "from sklearn.preprocessing import StandardScaler, MinMaxScaler\n",
        "breast_cancer = load_breast_cancer(as_frame=True)\n",
        "data_df = breast_cancer.data\n",
        "target_df = breast_cancer.target\n",
        "y = np.array(list(map(lambda x: 1 if x else -1, target_df.tolist())))"
      ]
    },
    {
      "cell_type": "code",
      "execution_count": null,
      "metadata": {
        "id": "uHqLf6DvzBhO"
      },
      "outputs": [],
      "source": [
        "# Data preprocessing: scaling"
      ]
    },
    {
      "cell_type": "code",
      "execution_count": null,
      "metadata": {
        "id": "pFATXSvAzBhP"
      },
      "outputs": [],
      "source": [
        "# data from this row looks like a normal distribution\n",
        "col_for_standard_scaler = ['mean radius', 'mean texture', 'mean perimeter', 'mean area',\n",
        "       'mean smoothness', 'mean compactness',\n",
        "       'mean concave points', 'mean symmetry', 'mean fractal dimension',\n",
        "       'texture error', 'smoothness error', 'compactness error', 'concavity error',\n",
        "       'concave points error', 'symmetry error',\n",
        "       'fractal dimension error', 'worst radius', 'worst texture',\n",
        "       'worst perimeter', 'worst area', 'worst smoothness',\n",
        "       'worst compactness', 'worst concave points',\n",
        "       'worst symmetry', 'worst fractal dimension']\n",
        "# data from this row doesn't look like a normal distribution\n",
        "col_for_maxmin_scaler = ['mean concavity', 'radius error', 'perimeter error', 'area error', 'worst concavity']"
      ]
    },
    {
      "cell_type": "code",
      "execution_count": null,
      "metadata": {
        "id": "h9UKWDP5zBhP"
      },
      "outputs": [],
      "source": [
        "std_scaler = StandardScaler()\n",
        "X = std_scaler.fit_transform(data_df.loc[:,col_for_standard_scaler])\n",
        "mm_scaler = MinMaxScaler()\n",
        "X = np.hstack((X, mm_scaler.fit_transform(data_df.loc[:,col_for_maxmin_scaler])))"
      ]
    },
    {
      "cell_type": "code",
      "execution_count": null,
      "metadata": {
        "id": "x-XkvuLHzBhP"
      },
      "outputs": [],
      "source": [
        "# Splitting data for training and testing sets"
      ]
    },
    {
      "cell_type": "code",
      "execution_count": null,
      "metadata": {
        "id": "biUyCB8HzBhP"
      },
      "outputs": [],
      "source": [
        "X_train, X_test, y_train, y_test = train_test_split(X, y, test_size=0.2)"
      ]
    },
    {
      "cell_type": "code",
      "execution_count": null,
      "metadata": {
        "id": "EUDkEo6yzBhQ"
      },
      "outputs": [],
      "source": [
        "# Checking for imbalance in sets"
      ]
    },
    {
      "cell_type": "code",
      "execution_count": null,
      "metadata": {
        "id": "RLwPeuCbzBhQ",
        "outputId": "19749031-5136-4d0b-dd54-4f0d4f8ecaa2"
      },
      "outputs": [
        {
          "name": "stdout",
          "output_type": "stream",
          "text": [
            "Number of samples per class in train set (array([-1,  1]), array([169, 286]))\n",
            "Number of samples per class in test set (array([-1,  1]), array([43, 71]))\n"
          ]
        }
      ],
      "source": [
        "unique_train = np.unique(y_train, return_counts=True)\n",
        "unique_test = np.unique(y_test, return_counts=True)\n",
        "print(\"Number of samples per class in train set\", unique_train)\n",
        "print(\"Number of samples per class in test set\", unique_test)"
      ]
    },
    {
      "cell_type": "code",
      "execution_count": null,
      "metadata": {
        "id": "d-WjTeMGzBhQ"
      },
      "outputs": [],
      "source": [
        "# Train and Test sets are imbalance"
      ]
    },
    {
      "cell_type": "code",
      "execution_count": null,
      "metadata": {
        "id": "qYx82XoezBhR"
      },
      "outputs": [],
      "source": [
        "# Calculate the difference between classes in test sets\n",
        "delta_in_test = unique_test[1][1] - unique_test[1][0]"
      ]
    },
    {
      "cell_type": "code",
      "execution_count": null,
      "metadata": {
        "id": "36RAgWdDzBhR",
        "outputId": "d8bbd895-1dec-445b-e113-d60b69bab60e"
      },
      "outputs": [
        {
          "name": "stdout",
          "output_type": "stream",
          "text": [
            "Shape of extended zero class (71, 31)\n"
          ]
        }
      ],
      "source": [
        "# Choose randomly from zero class delta_in_train samples and add them to train test\n",
        "a = np.c_[X_test, y_test]\n",
        "only_zero_class = a[(a[:,-1:]==-1).flatten()]\n",
        "number_samples = only_zero_class.shape[0]\n",
        "idx = np.random.choice(np.array(range(number_samples)), delta_in_test , replace=False)\n",
        "only_zero_class_extended = np.vstack((only_zero_class[idx], only_zero_class))\n",
        "print(\"Shape of extended zero class\", only_zero_class_extended.shape)"
      ]
    },
    {
      "cell_type": "code",
      "execution_count": null,
      "metadata": {
        "id": "J2p24lMJzBhS",
        "outputId": "747a1e5c-9549-4b38-bb8d-4fc235cd4956"
      },
      "outputs": [
        {
          "name": "stdout",
          "output_type": "stream",
          "text": [
            "Number of samples per class in test set (array([-1.,  1.]), array([71, 71]))\n"
          ]
        }
      ],
      "source": [
        "only_one_class = a[(a[:,-1:]==1).flatten()]\n",
        "all_classes = np.vstack((only_zero_class_extended, only_one_class))\n",
        "X_test, y_test = all_classes[:,:-1], all_classes[:,-1:]\n",
        "print(\"Number of samples per class in test set\", np.unique(y_test, return_counts=True))"
      ]
    },
    {
      "cell_type": "code",
      "execution_count": null,
      "metadata": {
        "id": "bpeRc6elzBhS"
      },
      "outputs": [],
      "source": [
        "# Test set now is balanced"
      ]
    },
    {
      "cell_type": "code",
      "execution_count": null,
      "metadata": {
        "id": "QBmVRmG8zBhT",
        "outputId": "8c9e4e1b-7a0c-4ce9-b0c5-74b80dde22ef"
      },
      "outputs": [
        {
          "name": "stdout",
          "output_type": "stream",
          "text": [
            "Iteration: 10000. Cost=14.334814798549733\n",
            "Iteration: 20000. Cost=11.639776024483588\n",
            "Iteration: 30000. Cost=11.127046959067787\n",
            "Iteration: 40000. Cost=10.378861749901345\n",
            "Iteration: 50000. Cost=9.6900718667606\n"
          ]
        }
      ],
      "source": [
        "svm = LinearSVM()\n",
        "svm.fit(X_train, y_train, iterations=50000, learning_rate=0.001, show_cost_every_iter=10000)"
      ]
    },
    {
      "cell_type": "code",
      "execution_count": null,
      "metadata": {
        "id": "-ZpXqJSGzBhT",
        "outputId": "c4cad993-4d6c-4653-d11b-92fc1adcdf19"
      },
      "outputs": [
        {
          "name": "stdout",
          "output_type": "stream",
          "text": [
            "Accuracy of current implementation = 0.9436619718309859\n"
          ]
        }
      ],
      "source": [
        "y_hat_test = svm.predict(X_test)\n",
        "print(\"Accuracy of current implementation =\", accuracy_score(y_test, y_hat_test))"
      ]
    },
    {
      "cell_type": "code",
      "execution_count": null,
      "metadata": {
        "id": "AU0UYC2OzBhU"
      },
      "outputs": [],
      "source": [
        "from sklearn.svm import SVC"
      ]
    },
    {
      "cell_type": "code",
      "execution_count": null,
      "metadata": {
        "id": "UdDjl56ZzBhU",
        "outputId": "0fa923e6-744a-4a05-8263-65b2f3164753"
      },
      "outputs": [
        {
          "name": "stdout",
          "output_type": "stream",
          "text": [
            "Accuracy of sklearn implementation = 0.9657534246575342\n"
          ]
        }
      ],
      "source": [
        "svc = SVC(gamma='auto', kernel='linear')\n",
        "svc.fit(X_train, y_train)\n",
        "y_hat_svc = svc.predict(X_test)\n",
        "print(\"Accuracy of sklearn implementation =\", accuracy_score(y_test, y_hat_svc))"
      ]
    },
    {
      "cell_type": "code",
      "execution_count": null,
      "metadata": {
        "id": "opmZ1Uz2zBhV"
      },
      "outputs": [],
      "source": []
    },
    {
      "cell_type": "code",
      "execution_count": null,
      "metadata": {
        "id": "Uz6dGA0AzBhV"
      },
      "outputs": [],
      "source": []
    }
  ],
  "metadata": {
    "kernelspec": {
      "display_name": "Python 3",
      "language": "python",
      "name": "python3"
    },
    "language_info": {
      "codemirror_mode": {
        "name": "ipython",
        "version": 3
      },
      "file_extension": ".py",
      "mimetype": "text/x-python",
      "name": "python",
      "nbconvert_exporter": "python",
      "pygments_lexer": "ipython3",
      "version": "3.8.10"
    },
    "colab": {
      "provenance": [],
      "include_colab_link": true
    }
  },
  "nbformat": 4,
  "nbformat_minor": 0
}