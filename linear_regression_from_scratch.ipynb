{
 "cells": [
  {
   "cell_type": "code",
   "execution_count": 78,
   "metadata": {},
   "outputs": [],
   "source": [
    "import numpy as np\n",
    "import seaborn as sns\n",
    "import matplotlib.pyplot as plt"
   ]
  },
  {
   "cell_type": "code",
   "execution_count": 89,
   "metadata": {},
   "outputs": [],
   "source": [
    "class LinearRegression:\n",
    "    \n",
    "    def __init__(self):\n",
    "        self.W = None\n",
    "        self.b = None\n",
    "        \n",
    "    def __initialization(self, m_features):\n",
    "        self.W = np.random.randn(m_features, 1)\n",
    "        self.b = np.random.randn(1, 1)        \n",
    "    \n",
    "    def __mse(self, y, y_hat):\n",
    "        n = y.shape[0]\n",
    "        return np.sum((y - y_hat)**2)/n    \n",
    "    \n",
    "    def fit(self, X, y, learning_rate=0.01, steps=1000):\n",
    "        n, m_features = X.shape\n",
    "        self.__initialization(m_features)\n",
    "        for i in range(steps):\n",
    "            y_hat = self.predict(X) \n",
    "            if i%100==0:\n",
    "                print(f\"Step {i}. MSE={self.__mse(y, y_hat)}\")\n",
    "            dW = (-2*np.dot(X.T, (y-y_hat))/n).reshape(m_features,-1)\n",
    "            db = -2*np.sum(y - y_hat)/n\n",
    "            self.W -= learning_rate*dW\n",
    "            self.b -= learning_rate*db\n",
    "    \n",
    "    def predict(self, X):\n",
    "        return (np.dot(X, self.W) + self.b).reshape(X.shape[0])"
   ]
  },
  {
   "cell_type": "markdown",
   "metadata": {},
   "source": [
    "### Sintetic data"
   ]
  },
  {
   "cell_type": "code",
   "execution_count": 73,
   "metadata": {},
   "outputs": [],
   "source": [
    "X = np.linspace(0, 10, 50)\n",
    "k, b = .5, 1 \n",
    "y = X*k + b + 2*np.random.rand(50)\n",
    "X = X.reshape(50,-1)"
   ]
  },
  {
   "cell_type": "code",
   "execution_count": 113,
   "metadata": {},
   "outputs": [
    {
     "name": "stdout",
     "output_type": "stream",
     "text": [
      "Step 0. MSE=175.77622783095777\n",
      "Step 100. MSE=0.3360370672003226\n",
      "Step 200. MSE=0.32249420625013564\n",
      "Step 300. MSE=0.3175639153844658\n",
      "Step 400. MSE=0.31576903850361204\n",
      "Step 500. MSE=0.3151156119401094\n",
      "Step 600. MSE=0.3148777314044328\n",
      "Step 700. MSE=0.3147911307787246\n",
      "Step 800. MSE=0.31475960374204737\n",
      "Step 900. MSE=0.31474812629562576\n",
      "Step 1000. MSE=0.31474394792080057\n",
      "Step 1100. MSE=0.31474242677963926\n",
      "Step 1200. MSE=0.3147418730068139\n",
      "Step 1300. MSE=0.31474167140531234\n",
      "Step 1400. MSE=0.31474159801210194\n",
      "Step 1500. MSE=0.314741571293237\n",
      "Step 1600. MSE=0.31474156156620986\n",
      "Step 1700. MSE=0.3147415580250767\n",
      "Step 1800. MSE=0.31474155673592397\n",
      "Step 1900. MSE=0.3147415562666067\n"
     ]
    }
   ],
   "source": [
    "lr = LinearRegression()\n",
    "lr.fit(X, y, steps=2000)"
   ]
  },
  {
   "cell_type": "code",
   "execution_count": 114,
   "metadata": {},
   "outputs": [
    {
     "data": {
      "text/plain": [
       "<AxesSubplot:>"
      ]
     },
     "execution_count": 114,
     "metadata": {},
     "output_type": "execute_result"
    },
    {
     "data": {
      "image/png": "[encoded data removed]",
      "text/plain": [
       "<Figure size 720x576 with 1 Axes>"
      ]
     },
     "metadata": {
      "needs_background": "light"
     },
     "output_type": "display_data"
    }
   ],
   "source": [
    "fig, ax = plt.subplots(figsize=(10,8))\n",
    "sns.scatterplot(x=X[:,0], y=y, ax=ax)\n",
    "sns.lineplot(x=X[:,0], y=lr.predict(X), c='red', ax=ax)"
   ]
  },
  {
   "cell_type": "markdown",
   "metadata": {},
   "source": [
    "### Checking through a Closed-Form Solution"
   ]
  },
  {
   "cell_type": "markdown",
   "metadata": {},
   "source": [
    "$W=(X^{T}X)^{-1}X^{T}Y$ where X is extended input data X with column filled ones"
   ]
  },
  {
   "cell_type": "code",
   "execution_count": 115,
   "metadata": {},
   "outputs": [],
   "source": [
    "b = np.array([1 for _ in range(50)]).reshape(50,-1)\n",
    "X_ext = np.hstack((X, b))\n",
    "W = np.dot(np.dot(np.linalg.inv(np.dot(X_ext.T, X_ext)), X_ext.T), y)"
   ]
  },
  {
   "cell_type": "code",
   "execution_count": 116,
   "metadata": {},
   "outputs": [
    {
     "data": {
      "text/plain": [
       "array([0.48577892, 1.99042286])"
      ]
     },
     "execution_count": 116,
     "metadata": {},
     "output_type": "execute_result"
    }
   ],
   "source": [
    "W"
   ]
  },
  {
   "cell_type": "code",
   "execution_count": 117,
   "metadata": {},
   "outputs": [
    {
     "name": "stdout",
     "output_type": "stream",
     "text": [
      "W=[[0.48578183]] and b=[[1.99040337]]\n"
     ]
    }
   ],
   "source": [
    "print(f\"W={lr.W} and b={lr.b}\")"
   ]
  },
  {
   "cell_type": "code",
   "execution_count": null,
   "metadata": {},
   "outputs": [],
   "source": []
  }
 ],
 "metadata": {
  "kernelspec": {
   "display_name": "Python 3",
   "language": "python",
   "name": "python3"
  },
  "language_info": {
   "codemirror_mode": {
    "name": "ipython",
    "version": 3
   },
   "file_extension": ".py",
   "mimetype": "text/x-python",
   "name": "python",
   "nbconvert_exporter": "python",
   "pygments_lexer": "ipython3",
   "version": "3.8.10"
  }
 },
 "nbformat": 4,
 "nbformat_minor": 4
}
