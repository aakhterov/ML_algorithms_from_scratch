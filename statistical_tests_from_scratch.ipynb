{
  "nbformat": 4,
  "nbformat_minor": 0,
  "metadata": {
    "colab": {
      "provenance": [],
      "collapsed_sections": [
        "lBcHV4_yVM7o",
        "ecR_LKiY9-VM"
      ],
      "authorship_tag": "ABX9TyMhUlQogXOazO30TZQMJ/gl",
      "include_colab_link": true
    },
    "kernelspec": {
      "name": "python3",
      "display_name": "Python 3"
    },
    "language_info": {
      "name": "python"
    }
  },
  "cells": [
    {
      "cell_type": "markdown",
      "metadata": {
        "id": "view-in-github",
        "colab_type": "text"
      },
      "source": [
        "<a href=\"https://colab.research.google.com/github/aakhterov/ML_algorithms_from_scratch/blob/master/statistical_tests_from_scratch.ipynb\" target=\"_parent\"><img src=\"https://colab.research.google.com/assets/colab-badge.svg\" alt=\"Open In Colab\"/></a>"
      ]
    },
    {
      "cell_type": "markdown",
      "source": [
        "# Various statistical tests from scratch\n",
        "\n",
        "References\n",
        "\n",
        "1. https://www.scribbr.com/statistics/t-test/\n",
        "2. https://www.statisticshowto.com/probability-and-statistics/t-test/\n",
        "3. https://en.wikipedia.org/wiki/Student%27s_t-test\n",
        "\n",
        "> Indented block\n",
        "\n"
      ],
      "metadata": {
        "id": "ZVfSdpIaUl4G"
      }
    },
    {
      "cell_type": "code",
      "execution_count": 70,
      "metadata": {
        "id": "ppgJqAosSXSS"
      },
      "outputs": [],
      "source": [
        "import numpy as np\n",
        "from sklearn.datasets import load_iris\n",
        "from scipy.stats import t, ttest_ind, ttest_rel"
      ]
    },
    {
      "cell_type": "code",
      "source": [
        "alpha = 0.05 # significance level"
      ],
      "metadata": {
        "id": "RONFv9yY1QLM"
      },
      "execution_count": 15,
      "outputs": []
    },
    {
      "cell_type": "markdown",
      "source": [
        "## 1. T-test (Student's T-test)"
      ],
      "metadata": {
        "id": "0-tzNV9EUlS0"
      }
    },
    {
      "cell_type": "markdown",
      "source": [
        "### 1.1. Two sample T-test\n",
        "\n",
        "Let's imagine we want to know whether the mean petal length of iris flowers differs according to their species. We're going to pick 50 petals length of versicolor and virginica species. Then we want to test the difference between these two groups using a T-test and null and alterative hypotheses.\n",
        "\n",
        "**H0**: the true difference between these group means is zero.\n",
        "\n",
        "**H1**: the true difference is different from zero.\n",
        "\n",
        "The formulas for the $ t $ are:\n",
        "\n",
        "1. In the case of equal sample sizes and variance:\n",
        "\n",
        "$ t = \\frac{\\bar{x_1} - \\bar{x_2}}{s \\sqrt{\\frac{2}{n}}} $\n",
        "\n",
        "2. In the case of equal or unequal sample sizes and similar variances ($ \\frac{1}{2} < \\frac{s_{x_1}}{s_{x_2}} < 2 $):\n",
        "\n",
        "$ t = \\frac{\\bar{x_1} - \\bar{x_2}}{s_p \\sqrt{\\frac{1}{n_1} + \\frac{1}{n_1}}} $,\n",
        "\n",
        "where $ s_p = \\sqrt{ \\frac{(n_1 - 1)s_1^2 + (n_2 - 1)s_2^2}{n_1 + n_2 - 2} } $ is the pooled standard deviation\n",
        "\n",
        "3. In the case of equal or unequal sample sizes and unequal variances ($\n",
        " s_{x_1} > 2s_{x_2} or s_{x_2} > 2s_{x_1} $ ) (Welch's t-test):\n",
        "\n",
        "$ t = \\frac{\\bar{x_1} - \\bar{x_2}}{s_\\bar\\Delta} $,\n",
        "\n",
        "where $ s_\\bar\\Delta = \\sqrt{(\\frac{s_1}{\\sqrt{n_1}})^2 + (\\frac{s_2}{\\sqrt{n_2}})^2} $"
      ],
      "metadata": {
        "id": "lBcHV4_yVM7o"
      }
    },
    {
      "cell_type": "code",
      "source": [
        "data = load_iris(as_frame=True)\n",
        "df = data['data']\n",
        "df['specie'] = list(map(lambda x: data['target_names'][x], data['target']))\n",
        "df.head()"
      ],
      "metadata": {
        "colab": {
          "base_uri": "https://localhost:8080/",
          "height": 206
        },
        "id": "xfHyoKV1Tezp",
        "outputId": "c207ff5f-369d-40dd-b849-d52c67558613"
      },
      "execution_count": 16,
      "outputs": [
        {
          "output_type": "execute_result",
          "data": {
            "text/plain": [
              "   sepal length (cm)  sepal width (cm)  petal length (cm)  petal width (cm)  \\\n",
              "0                5.1               3.5                1.4               0.2   \n",
              "1                4.9               3.0                1.4               0.2   \n",
              "2                4.7               3.2                1.3               0.2   \n",
              "3                4.6               3.1                1.5               0.2   \n",
              "4                5.0               3.6                1.4               0.2   \n",
              "\n",
              "   specie  \n",
              "0  setosa  \n",
              "1  setosa  \n",
              "2  setosa  \n",
              "3  setosa  \n",
              "4  setosa  "
            ],
            "text/html": [
              "\n",
              "  <div id=\"df-a4ab72c8-27dc-4879-adc4-0204167a6cdf\" class=\"colab-df-container\">\n",
              "    <div>\n",
              "<style scoped>\n",
              "    .dataframe tbody tr th:only-of-type {\n",
              "        vertical-align: middle;\n",
              "    }\n",
              "\n",
              "    .dataframe tbody tr th {\n",
              "        vertical-align: top;\n",
              "    }\n",
              "\n",
              "    .dataframe thead th {\n",
              "        text-align: right;\n",
              "    }\n",
              "</style>\n",
              "<table border=\"1\" class=\"dataframe\">\n",
              "  <thead>\n",
              "    <tr style=\"text-align: right;\">\n",
              "      <th></th>\n",
              "      <th>sepal length (cm)</th>\n",
              "      <th>sepal width (cm)</th>\n",
              "      <th>petal length (cm)</th>\n",
              "      <th>petal width (cm)</th>\n",
              "      <th>specie</th>\n",
              "    </tr>\n",
              "  </thead>\n",
              "  <tbody>\n",
              "    <tr>\n",
              "      <th>0</th>\n",
              "      <td>5.1</td>\n",
              "      <td>3.5</td>\n",
              "      <td>1.4</td>\n",
              "      <td>0.2</td>\n",
              "      <td>setosa</td>\n",
              "    </tr>\n",
              "    <tr>\n",
              "      <th>1</th>\n",
              "      <td>4.9</td>\n",
              "      <td>3.0</td>\n",
              "      <td>1.4</td>\n",
              "      <td>0.2</td>\n",
              "      <td>setosa</td>\n",
              "    </tr>\n",
              "    <tr>\n",
              "      <th>2</th>\n",
              "      <td>4.7</td>\n",
              "      <td>3.2</td>\n",
              "      <td>1.3</td>\n",
              "      <td>0.2</td>\n",
              "      <td>setosa</td>\n",
              "    </tr>\n",
              "    <tr>\n",
              "      <th>3</th>\n",
              "      <td>4.6</td>\n",
              "      <td>3.1</td>\n",
              "      <td>1.5</td>\n",
              "      <td>0.2</td>\n",
              "      <td>setosa</td>\n",
              "    </tr>\n",
              "    <tr>\n",
              "      <th>4</th>\n",
              "      <td>5.0</td>\n",
              "      <td>3.6</td>\n",
              "      <td>1.4</td>\n",
              "      <td>0.2</td>\n",
              "      <td>setosa</td>\n",
              "    </tr>\n",
              "  </tbody>\n",
              "</table>\n",
              "</div>\n",
              "    <div class=\"colab-df-buttons\">\n",
              "\n",
              "  <div class=\"colab-df-container\">\n",
              "    <button class=\"colab-df-convert\" onclick=\"convertToInteractive('df-a4ab72c8-27dc-4879-adc4-0204167a6cdf')\"\n",
              "            title=\"Convert this dataframe to an interactive table.\"\n",
              "            style=\"display:none;\">\n",
              "\n",
              "  <svg xmlns=\"http://www.w3.org/2000/svg\" height=\"24px\" viewBox=\"0 -960 960 960\">\n",
              "    <path d=\"M120-120v-720h720v720H120Zm60-500h600v-160H180v160Zm220 220h160v-160H400v160Zm0 220h160v-160H400v160ZM180-400h160v-160H180v160Zm440 0h160v-160H620v160ZM180-180h160v-160H180v160Zm440 0h160v-160H620v160Z\"/>\n",
              "  </svg>\n",
              "    </button>\n",
              "\n",
              "  <style>\n",
              "    .colab-df-container {\n",
              "      display:flex;\n",
              "      gap: 12px;\n",
              "    }\n",
              "\n",
              "    .colab-df-convert {\n",
              "      background-color: #E8F0FE;\n",
              "      border: none;\n",
              "      border-radius: 50%;\n",
              "      cursor: pointer;\n",
              "      display: none;\n",
              "      fill: #1967D2;\n",
              "      height: 32px;\n",
              "      padding: 0 0 0 0;\n",
              "      width: 32px;\n",
              "    }\n",
              "\n",
              "    .colab-df-convert:hover {\n",
              "      background-color: #E2EBFA;\n",
              "      box-shadow: 0px 1px 2px rgba(60, 64, 67, 0.3), 0px 1px 3px 1px rgba(60, 64, 67, 0.15);\n",
              "      fill: #174EA6;\n",
              "    }\n",
              "\n",
              "    .colab-df-buttons div {\n",
              "      margin-bottom: 4px;\n",
              "    }\n",
              "\n",
              "    [theme=dark] .colab-df-convert {\n",
              "      background-color: #3B4455;\n",
              "      fill: #D2E3FC;\n",
              "    }\n",
              "\n",
              "    [theme=dark] .colab-df-convert:hover {\n",
              "      background-color: #434B5C;\n",
              "      box-shadow: 0px 1px 3px 1px rgba(0, 0, 0, 0.15);\n",
              "      filter: drop-shadow(0px 1px 2px rgba(0, 0, 0, 0.3));\n",
              "      fill: #FFFFFF;\n",
              "    }\n",
              "  </style>\n",
              "\n",
              "    <script>\n",
              "      const buttonEl =\n",
              "        document.querySelector('#df-a4ab72c8-27dc-4879-adc4-0204167a6cdf button.colab-df-convert');\n",
              "      buttonEl.style.display =\n",
              "        google.colab.kernel.accessAllowed ? 'block' : 'none';\n",
              "\n",
              "      async function convertToInteractive(key) {\n",
              "        const element = document.querySelector('#df-a4ab72c8-27dc-4879-adc4-0204167a6cdf');\n",
              "        const dataTable =\n",
              "          await google.colab.kernel.invokeFunction('convertToInteractive',\n",
              "                                                    [key], {});\n",
              "        if (!dataTable) return;\n",
              "\n",
              "        const docLinkHtml = 'Like what you see? Visit the ' +\n",
              "          '<a target=\"_blank\" href=https://colab.research.google.com/notebooks/data_table.ipynb>data table notebook</a>'\n",
              "          + ' to learn more about interactive tables.';\n",
              "        element.innerHTML = '';\n",
              "        dataTable['output_type'] = 'display_data';\n",
              "        await google.colab.output.renderOutput(dataTable, element);\n",
              "        const docLink = document.createElement('div');\n",
              "        docLink.innerHTML = docLinkHtml;\n",
              "        element.appendChild(docLink);\n",
              "      }\n",
              "    </script>\n",
              "  </div>\n",
              "\n",
              "\n",
              "<div id=\"df-cede00b3-f0d7-4340-ac0a-1a7641b76ce7\">\n",
              "  <button class=\"colab-df-quickchart\" onclick=\"quickchart('df-cede00b3-f0d7-4340-ac0a-1a7641b76ce7')\"\n",
              "            title=\"Suggest charts.\"\n",
              "            style=\"display:none;\">\n",
              "\n",
              "<svg xmlns=\"http://www.w3.org/2000/svg\" height=\"24px\"viewBox=\"0 0 24 24\"\n",
              "     width=\"24px\">\n",
              "    <g>\n",
              "        <path d=\"M19 3H5c-1.1 0-2 .9-2 2v14c0 1.1.9 2 2 2h14c1.1 0 2-.9 2-2V5c0-1.1-.9-2-2-2zM9 17H7v-7h2v7zm4 0h-2V7h2v10zm4 0h-2v-4h2v4z\"/>\n",
              "    </g>\n",
              "</svg>\n",
              "  </button>\n",
              "\n",
              "<style>\n",
              "  .colab-df-quickchart {\n",
              "    background-color: #E8F0FE;\n",
              "    border: none;\n",
              "    border-radius: 50%;\n",
              "    cursor: pointer;\n",
              "    display: none;\n",
              "    fill: #1967D2;\n",
              "    height: 32px;\n",
              "    padding: 0 0 0 0;\n",
              "    width: 32px;\n",
              "  }\n",
              "\n",
              "  .colab-df-quickchart:hover {\n",
              "    background-color: #E2EBFA;\n",
              "    box-shadow: 0px 1px 2px rgba(60, 64, 67, 0.3), 0px 1px 3px 1px rgba(60, 64, 67, 0.15);\n",
              "    fill: #174EA6;\n",
              "  }\n",
              "\n",
              "  [theme=dark] .colab-df-quickchart {\n",
              "    background-color: #3B4455;\n",
              "    fill: #D2E3FC;\n",
              "  }\n",
              "\n",
              "  [theme=dark] .colab-df-quickchart:hover {\n",
              "    background-color: #434B5C;\n",
              "    box-shadow: 0px 1px 3px 1px rgba(0, 0, 0, 0.15);\n",
              "    filter: drop-shadow(0px 1px 2px rgba(0, 0, 0, 0.3));\n",
              "    fill: #FFFFFF;\n",
              "  }\n",
              "</style>\n",
              "\n",
              "  <script>\n",
              "    async function quickchart(key) {\n",
              "      const charts = await google.colab.kernel.invokeFunction(\n",
              "          'suggestCharts', [key], {});\n",
              "    }\n",
              "    (() => {\n",
              "      let quickchartButtonEl =\n",
              "        document.querySelector('#df-cede00b3-f0d7-4340-ac0a-1a7641b76ce7 button');\n",
              "      quickchartButtonEl.style.display =\n",
              "        google.colab.kernel.accessAllowed ? 'block' : 'none';\n",
              "    })();\n",
              "  </script>\n",
              "</div>\n",
              "    </div>\n",
              "  </div>\n"
            ]
          },
          "metadata": {},
          "execution_count": 16
        }
      ]
    },
    {
      "cell_type": "code",
      "source": [
        "df['specie'].value_counts()"
      ],
      "metadata": {
        "colab": {
          "base_uri": "https://localhost:8080/"
        },
        "id": "MaBMtFbiXjEk",
        "outputId": "94fa9356-0495-4edd-f2e4-203cdd0a65ad"
      },
      "execution_count": 17,
      "outputs": [
        {
          "output_type": "execute_result",
          "data": {
            "text/plain": [
              "setosa        50\n",
              "versicolor    50\n",
              "virginica     50\n",
              "Name: specie, dtype: int64"
            ]
          },
          "metadata": {},
          "execution_count": 17
        }
      ]
    },
    {
      "cell_type": "code",
      "source": [
        "g1 = df.loc[df['specie'] == 'versicolor']['petal length (cm)'].to_numpy()\n",
        "g2 = df.loc[df['specie'] == 'virginica']['petal length (cm)'].to_numpy()"
      ],
      "metadata": {
        "id": "hbVnQQNDW6oP"
      },
      "execution_count": 18,
      "outputs": []
    },
    {
      "cell_type": "code",
      "source": [
        "s1, s2 = np.std(g1), np.std(g2)\n",
        "1/2 < s1/s2 < 2"
      ],
      "metadata": {
        "colab": {
          "base_uri": "https://localhost:8080/"
        },
        "id": "_ZNbMOkCYy1m",
        "outputId": "30351b18-5cd4-4139-e29c-2a96940f8516"
      },
      "execution_count": 19,
      "outputs": [
        {
          "output_type": "execute_result",
          "data": {
            "text/plain": [
              "True"
            ]
          },
          "metadata": {},
          "execution_count": 19
        }
      ]
    },
    {
      "cell_type": "markdown",
      "source": [
        "**Conclusion:** Hence, we have case of equal sample sizes and similar variances (#2)"
      ],
      "metadata": {
        "id": "yKjd_2O-wnDe"
      }
    },
    {
      "cell_type": "code",
      "source": [
        "n1, n2 = len(g1), len(g2)\n",
        "mean1, mean2 = np.mean(g1), np.mean(g2)"
      ],
      "metadata": {
        "id": "XOidoL2bx9wc"
      },
      "execution_count": 20,
      "outputs": []
    },
    {
      "cell_type": "code",
      "source": [
        "s_p = np.sqrt(( (n1-1)*s1**2 + (n2-1)*s2**2 )/(n1 + n2 -2)) # calculate the pooled standard deviation\n",
        "print(f\"The pooled standard deviation:  {s_p}\")"
      ],
      "metadata": {
        "colab": {
          "base_uri": "https://localhost:8080/"
        },
        "id": "SvItcMdkxmp1",
        "outputId": "50859aad-33d6-49d3-f948-e0212a4618ff"
      },
      "execution_count": 21,
      "outputs": [
        {
          "output_type": "stream",
          "name": "stdout",
          "text": [
            "The pooled standard deviation:  0.5073933385451567\n"
          ]
        }
      ]
    },
    {
      "cell_type": "code",
      "source": [
        "t_scratch = (mean1 - mean2) / (s_p * np.sqrt(1/n1 + 1/n2))\n",
        "print(f\"Two sample T-test: {t_scratch}\")"
      ],
      "metadata": {
        "colab": {
          "base_uri": "https://localhost:8080/"
        },
        "id": "LZ79s9qAxmtU",
        "outputId": "7f27a4fb-107c-48d0-93ab-db2d90c8b61e"
      },
      "execution_count": 93,
      "outputs": [
        {
          "output_type": "stream",
          "name": "stdout",
          "text": [
            "Two sample T-test: -12.731739873689888\n"
          ]
        }
      ]
    },
    {
      "cell_type": "code",
      "source": [
        "cv = t.ppf(alpha/2, n1 + n2 - 2) # calculate the critical values for the two-tailed test\n",
        "print(f\"The confidence intervals (CI) for DOF (degree if freedom) of {n1+n2-2} and significant level of {alpha}:\\n\"\n",
        "      f\"- left CI: from -inf to {cv}\\n\"\n",
        "      f\"- right CI: from {-cv} to inf\\n\")"
      ],
      "metadata": {
        "colab": {
          "base_uri": "https://localhost:8080/"
        },
        "id": "6mjgfj3SAb49",
        "outputId": "672a166f-b805-4040-a3e7-5d49a66c6b64"
      },
      "execution_count": 48,
      "outputs": [
        {
          "output_type": "stream",
          "name": "stdout",
          "text": [
            "The confidence intervals (CI) for DOF (degree if freedom) of 98 and significant level of 0.05:\n",
            "- left CI: from -inf to -1.9844674544266925\n",
            "- right CI: from 1.9844674544266925 to inf\n",
            "\n"
          ]
        }
      ]
    },
    {
      "cell_type": "code",
      "source": [
        "t_scratch < cv"
      ],
      "metadata": {
        "colab": {
          "base_uri": "https://localhost:8080/"
        },
        "id": "Fd5f_sU00UpM",
        "outputId": "74ea21ee-2f24-45a6-fa52-ce3d64f0f139"
      },
      "execution_count": 49,
      "outputs": [
        {
          "output_type": "execute_result",
          "data": {
            "text/plain": [
              "True"
            ]
          },
          "metadata": {},
          "execution_count": 49
        }
      ]
    },
    {
      "cell_type": "code",
      "source": [
        "p_value = t.cdf(t_scratch, n1 + n2 -2)*2 # let's calculate p-value for the obtained T-test value\n",
        "print(f\"The probability of obtaining T-test results of {t_scratch} at least as extreme as the result actually observed, \\n\"\n",
        "f\"under the assumption that the H0 is correct equal to {p_value}\")"
      ],
      "metadata": {
        "colab": {
          "base_uri": "https://localhost:8080/"
        },
        "id": "bba0y3vhyLLF",
        "outputId": "febc1754-3e5e-4ec8-ad2f-fad1254eed02"
      },
      "execution_count": 50,
      "outputs": [
        {
          "output_type": "stream",
          "name": "stdout",
          "text": [
            "The probability of obtaining T-test results of -12.731739873689888 at least as extreme as the result actually observed, \n",
            "under the assumption that the H0 is correct equal to 1.7129346742281333e-22\n"
          ]
        }
      ]
    },
    {
      "cell_type": "markdown",
      "source": [
        "**Conclusion:** The value of T-test is in the left CI, p-value is less then 0.025 therefore we can reject HO => the true difference is different from zero."
      ],
      "metadata": {
        "id": "_LZ6HjSB4cai"
      }
    },
    {
      "cell_type": "code",
      "source": [
        "# Let's use a function from scipy library"
      ],
      "metadata": {
        "id": "ssZufDtw5B7M"
      },
      "execution_count": 26,
      "outputs": []
    },
    {
      "cell_type": "code",
      "source": [
        "t_scipy = ttest_ind(g1, g2, equal_var=False)\n",
        "t_scipy"
      ],
      "metadata": {
        "colab": {
          "base_uri": "https://localhost:8080/"
        },
        "id": "qiro0fsaxmwi",
        "outputId": "4d255bd1-d741-455d-bb1c-6c92e4fb96d9"
      },
      "execution_count": 27,
      "outputs": [
        {
          "output_type": "execute_result",
          "data": {
            "text/plain": [
              "Ttest_indResult(statistic=-12.603779441384987, pvalue=4.900287527398095e-22)"
            ]
          },
          "metadata": {},
          "execution_count": 27
        }
      ]
    },
    {
      "cell_type": "markdown",
      "source": [
        "**Conclusion:** The result of the T-test obtained by in-built function differs from implementation from scratch. It looks a bit wired.  "
      ],
      "metadata": {
        "id": "yOAoOI7EVKnY"
      }
    },
    {
      "cell_type": "markdown",
      "source": [
        "### 1.2. Paired T-test\n",
        "\n",
        "Let's assume we want to enlarge the petals of the iris specie of 'setosa'. We invented some treatment and applied it to irises and we want to figure out if our treatment is working or not. So, we have two group of the petal lengths: the first one is the petal lengths before applying the treatment and the other one is after.\n",
        "\n",
        "**H0**: the second group mean isn't greater then the first group mean\n",
        "\n",
        "**H1**: the second group mean is greater then the first group mean\n",
        "\n",
        "$ t = \\frac{\\bar{X_D}}{s_D/\\sqrt{n}} $,\n",
        "\n",
        "where $ \\bar{X_D} $ and $ s_D $ are the average and standard deviation of the differences between all pairs."
      ],
      "metadata": {
        "id": "ecR_LKiY9-VM"
      }
    },
    {
      "cell_type": "code",
      "source": [
        "g1 = df.loc[df['specie'] == 'setosa']['petal length (cm)'].to_numpy()\n",
        "g2 = g1 + np.random.normal(loc=1, scale=1, size=len(g1))"
      ],
      "metadata": {
        "id": "nAzOuGnjgmYP"
      },
      "execution_count": 87,
      "outputs": []
    },
    {
      "cell_type": "code",
      "source": [
        "n = len(g1)\n",
        "D = g2 - g1\n",
        "X_D, s_D = np.mean(D), np.std(D)\n",
        "print(f\"The mean and standard deviation of the differences: {X_D}, {s_D}\")"
      ],
      "metadata": {
        "colab": {
          "base_uri": "https://localhost:8080/"
        },
        "id": "3FeItKPogqT-",
        "outputId": "866cd648-eb7f-460f-cbb9-96ca7b964773"
      },
      "execution_count": 92,
      "outputs": [
        {
          "output_type": "stream",
          "name": "stdout",
          "text": [
            "The mean and standard deviation of the differences: 1.193639849346733, 1.1004483817162092\n"
          ]
        }
      ]
    },
    {
      "cell_type": "code",
      "source": [
        "t_scratch = X_D/(s_D / np.sqrt(n))\n",
        "print(f\"Paired T-test: {t_scratch}\")"
      ],
      "metadata": {
        "colab": {
          "base_uri": "https://localhost:8080/"
        },
        "id": "UQFYS7RmgmfZ",
        "outputId": "dbb16f7e-0659-43f3-aa7f-bb8d8927a219"
      },
      "execution_count": 94,
      "outputs": [
        {
          "output_type": "stream",
          "name": "stdout",
          "text": [
            "Paired T-test: 7.669881166540969\n"
          ]
        }
      ]
    },
    {
      "cell_type": "code",
      "source": [
        "cv = t.ppf(1-alpha, n - 1) # calculate the critical values for the right-tailed test\n",
        "print(f\"A confidence interval (CI) for DOF (degree if freedom) of {n-1} and significant level of {alpha}:\\n\"\n",
        "      f\"from {cv} to inf\\n\")"
      ],
      "metadata": {
        "colab": {
          "base_uri": "https://localhost:8080/"
        },
        "id": "J-FMxUj7gmiS",
        "outputId": "7272e32f-3826-4ba8-de9a-0044905d2119"
      },
      "execution_count": 102,
      "outputs": [
        {
          "output_type": "stream",
          "name": "stdout",
          "text": [
            "A confidence interval (CI) for DOF (degree if freedom) of 49 and significant level of 0.05:\n",
            "from 1.6765508919142629 to inf\n",
            "\n"
          ]
        }
      ]
    },
    {
      "cell_type": "code",
      "source": [
        "t_scratch > cv"
      ],
      "metadata": {
        "colab": {
          "base_uri": "https://localhost:8080/"
        },
        "id": "_XQVRaXjxMuK",
        "outputId": "73c321bd-6c91-45da-a1fc-476dac54fb78"
      },
      "execution_count": 103,
      "outputs": [
        {
          "output_type": "execute_result",
          "data": {
            "text/plain": [
              "True"
            ]
          },
          "metadata": {},
          "execution_count": 103
        }
      ]
    },
    {
      "cell_type": "code",
      "source": [
        "p_value = 1 - t.cdf(t_scratch, n - 1) # let's calculate p-value for the obtained T-test value\n",
        "print(f\"The probability of obtaining T-test results of {t_scratch} at least as extreme as the result actually observed, \\n\"\n",
        "f\"under the assumption that the H0 is correct equal to {p_value}\")"
      ],
      "metadata": {
        "colab": {
          "base_uri": "https://localhost:8080/"
        },
        "id": "xVbIA3gFxMyK",
        "outputId": "19459121-3adf-4f23-f946-c18159a2d400"
      },
      "execution_count": 104,
      "outputs": [
        {
          "output_type": "stream",
          "name": "stdout",
          "text": [
            "The probability of obtaining T-test results of 7.669881166540969 at least as extreme as the result actually observed, \n",
            "under the assumption that the H0 is correct equal to 3.0641400527997575e-10\n"
          ]
        }
      ]
    },
    {
      "cell_type": "markdown",
      "source": [
        "**Conclusion:** The value of T-test is in CI, p-value is less then 0.05 therefore we can reject HO => the second group mean is greater then the first group mean"
      ],
      "metadata": {
        "id": "mRxTw0q-yi_0"
      }
    },
    {
      "cell_type": "code",
      "source": [
        "# Let's use a function from scipy library"
      ],
      "metadata": {
        "id": "y8Hi77D1xM1i"
      },
      "execution_count": null,
      "outputs": []
    },
    {
      "cell_type": "code",
      "source": [
        "t_scipy = ttest_rel(g2, g1, alternative='greater')\n",
        "t_scipy"
      ],
      "metadata": {
        "colab": {
          "base_uri": "https://localhost:8080/"
        },
        "id": "Ox94ymZ7bOR8",
        "outputId": "5c4b4840-ae6f-483e-d424-c4c909ea338e"
      },
      "execution_count": 91,
      "outputs": [
        {
          "output_type": "execute_result",
          "data": {
            "text/plain": [
              "TtestResult(statistic=7.592794977258548, pvalue=4.0263921423052266e-10, df=49)"
            ]
          },
          "metadata": {},
          "execution_count": 91
        }
      ]
    },
    {
      "cell_type": "markdown",
      "source": [
        "**Conclusion:** The result of the T-test obtained by in-built function differs from implementation from scratch as in the case of two sample T-test. It also looks wired.  "
      ],
      "metadata": {
        "id": "NHZZB8k-zIbd"
      }
    },
    {
      "cell_type": "markdown",
      "source": [
        "### 1.3. One-sample T-test"
      ],
      "metadata": {
        "id": "BzKCeYgv_WxP"
      }
    },
    {
      "cell_type": "code",
      "source": [],
      "metadata": {
        "id": "qLbIHK2y_XFK"
      },
      "execution_count": null,
      "outputs": []
    }
  ]
}