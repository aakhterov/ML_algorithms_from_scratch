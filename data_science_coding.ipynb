{
  "nbformat": 4,
  "nbformat_minor": 0,
  "metadata": {
    "colab": {
      "provenance": [],
      "collapsed_sections": [
        "rOYLNYWvamWE",
        "-CLLMGQzjCHA"
      ],
      "authorship_tag": "ABX9TyOmkm26GsnjWbc3qosDa2QD",
      "include_colab_link": true
    },
    "kernelspec": {
      "name": "python3",
      "display_name": "Python 3"
    },
    "language_info": {
      "name": "python"
    }
  },
  "cells": [
    {
      "cell_type": "markdown",
      "metadata": {
        "id": "view-in-github",
        "colab_type": "text"
      },
      "source": [
        "<a href=\"https://colab.research.google.com/github/aakhterov/ML_algorithms_from_scratch/blob/master/data_science_coding.ipynb\" target=\"_parent\"><img src=\"https://colab.research.google.com/assets/colab-badge.svg\" alt=\"Open In Colab\"/></a>"
      ]
    },
    {
      "cell_type": "markdown",
      "source": [
        "# Task #1. 7-Sided Die Roll\n",
        "\n",
        "**Problem**\n",
        "\n",
        "Write a function that simulates a 7-sided die roll using a 6-sided die. You will need to show that the outcomes of the 7-sided die from your function are equally likely by generating a simulation with 10,000 trials of the function call.\n",
        "\n",
        "Output a list of proportions with the first element array representing side 1 and the last element representing side 7. Round the proportions to three decimal places.\n",
        "\n",
        "You may use the random.randint(1, 6) from the random library to roll a 6-sided die, but do not use random.randint(1, 7)."
      ],
      "metadata": {
        "id": "rOYLNYWvamWE"
      }
    },
    {
      "cell_type": "code",
      "source": [
        "import random"
      ],
      "metadata": {
        "id": "cQsJqtAebVhC"
      },
      "execution_count": 18,
      "outputs": []
    },
    {
      "cell_type": "code",
      "execution_count": null,
      "metadata": {
        "id": "ATZ6CxqoZu3A"
      },
      "outputs": [],
      "source": [
        "# Set the random seed\n",
        "random.seed(123)\n",
        "\n",
        "# Input:\n",
        "k = 10_000 # 10,000 trials of the function that simulates a 7-sided die\n",
        "\n",
        "# Output: [0.137, 0.146, 0.144, 0.146, 0.138, 0.142, 0.148]"
      ]
    },
    {
      "cell_type": "code",
      "source": [
        "def simulate_7_side_dice(k: int) -> list:\n",
        "  '''\n",
        "  Simulate 7-sided dice using 6-sided dice. The idea that we're going to count every 7th outcome of every side of 6-sided dice as the 7th side outcome\n",
        "\n",
        "  Parameters:\n",
        "    k - trials of the function that simulates a 7-sided die\n",
        "\n",
        "  Return:\n",
        "    a list of proportions with the first element array representing side 1 and the last element representing side 7.\n",
        "  '''\n",
        "  # dictionary for counting the outcomes of every side. If we have 6 outcomes of any side we count this rolling as the 7th side outcome\n",
        "  sides_counter = {i: 0 for i in range(1, 7)}\n",
        "  # dictionary for counting the total number of the outcomes of the every side.\n",
        "  tosses = {i: 0 for i in range(1, 8)}\n",
        "\n",
        "  for _ in range(k):\n",
        "    # roll dice\n",
        "    toss = random.randint(1, 6)\n",
        "    if sides_counter[toss] == 6:\n",
        "      tosses[7] += 1\n",
        "      sides_counter[toss] = 0\n",
        "    else:\n",
        "      tosses[toss] += 1\n",
        "      sides_counter[toss] += 1\n",
        "\n",
        "  return [round(v/k, 3) for v in tosses.values()]"
      ],
      "metadata": {
        "id": "EvcmgGtkblBS"
      },
      "execution_count": 15,
      "outputs": []
    },
    {
      "cell_type": "code",
      "source": [
        "simulate_7_side_dice(k)"
      ],
      "metadata": {
        "id": "9jybH127blGJ",
        "colab": {
          "base_uri": "https://localhost:8080/"
        },
        "outputId": "75fd0e7c-20e6-4a79-c5f1-361297d789bd"
      },
      "execution_count": 17,
      "outputs": [
        {
          "output_type": "execute_result",
          "data": {
            "text/plain": [
              "[0.141, 0.139, 0.139, 0.146, 0.148, 0.144, 0.143]"
            ]
          },
          "metadata": {},
          "execution_count": 17
        }
      ]
    },
    {
      "cell_type": "markdown",
      "source": [
        "# Task #2. Confidence Interval\n",
        "\n",
        "**Problem**\n",
        "\n",
        "What does the 95% confidence interval mean? Suppose that the distribution of a population is normal with a mean of 100 and standard deviation of 10. How would you write a simulation that demonstrates that the 95% confidence interval of the mean contains the true mean about 95% of the time?\n",
        "\n",
        "You may use the following code to get started."
      ],
      "metadata": {
        "id": "-CLLMGQzjCHA"
      }
    },
    {
      "cell_type": "code",
      "source": [
        "# Import libraries\n",
        "import numpy as np\n",
        "import scipy.stats as sci\n",
        "\n",
        "# Set the random seed\n",
        "np.random.seed(111)"
      ],
      "metadata": {
        "id": "2I84lVY-blMZ"
      },
      "execution_count": 1,
      "outputs": []
    },
    {
      "cell_type": "code",
      "source": [
        "pop_mean = 100\n",
        "pop_std = 10\n",
        "sample_size = 100\n",
        "num_samples = 10_000\n",
        "alpha = 0.05"
      ],
      "metadata": {
        "id": "FFW70PFt4AzK"
      },
      "execution_count": 10,
      "outputs": []
    },
    {
      "cell_type": "code",
      "source": [
        "inside_ci_count = 0\n",
        "for _ in range(num_samples):\n",
        "  sample = np.random.normal(loc=pop_mean, scale=pop_std, size=sample_size) # generate the sample from the normal distribution\n",
        "  sample_mean = np.mean(sample) # calculate the sample mean\n",
        "  sample_std_error = sci.sem(sample, ddof=0) # calculate standard sample error = np.std(sample)/np.sqrt(n)\n",
        "  upper, lower = sci.t.interval(confidence=1-alpha, df=sample_size-1, loc=sample_mean, scale=sample_std_error) # get the CI bounds for the sample\n",
        "  inside_ci_count += upper < pop_mean < lower # if the population mean inside th CI then increment counter\n",
        "\n",
        "print(f\"Percent of times the population mean is inside of samples CI {inside_ci_count/num_samples:.0%}\")"
      ],
      "metadata": {
        "colab": {
          "base_uri": "https://localhost:8080/"
        },
        "id": "SVZbPdYrGZx9",
        "outputId": "15bef2f6-7e1c-4c70-d43a-009cb6a47de6"
      },
      "execution_count": 11,
      "outputs": [
        {
          "output_type": "stream",
          "name": "stdout",
          "text": [
            "Percent of times the population mean is inside of samples CI 95%\n"
          ]
        }
      ]
    },
    {
      "cell_type": "markdown",
      "source": [
        "# Task #3 Central Limit Theorem\n",
        "\n",
        "**Problem**\n",
        "\n",
        "Write a code that simulates the Central Limit Theorem (CLT). What does CLT mean?\n",
        "\n",
        "Using Numpy, how would you simulate CLT from any population distribution of your choice? <br>\n",
        "\n",
        "You may use the following code to get started on the problem.\n",
        "\n",
        "Bonus point if you can plot a histogram of the distribution that demonstrates the Central Limit Theorem."
      ],
      "metadata": {
        "id": "JF3g6q5YjKQh"
      }
    },
    {
      "cell_type": "code",
      "source": [
        "# Import libraries\n",
        "import numpy as np\n",
        "import matplotlib.pyplot as plt\n",
        "\n",
        "# Set the random seed\n",
        "np.random.seed(123)"
      ],
      "metadata": {
        "id": "G_eMGAIbjTn6"
      },
      "execution_count": 20,
      "outputs": []
    },
    {
      "cell_type": "code",
      "source": [
        "sample_size = 1000\n",
        "num_samples = 100_000"
      ],
      "metadata": {
        "id": "_Krm4BzRTy1K"
      },
      "execution_count": 29,
      "outputs": []
    },
    {
      "cell_type": "code",
      "source": [
        "means = [np.mean(np.random.exponential(scale=5, size=sample_size)) for _ in range(num_samples)]\n",
        "plt.hist(x=means, bins=100, density=True)\n",
        "plt.show()"
      ],
      "metadata": {
        "colab": {
          "base_uri": "https://localhost:8080/",
          "height": 430
        },
        "id": "-Wyg0fAGn0lh",
        "outputId": "1bf77226-63fe-47f3-8472-0024d268700e"
      },
      "execution_count": 34,
      "outputs": [
        {
          "output_type": "display_data",
          "data": {
            "text/plain": [
              "<Figure size 640x480 with 1 Axes>"
            ],
            "image/png": "[encoded data removed]"
          },
          "metadata": {}
        }
      ]
    },
    {
      "cell_type": "code",
      "source": [
        "means = [np.mean(np.random.uniform(low=-1, high=1, size=sample_size)) for _ in range(num_samples)]\n",
        "plt.hist(x=means, bins=100, density=True)\n",
        "plt.show()"
      ],
      "metadata": {
        "colab": {
          "base_uri": "https://localhost:8080/",
          "height": 430
        },
        "id": "ruYvJHRjoWax",
        "outputId": "879ae736-0668-4e24-b3cb-21b2c9d280c4"
      },
      "execution_count": 35,
      "outputs": [
        {
          "output_type": "display_data",
          "data": {
            "text/plain": [
              "<Figure size 640x480 with 1 Axes>"
            ],
            "image/png": "[encoded data removed]"
          },
          "metadata": {}
        }
      ]
    },
    {
      "cell_type": "code",
      "source": [],
      "metadata": {
        "id": "yOKIDtD7oPOr"
      },
      "execution_count": null,
      "outputs": []
    }
  ]
}