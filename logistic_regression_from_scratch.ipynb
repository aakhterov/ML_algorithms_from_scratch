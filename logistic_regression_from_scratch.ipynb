{
  "cells": [
    {
      "cell_type": "markdown",
      "metadata": {
        "id": "view-in-github",
        "colab_type": "text"
      },
      "source": [
        "<a href=\"https://colab.research.google.com/github/aakhterov/ML_algorithms_from_scratch/blob/master/logistic_regression_from_scratch.ipynb\" target=\"_parent\"><img src=\"https://colab.research.google.com/assets/colab-badge.svg\" alt=\"Open In Colab\"/></a>"
      ]
    },
    {
      "cell_type": "code",
      "execution_count": null,
      "metadata": {
        "id": "hYCPTwX4edSF",
        "outputId": "51e19e98-27f0-4a65-9190-d22aec53b54b"
      },
      "outputs": [
        {
          "data": {
            "text/plain": [
              "'\\nBasic Implementation of Logistic Regression\\n'"
            ]
          },
          "execution_count": 2,
          "metadata": {},
          "output_type": "execute_result"
        }
      ],
      "source": [
        "\"\"\"\n",
        "Basic Implementation of Logistic Regression\n",
        "\"\"\""
      ]
    },
    {
      "cell_type": "code",
      "execution_count": null,
      "metadata": {
        "id": "ydsQH5hhedSJ"
      },
      "outputs": [],
      "source": [
        "import numpy as np\n",
        "import seaborn as sns\n",
        "import matplotlib.pyplot as plt"
      ]
    },
    {
      "cell_type": "code",
      "execution_count": null,
      "metadata": {
        "id": "9WNWHc50edSJ"
      },
      "outputs": [],
      "source": [
        "class MyLogisticRegression:\n",
        "\n",
        "    def __init__(self):\n",
        "        self.W = None\n",
        "        self.b = None\n",
        "\n",
        "    def __initialization(self, m_features):\n",
        "        self.W = np.random.rand(m_features, 1)\n",
        "        self.b = np.random.rand(1, 1)\n",
        "\n",
        "    def __sigmoid(self, Z):\n",
        "        return 1/(1 + np.exp(-Z))\n",
        "\n",
        "    def __dsigmoid(self, Z):\n",
        "        return self.__sigmoid(Z)*(1-self.__sigmoid(Z))\n",
        "\n",
        "    def __forward(self, X):\n",
        "        Z = np.dot(X, self.W) + self.b\n",
        "        y_hat = self.__sigmoid(Z)\n",
        "        return y_hat, Z\n",
        "\n",
        "    def __cost_function(self, y_hat, y):\n",
        "        m = y.shape[0]\n",
        "        return -np.sum(y*np.log(y_hat) + (1-y)*np.log(1-y_hat))/m\n",
        "\n",
        "    def __dcost_function(self, y_hat, y):\n",
        "        m = y.shape[0]\n",
        "        return -(y/y_hat - (1-y)/(1-y_hat))/m\n",
        "\n",
        "    def fit(self, X, y, learning_rate=0.01, iterations=1000, show_cost_every_iter=100):\n",
        "        \"\"\"\n",
        "        Input\n",
        "            X - (n_samples, n_features) Training data, where n_samples is the number of samples and n_features\n",
        "            is the number of features.\n",
        "            y - (n_samples,) - true label of samples\n",
        "        \"\"\"\n",
        "        m_features = X.shape[1]\n",
        "        n = X.shape[0]\n",
        "        self.__initialization(m_features)\n",
        "        for i in range(1, iterations+1):\n",
        "            y_hat, Z = self.__forward(X)\n",
        "#             print(Z)\n",
        "            if i%show_cost_every_iter==0:\n",
        "                print (f\"Iteration {i}. Cost function={self.__cost_function(y_hat, y.reshape(n,-1))}\")\n",
        "            dy_hat = self.__dcost_function(y_hat, y.reshape(n,-1))\n",
        "#             print(f\"dy_hat.shape={dy_hat.shape}\")\n",
        "            dsigmoid = self.__dsigmoid(Z)\n",
        "#             print(f\"dsigmoid.shape={dsigmoid.shape}\")\n",
        "#             print(f\"X.T.shape={X.T.shape}\")\n",
        "            dW = np.dot(X.T, dy_hat * dsigmoid)\n",
        "#             print(dW.shape)\n",
        "            db = np.sum(self.__dcost_function(y_hat, y.reshape(n,-1)) * self.__dsigmoid(Z))\n",
        "            self.W -= learning_rate*dW\n",
        "            self.b -= learning_rate*db\n",
        "\n",
        "    def predict(self, X, thr=0.5):\n",
        "        y_hat, _ = self.__forward(X)\n",
        "        return (y_hat>=thr).astype(int), y_hat"
      ]
    },
    {
      "cell_type": "markdown",
      "metadata": {
        "id": "9S9tzHhSedSK"
      },
      "source": [
        "### Testing on sintetic data"
      ]
    },
    {
      "cell_type": "code",
      "execution_count": null,
      "metadata": {
        "id": "9CpH544pedSM"
      },
      "outputs": [],
      "source": [
        "from sklearn.model_selection import train_test_split\n",
        "from sklearn.metrics import accuracy_score"
      ]
    },
    {
      "cell_type": "code",
      "execution_count": null,
      "metadata": {
        "id": "paUjpIADedSM"
      },
      "outputs": [],
      "source": [
        "num_point_in_class = 50\n",
        "X0 = 1.2*np.random.randn(num_point_in_class, 1) + 2.5\n",
        "X1 = 1.2*np.random.randn(num_point_in_class, 1) + 7.5\n",
        "X = np.vstack((X0, X1))\n",
        "y = np.hstack(([0 for _ in range(num_point_in_class)], [1 for _ in range(num_point_in_class)]))"
      ]
    },
    {
      "cell_type": "code",
      "execution_count": null,
      "metadata": {
        "id": "X4zYk27yedSN",
        "outputId": "62946dd1-932e-4641-96db-1d951e744331"
      },
      "outputs": [
        {
          "data": {
            "text/plain": [
              "<AxesSubplot:>"
            ]
          },
          "execution_count": 7,
          "metadata": {},
          "output_type": "execute_result"
        },
        {
          "data": {
            "image/png": "[encoded data removed]",
            "text/plain": [
              "<Figure size 720x576 with 1 Axes>"
            ]
          },
          "metadata": {
            "needs_background": "light"
          },
          "output_type": "display_data"
        }
      ],
      "source": [
        "fig, ax = plt.subplots(figsize=(10,8))\n",
        "sns.scatterplot(x=X0.ravel(), y=y[y==0], c='green', ax=ax)\n",
        "sns.scatterplot(x=X1.ravel(), y=y[y==1], c='red', ax=ax)"
      ]
    },
    {
      "cell_type": "code",
      "execution_count": null,
      "metadata": {
        "id": "JkdiNiuxedSO"
      },
      "outputs": [],
      "source": [
        "X_train, X_test, y_train, y_test = train_test_split(X, y, test_size=0.2)"
      ]
    },
    {
      "cell_type": "code",
      "execution_count": null,
      "metadata": {
        "id": "SlcWlK57edSO",
        "outputId": "1986877f-82a3-4581-aaa5-31d9d4c1b2d8"
      },
      "outputs": [
        {
          "name": "stdout",
          "output_type": "stream",
          "text": [
            "Iteration 1000. Cost function=0.4277362835304639\n",
            "Iteration 2000. Cost function=0.30864885436529976\n",
            "Iteration 3000. Cost function=0.24721356521432486\n",
            "Iteration 4000. Cost function=0.21003264523098214\n",
            "Iteration 5000. Cost function=0.18503860465747657\n",
            "Iteration 6000. Cost function=0.1669946762906473\n",
            "Iteration 7000. Cost function=0.15328893630797938\n",
            "Iteration 8000. Cost function=0.14247747621780504\n",
            "Iteration 9000. Cost function=0.13369754463374386\n",
            "Iteration 10000. Cost function=0.12640154468556036\n",
            "Iteration 11000. Cost function=0.12022478445820835\n",
            "Iteration 12000. Cost function=0.11491468992107419\n",
            "Iteration 13000. Cost function=0.11029057091157098\n",
            "Iteration 14000. Cost function=0.10621958702158656\n",
            "Iteration 15000. Cost function=0.10260177764913389\n",
            "Iteration 16000. Cost function=0.09936039964130132\n",
            "Iteration 17000. Cost function=0.09643549627828493\n",
            "Iteration 18000. Cost function=0.09377950100776397\n",
            "Iteration 19000. Cost function=0.09135416076075595\n",
            "Iteration 20000. Cost function=0.08912833755883823\n"
          ]
        }
      ],
      "source": [
        "lr = MyLogisticRegression()\n",
        "lr.fit(X_train, y_train, learning_rate=0.01, iterations=20000, show_cost_every_iter=1000)"
      ]
    },
    {
      "cell_type": "code",
      "execution_count": null,
      "metadata": {
        "id": "s9qmtUJcedSP",
        "outputId": "93d1b348-1b31-4305-9de7-f2f215ed2ebf"
      },
      "outputs": [
        {
          "name": "stdout",
          "output_type": "stream",
          "text": [
            "Accuracy of current implementation = 1.0\n"
          ]
        }
      ],
      "source": [
        "y_hat_test, prob_test = lr.predict(X_test)\n",
        "print(\"Accuracy of current implementation =\", accuracy_score(y_test, y_hat_test))"
      ]
    },
    {
      "cell_type": "code",
      "execution_count": null,
      "metadata": {
        "id": "ZdAO5zASedSP",
        "outputId": "f0898447-6dfa-4992-c468-4715d4cb2370"
      },
      "outputs": [
        {
          "name": "stdout",
          "output_type": "stream",
          "text": [
            "Accuracy of implementation from sklearn = 1.0\n"
          ]
        }
      ],
      "source": [
        "from sklearn.linear_model import LogisticRegression\n",
        "clf = LogisticRegression(random_state=0, penalty='none').fit(X_train, y_train)\n",
        "y_hat_test_clf = clf.predict(X_test)\n",
        "print(\"Accuracy of implementation from sklearn =\", accuracy_score(y_test, y_hat_test_clf))"
      ]
    },
    {
      "cell_type": "markdown",
      "metadata": {
        "id": "ubo_JCMtedSP"
      },
      "source": [
        "### Testing on real data (Breast cancer wisconsin (diagnostic) dataset)  "
      ]
    },
    {
      "cell_type": "code",
      "execution_count": null,
      "metadata": {
        "id": "CAnTZLWaedSQ"
      },
      "outputs": [],
      "source": [
        "# Load data"
      ]
    },
    {
      "cell_type": "code",
      "execution_count": null,
      "metadata": {
        "id": "zLsU-jWIedSQ"
      },
      "outputs": [],
      "source": [
        "from sklearn.datasets import load_breast_cancer\n",
        "from sklearn.preprocessing import StandardScaler, MinMaxScaler\n",
        "breast_cancer = load_breast_cancer(as_frame=True)\n",
        "data_df = breast_cancer.data\n",
        "target_df = breast_cancer.target\n",
        "y = np.array(target_df.tolist())"
      ]
    },
    {
      "cell_type": "code",
      "execution_count": null,
      "metadata": {
        "id": "TBW66Kz9edSQ"
      },
      "outputs": [],
      "source": [
        "# Data preprocessing: scaling"
      ]
    },
    {
      "cell_type": "code",
      "execution_count": null,
      "metadata": {
        "id": "67mq1bR-edSQ"
      },
      "outputs": [],
      "source": [
        "# data from this row looks like a normal distribution\n",
        "col_for_standard_scaler = ['mean radius', 'mean texture', 'mean perimeter', 'mean area',\n",
        "       'mean smoothness', 'mean compactness',\n",
        "       'mean concave points', 'mean symmetry', 'mean fractal dimension',\n",
        "       'texture error', 'smoothness error', 'compactness error', 'concavity error',\n",
        "       'concave points error', 'symmetry error',\n",
        "       'fractal dimension error', 'worst radius', 'worst texture',\n",
        "       'worst perimeter', 'worst area', 'worst smoothness',\n",
        "       'worst compactness', 'worst concave points',\n",
        "       'worst symmetry', 'worst fractal dimension']\n",
        "# data from this row doesn't look like a normal distribution\n",
        "col_for_maxmin_scaler = ['mean concavity', 'radius error', 'perimeter error', 'area error', 'worst concavity']"
      ]
    },
    {
      "cell_type": "code",
      "execution_count": null,
      "metadata": {
        "id": "tjeRF0bIedSQ"
      },
      "outputs": [],
      "source": [
        "std_scaler = StandardScaler()\n",
        "X = std_scaler.fit_transform(data_df.loc[:,col_for_standard_scaler])\n",
        "mm_scaler = MinMaxScaler()\n",
        "X = np.hstack((X, mm_scaler.fit_transform(data_df.loc[:,col_for_maxmin_scaler])))"
      ]
    },
    {
      "cell_type": "code",
      "execution_count": null,
      "metadata": {
        "id": "imvR8JH4edSR"
      },
      "outputs": [],
      "source": [
        "# Splitting data for training and testing sets"
      ]
    },
    {
      "cell_type": "code",
      "execution_count": null,
      "metadata": {
        "id": "ag97L0JnedSR"
      },
      "outputs": [],
      "source": [
        "X_train, X_test, y_train, y_test = train_test_split(X, y, test_size=0.2)"
      ]
    },
    {
      "cell_type": "code",
      "execution_count": null,
      "metadata": {
        "id": "P1Ak_0e3edSR"
      },
      "outputs": [],
      "source": [
        "# Checking for imbalance in sets"
      ]
    },
    {
      "cell_type": "code",
      "execution_count": null,
      "metadata": {
        "id": "uQMGBdtvedSR",
        "outputId": "b58258a5-f8c0-43a4-ded4-e86a33fa03ed"
      },
      "outputs": [
        {
          "name": "stdout",
          "output_type": "stream",
          "text": [
            "Number of samples per class in train set (array([0, 1]), array([168, 287]))\n",
            "Number of samples per class in test set (array([0, 1]), array([44, 70]))\n"
          ]
        }
      ],
      "source": [
        "unique_train = np.unique(y_train, return_counts=True)\n",
        "unique_test = np.unique(y_test, return_counts=True)\n",
        "print(\"Number of samples per class in train set\", unique_train)\n",
        "print(\"Number of samples per class in test set\", unique_test)"
      ]
    },
    {
      "cell_type": "code",
      "execution_count": null,
      "metadata": {
        "id": "FBrYfa_wedSR"
      },
      "outputs": [],
      "source": [
        "# Train and Test sets are imbalance"
      ]
    },
    {
      "cell_type": "code",
      "execution_count": null,
      "metadata": {
        "id": "fB7ywe_dedSS"
      },
      "outputs": [],
      "source": [
        "# Making sets balanced"
      ]
    },
    {
      "cell_type": "code",
      "execution_count": null,
      "metadata": {
        "id": "8dzHll62edSS"
      },
      "outputs": [],
      "source": [
        "# Calculate the difference between classes in train and test sets\n",
        "delta_in_train = unique_train[1][1] - unique_train[1][0]\n",
        "delta_in_test = unique_test[1][1] - unique_test[1][0]"
      ]
    },
    {
      "cell_type": "code",
      "execution_count": null,
      "metadata": {
        "id": "T1WnO6cxedSS",
        "outputId": "16abdebc-1d64-494f-8b2b-fc74605e0f5e"
      },
      "outputs": [
        {
          "name": "stdout",
          "output_type": "stream",
          "text": [
            "Shape of extended zero class (287, 31)\n"
          ]
        }
      ],
      "source": [
        "# Choose randomly from zero class delta_in_train samples and add them to train test\n",
        "a = np.c_[X_train, y_train]\n",
        "only_zero_class = a[(a[:,-1:]==0).flatten()]\n",
        "number_samples = only_zero_class.shape[0]\n",
        "idx = np.random.choice(np.array(range(number_samples)), delta_in_train , replace=False)\n",
        "only_zero_class_extended = np.vstack((only_zero_class[idx], only_zero_class))\n",
        "print(\"Shape of extended zero class\", only_zero_class_extended.shape)"
      ]
    },
    {
      "cell_type": "code",
      "execution_count": null,
      "metadata": {
        "id": "nZ-j2wEbedSS",
        "outputId": "5f80e20e-bef6-416a-ae4f-9aa2a7a34f27"
      },
      "outputs": [
        {
          "name": "stdout",
          "output_type": "stream",
          "text": [
            "Number of samples per class in train set (array([0., 1.]), array([287, 287]))\n"
          ]
        }
      ],
      "source": [
        "only_one_class = a[(a[:,-1:]==1).flatten()]\n",
        "all_classes = np.vstack((only_zero_class_extended, only_one_class))\n",
        "X_train, y_train = all_classes[:,:-1], all_classes[:,-1:]\n",
        "print(\"Number of samples per class in train set\", np.unique(y_train, return_counts=True))"
      ]
    },
    {
      "cell_type": "code",
      "execution_count": null,
      "metadata": {
        "id": "RootezI-edSS"
      },
      "outputs": [],
      "source": [
        "# Train set now is balanced"
      ]
    },
    {
      "cell_type": "code",
      "execution_count": null,
      "metadata": {
        "id": "myKmk_rgedST",
        "outputId": "95a9337e-87ee-4f0f-ccb2-ce147a70d044"
      },
      "outputs": [
        {
          "name": "stdout",
          "output_type": "stream",
          "text": [
            "Shape of extended zero class (70, 31)\n"
          ]
        }
      ],
      "source": [
        "# Choose randomly from zero class delta_in_train samples and add them to train test\n",
        "a = np.c_[X_test, y_test]\n",
        "only_zero_class = a[(a[:,-1:]==0).flatten()]\n",
        "number_samples = only_zero_class.shape[0]\n",
        "idx = np.random.choice(np.array(range(number_samples)), delta_in_test , replace=False)\n",
        "only_zero_class_extended = np.vstack((only_zero_class[idx], only_zero_class))\n",
        "print(\"Shape of extended zero class\", only_zero_class_extended.shape)"
      ]
    },
    {
      "cell_type": "code",
      "execution_count": null,
      "metadata": {
        "id": "sVVuzekQedST",
        "outputId": "a8bbf890-fe6c-4afc-c2a2-09c9fa4e0765"
      },
      "outputs": [
        {
          "name": "stdout",
          "output_type": "stream",
          "text": [
            "Number of samples per class in test set (array([0., 1.]), array([70, 70]))\n"
          ]
        }
      ],
      "source": [
        "only_one_class = a[(a[:,-1:]==1).flatten()]\n",
        "all_classes = np.vstack((only_zero_class_extended, only_one_class))\n",
        "X_test, y_test = all_classes[:,:-1], all_classes[:,-1:]\n",
        "print(\"Number of samples per class in test set\", np.unique(y_test, return_counts=True))"
      ]
    },
    {
      "cell_type": "code",
      "execution_count": null,
      "metadata": {
        "id": "yJeYvJgDedST"
      },
      "outputs": [],
      "source": [
        "# Test set now is balanced"
      ]
    },
    {
      "cell_type": "code",
      "execution_count": null,
      "metadata": {
        "id": "6Rc3FimvedST"
      },
      "outputs": [],
      "source": []
    },
    {
      "cell_type": "code",
      "execution_count": null,
      "metadata": {
        "scrolled": true,
        "id": "4czMDYjwedST",
        "outputId": "3eac0ed7-7dc2-432b-ba40-be9b64301612"
      },
      "outputs": [
        {
          "name": "stdout",
          "output_type": "stream",
          "text": [
            "Iteration 1000. Cost function=0.10655750578460972\n",
            "Iteration 2000. Cost function=0.08714433194924817\n",
            "Iteration 3000. Cost function=0.07860035126695948\n",
            "Iteration 4000. Cost function=0.07338299833048526\n",
            "Iteration 5000. Cost function=0.06972181681554955\n",
            "Iteration 6000. Cost function=0.06694933529081801\n",
            "Iteration 7000. Cost function=0.06474670925186407\n",
            "Iteration 8000. Cost function=0.06293788706072674\n",
            "Iteration 9000. Cost function=0.061415703629699246\n",
            "Iteration 10000. Cost function=0.060110226563773746\n",
            "Iteration 11000. Cost function=0.058973398519301945\n",
            "Iteration 12000. Cost function=0.05797085694039366\n",
            "Iteration 13000. Cost function=0.0570772492008927\n",
            "Iteration 14000. Cost function=0.056273390125774876\n",
            "Iteration 15000. Cost function=0.05554445466711583\n",
            "Iteration 16000. Cost function=0.054878783579948624\n",
            "Iteration 17000. Cost function=0.05426706838043157\n",
            "Iteration 18000. Cost function=0.05370177982354036\n",
            "Iteration 19000. Cost function=0.05317675773913447\n",
            "Iteration 20000. Cost function=0.052686910720095174\n"
          ]
        }
      ],
      "source": [
        "lr = MyLogisticRegression()\n",
        "lr.fit(X_train, y_train, learning_rate=0.01, iterations=20000, show_cost_every_iter=1000)"
      ]
    },
    {
      "cell_type": "code",
      "execution_count": null,
      "metadata": {
        "id": "BwanqzS1edST",
        "outputId": "096d53f7-3a2b-4b9d-8e69-dc4ea399e082"
      },
      "outputs": [
        {
          "name": "stdout",
          "output_type": "stream",
          "text": [
            "Accuracy of current implementation = 0.9714285714285714\n"
          ]
        }
      ],
      "source": [
        "y_hat_test, prob_test = lr.predict(X_test)\n",
        "print(\"Accuracy of current implementation =\", accuracy_score(y_test, y_hat_test))"
      ]
    },
    {
      "cell_type": "code",
      "execution_count": null,
      "metadata": {
        "id": "hPqD1zVzedSU",
        "outputId": "7c24c9e5-57b7-4407-8fb7-503334aabddf"
      },
      "outputs": [
        {
          "name": "stdout",
          "output_type": "stream",
          "text": [
            "Accuracy of implementation from sklearn = 0.95\n"
          ]
        }
      ],
      "source": [
        "clf = LogisticRegression(random_state=0, penalty='none').fit(X_train, y_train.ravel())\n",
        "y_hat_test_clf = clf.predict(X_test)\n",
        "print(\"Accuracy of implementation from sklearn =\", accuracy_score(y_test, y_hat_test_clf))"
      ]
    },
    {
      "cell_type": "code",
      "execution_count": null,
      "metadata": {
        "id": "Wg1z7kRKedSU"
      },
      "outputs": [],
      "source": []
    }
  ],
  "metadata": {
    "kernelspec": {
      "display_name": "Python 3",
      "language": "python",
      "name": "python3"
    },
    "language_info": {
      "codemirror_mode": {
        "name": "ipython",
        "version": 3
      },
      "file_extension": ".py",
      "mimetype": "text/x-python",
      "name": "python",
      "nbconvert_exporter": "python",
      "pygments_lexer": "ipython3",
      "version": "3.8.10"
    },
    "colab": {
      "provenance": [],
      "include_colab_link": true
    }
  },
  "nbformat": 4,
  "nbformat_minor": 0
}